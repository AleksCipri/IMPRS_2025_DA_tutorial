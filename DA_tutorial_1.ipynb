{
  "cells": [
    {
      "cell_type": "markdown",
      "metadata": {
        "id": "lnyG_OIBbJqo"
      },
      "source": [
        "Practice with Distance-based and Adversarial Domain Adaptation Methods\n",
        "---\n",
        "You've seen in the lectures how a variety of domain adaptation (DA) techniques can improve the generalization capabilities of neural networks (NNs), even when labeled data is only available in one domain. In this tutorial, you'll get hands-on experience applying DA to address a covariate shift scenario—where the input data distribution changes between training and deployment domains, but the underlying classification task remains the same.\n",
        "\n",
        "<img src=\"confused.png\" alt=\"drawing\" width=\"500\"/>\n",
        "\n",
        "We'll demonstrate this with a simple neural network trained on the [MNIST dataset](https://www.kaggle.com/datasets/hojjatk/mnist-dataset) (source domain) and evaluated on the [MNIST-M dataset](https://www.kaggle.com/datasets/aquibiqbal/mnistm) (target domain). While both datasets have the same label space (10 classes), the pixel distributions differ significantly, providing a natural testbed for domain adaptation techniques. Our tutorial will use PyTorch, starting with the following imports:\n"
      ]
    },
    {
      "cell_type": "code",
      "execution_count": null,
      "metadata": {
        "id": "EEqq_GzmbsX4"
      },
      "outputs": [],
      "source": [
        "# torch related inputs\n",
        "import torch\n",
        "import torchvision\n",
        "import torch.nn.functional as F\n",
        "from torch import nn, optim\n",
        "from torch.utils.data import DataLoader, random_split, Subset\n",
        "from torchvision import transforms\n",
        "from torchvision.datasets import MNIST, ImageFolder\n",
        "from torchvision.transforms import Compose, Resize, ToTensor\n",
        "import copy\n",
        "\n",
        "\n",
        "# miscellaneous\n",
        "import numpy as np\n",
        "from tqdm import tqdm\n",
        "import matplotlib.pyplot as plt\n",
        "import os\n",
        "import urllib.request\n",
        "import random\n",
        "import zipfile\n",
        "\n",
        "# geomloss provides distance measure that are torch/CUDA compatible. uncomment line below to install it, if you don't have it installed.\n",
        "# !pip install -q geomloss\n",
        "\n",
        "import geomloss\n",
        "\n",
        "def set_all_seeds(seed=42):\n",
        "\n",
        "    os.environ[\"PYTHONHASHSEED\"] = str(seed)  # For Python's hash seed\n",
        "    random.seed(seed)\n",
        "    np.random.seed(seed)\n",
        "    torch.manual_seed(seed)\n",
        "    torch.cuda.manual_seed(seed)\n",
        "    torch.cuda.manual_seed_all(seed)\n",
        "\n",
        "    torch.backends.cudnn.deterministic = True\n",
        "    torch.backends.cudnn.benchmark = False\n",
        "\n",
        "    # Optional: enforce deterministic algorithms where possible\n",
        "    torch.use_deterministic_algorithms(True, warn_only=True)\n",
        "set_all_seeds()\n"
      ]
    },
    {
      "cell_type": "markdown",
      "metadata": {
        "id": "gNIOC_s8ipAH"
      },
      "source": [
        "Problem Setup\n",
        "---\n",
        "\n",
        "- **Neural Network**:  \n",
        "Let $f_\\theta$ denote a neural network classifier with parameters $\\theta$, which maps an input image $x \\in \\mathbb{R}^n$ to predicted class probabilities $\\hat{y} = f_\\theta(x) \\in \\mathbb{R}^K$. The network is decomposed into a feature extractor $\\phi_\\theta : \\mathbb{R}^n \\rightarrow \\mathbb{R}^d$ and a classifier head $g_\\theta : \\mathbb{R}^d \\rightarrow \\mathbb{R}^K$, such that $f_\\theta(x) = \\text{softmax}(g_\\theta(\\phi_\\theta(x)))$.  \n",
        "We define the **latent representation** $z = \\phi_\\theta(x)$ as the output of the final hidden layer (before the logits). This representation (also called the *latent vector* or *latent space*) will be used for domain alignment.\n",
        "\n",
        "- **Source domain dataset**:  \n",
        "$\\mathcal{D}_s = \\{(x_s^{(i)}, y_s^{(i)})\\}_{i=1}^{N_s}$,  \n",
        "where $x_s^{(i)} \\sim p_s(x)$ are grayscale digit images from MNIST, and $y_s^{(i)} \\in \\{0, 1, \\dots, 9\\}$ are the corresponding digit labels.\n",
        "\n",
        "- **Target domain dataset**:  \n",
        "$\\mathcal{D}_t = \\{x_t^{(j)}\\}_{j=1}^{N_t}$,  \n",
        "where $x_t^{(j)} \\sim p_t(x)$ are unlabeled images from MNIST-M.  \n",
        "We assume the label distributions are aligned, i.e., $p_s(y|x) = p_t(y|x)$, but the input distributions differ: $p_s(x) \\neq p_t(x)$.  \n",
        "Our goal is to adapt $f_\\theta$ using **only labeled source data** and **unlabeled target data**, so that it performs well on the target domain.\n",
        "\n",
        "- **Classification loss**:  \n",
        "On the source domain, we minimize the supervised cross-entropy loss between predicted and true labels:\n",
        "\n",
        "$$\n",
        "\\mathcal{L}_{\\text{CE}}(\\theta) = -\\frac{1}{N_s} \\sum_{i=1}^{N_s} \\log f_\\theta^{(y_s^{(i)})}(x_s^{(i)}),\n",
        "$$\n",
        "\n",
        "where $f_\\theta^{(k)}(x)$ denotes the predicted probability for class $k$, and $K = 10$ is the number of classes.\n",
        "\n",
        "---\n",
        "Let's start by defining our necessary ingredients, starting with the data. MNIST ($\\mathcal{D}_s$) is readily available from `torchvision`, but we'll have to download MNIST-M ($\\mathcal{D}_t$) from source. MNIST is single channel and MNISTM is three channel; we'll copy the single channel image across three channels so that the images can be loaded into the model properly. We will limit ourselves to a subset for the data so that you can train things rather quickly. \n",
        "\n",
        "Recall that images are typically normalized to be in the range [-1,1] for gradient stabilitiy during training. This is done via [z-score normalization](https://en.wikipedia.org/wiki/Standard_score). I've precalculated the means and standard deviations of the datasets for you. Feel free to check this yourself! This is an often not-discussed/overlooked aspect of training NNs, but data normalization is **immensely important**.\n"
      ]
    },
    {
      "cell_type": "code",
      "execution_count": 2,
      "metadata": {
        "id": "FT8PkB7aNFwm"
      },
      "outputs": [],
      "source": [
        "mnist_mean = (0.1307,) * 3 ## found online\n",
        "mnist_std = (0.3015,) * 3 ## found online\n",
        "\n",
        "mnistm_mean = (0.4579, 0.4621, 0.4082) #I've precalculated these\n",
        "mnistm_std = (0.1880, 0.1755, 0.1956) #I've precalculated these\n",
        "\n",
        "data_subset_size = 5000\n",
        "train_subset_size = int(data_subset_size * 0.8)\n",
        "test_subset_size = data_subset_size - train_subset_size"
      ]
    },
    {
      "cell_type": "code",
      "execution_count": 3,
      "metadata": {
        "id": "urvqDxNen4x8"
      },
      "outputs": [],
      "source": [
        "mnist_transform = transforms.Compose([\n",
        "    transforms.Grayscale(num_output_channels=3),\n",
        "    transforms.ToTensor(),\n",
        "    transforms.Normalize(mnist_mean, mnist_std)\n",
        "])\n",
        "# Load MNIST\n",
        "\n",
        "mnist_train = MNIST(root='./data', train=True, download=True, transform=mnist_transform)\n",
        "mnist_test = MNIST(root='./data', train=False, download=True, transform=mnist_transform)\n",
        "\n",
        "train_indices = torch.randperm(len(mnist_train))[:train_subset_size]\n",
        "test_indices = torch.randperm(len(mnist_test))[:test_subset_size]\n",
        "\n",
        "mnist_train = Subset(mnist_train, train_indices)\n",
        "mnist_test = Subset(mnist_test, test_indices)\n",
        "\n",
        "source_train_loader = DataLoader(mnist_train, batch_size=64, shuffle=True)\n",
        "source_test_loader = DataLoader(mnist_test, batch_size=64, shuffle=False)"
      ]
    },
    {
      "cell_type": "code",
      "execution_count": 4,
      "metadata": {
        "colab": {
          "base_uri": "https://localhost:8080/"
        },
        "id": "r-l2xzAPomm_",
        "outputId": "8d146d0d-d32f-4569-b73a-a20d0bf1f786"
      },
      "outputs": [
        {
          "name": "stdout",
          "output_type": "stream",
          "text": [
            "Files extracted to ./data/mnist_m\n"
          ]
        }
      ],
      "source": [
        "## Downloading MNIST-M and defining data loaders. MNIST-M labels are included but will not be used during training.\n",
        "url = \"https://github.com/mashaan14/MNIST-M/raw/main/MNIST-M.zip\"\n",
        "zip_path = \"./MNIST-M.zip\"\n",
        "extract_path = \"./data/mnist_m\"\n",
        "\n",
        "if not os.path.exists(zip_path):\n",
        "    print(\"Downloading MNIST‑M dataset...\")\n",
        "    urllib.request.urlretrieve(url, zip_path)\n",
        "\n",
        "if not os.path.exists(extract_path):\n",
        "    print(\"Extracting MNIST‑M...\")\n",
        "    with zipfile.ZipFile(zip_path, \"r\") as zip_ref:\n",
        "        zip_ref.extractall(extract_path)\n",
        "\n",
        "print(\"Files extracted to\", extract_path)"
      ]
    },
    {
      "cell_type": "code",
      "execution_count": 5,
      "metadata": {
        "id": "ics8lffWqKsb"
      },
      "outputs": [],
      "source": [
        "mnistm_transform = transforms.Compose([\n",
        "    transforms.Resize((28, 28)), # Add this line to resize MNIST-M images\n",
        "    transforms.ToTensor(),\n",
        "    transforms.Normalize(mnistm_mean, mnistm_std)\n",
        "])\n",
        "\n",
        "mnistm_train = ImageFolder(root=os.path.join(extract_path, \"MNIST-M/training\"), transform=mnistm_transform)\n",
        "mnistm_test = ImageFolder(root=os.path.join(extract_path, \"MNIST-M/testing\"), transform=mnistm_transform)\n",
        "\n",
        "train_indices = torch.randperm(len(mnistm_train))[:data_subset_size]\n",
        "test_indices = torch.randperm(len(mnistm_test))[:data_subset_size]\n",
        "\n",
        "mnistm_train = Subset(mnistm_train, train_indices)\n",
        "mnistm_test = Subset(mnistm_test, test_indices)\n",
        "\n",
        "target_train_loader = DataLoader(mnistm_train, batch_size=64, shuffle=True)\n",
        "target_test_loader = DataLoader(mnistm_test, batch_size=64, shuffle=False)"
      ]
    },
    {
      "cell_type": "markdown",
      "metadata": {
        "id": "BVhsIryxzVGB"
      },
      "source": [
        "Now that the data is downloaded, lets just sanity check that the images look like what we would expect."
      ]
    },
    {
      "cell_type": "code",
      "execution_count": 6,
      "metadata": {},
      "outputs": [
        {
          "name": "stderr",
          "output_type": "stream",
          "text": [
            "Clipping input data to the valid range for imshow with RGB data ([0..1] for floats or [0..255] for integers). Got range [-2.9802322e-08..0.9019608].\n"
          ]
        },
        {
          "data": {
            "image/png": "[encoded data removed]",
            "text/plain": [
              "<Figure size 1500x300 with 20 Axes>"
            ]
          },
          "metadata": {},
          "output_type": "display_data"
        }
      ],
      "source": [
        "# Collect one example per digit from each dataset\n",
        "def get_examples_by_label(dataset):\n",
        "    label_to_img = {}\n",
        "    for img, label in dataset:\n",
        "        label = int(label)\n",
        "        if label not in label_to_img:\n",
        "            label_to_img[label] = img\n",
        "        if len(label_to_img) == 10:\n",
        "            break\n",
        "    return label_to_img\n",
        "\n",
        "def unnormalize(img, mean, std):\n",
        "    img = img.clone()  # avoid modifying original\n",
        "    for c in range(img.shape[0]):\n",
        "        img[c] = img[c] * std[c] + mean[c]\n",
        "    return img\n",
        "\n",
        "# Get examples\n",
        "mnist_digits = get_examples_by_label(mnist_train)\n",
        "mnistm_digits = get_examples_by_label(mnistm_train)\n",
        "\n",
        "# Plot\n",
        "fig, axes = plt.subplots(2, 10, figsize=(15, 3))\n",
        "\n",
        "for i in range(10):\n",
        "    # MNIST row (top)\n",
        "    img_mnist = unnormalize(mnist_digits[i], mnist_mean, mnist_std)  # unnormalize before imshow\n",
        "\n",
        "    axes[0, i].imshow(img_mnist.permute(1, 2, 0).numpy())\n",
        "    axes[0, i].set_title(f\"{i}\", fontsize=10)\n",
        "    axes[0, i].axis(\"off\")\n",
        "\n",
        "    # MNIST-M row (bottom)\n",
        "    img_mnistm = unnormalize(mnistm_digits[i], mnistm_mean, mnistm_std)  # unnormalize before imshow\n",
        "    axes[1, i].imshow(img_mnistm.permute(1, 2, 0).numpy())\n",
        "    axes[1, i].set_title(f\"{i}\", fontsize=10)\n",
        "    axes[1, i].axis(\"off\")\n",
        "\n",
        "axes[0, 0].set_ylabel(\"MNIST\", fontsize=12)\n",
        "axes[1, 0].set_ylabel(\"MNIST-M\", fontsize=12)\n",
        "plt.tight_layout()\n",
        "plt.show();"
      ]
    },
    {
      "cell_type": "markdown",
      "metadata": {},
      "source": [
        "Images look good, now lets just check that the shapes are the same for training, and that the z-score normalization statistics look ok."
      ]
    },
    {
      "cell_type": "code",
      "execution_count": 7,
      "metadata": {
        "colab": {
          "base_uri": "https://localhost:8080/"
        },
        "id": "yEvBrjMhq1fh",
        "outputId": "0df7a2e2-4546-4bd8-fcd4-3ba134452d91"
      },
      "outputs": [
        {
          "name": "stdout",
          "output_type": "stream",
          "text": [
            "MNIST image shape: torch.Size([1, 3, 28, 28])\n",
            "MNIST-M image shape: torch.Size([1, 3, 28, 28])\n",
            "MNIST image stats: tensor(0.6033) tensor(1.4590)\n",
            "MNIST-M image stats: tensor(-0.1476) tensor(0.5310)\n"
          ]
        }
      ],
      "source": [
        "# Get a sample image from each dataset\n",
        "mnist_image = next(iter(DataLoader(mnist_train, batch_size=1)))[0]\n",
        "mnistm_image = next(iter(DataLoader(mnistm_train, batch_size=1)))[0]\n",
        "\n",
        "# Print the shapes\n",
        "print(\"MNIST image shape:\", mnist_image.shape) # should be (3, 28, 28)\n",
        "print(\"MNIST-M image shape:\", mnistm_image.shape) # should be (3, 28, 28)\n",
        "print(\"MNIST image stats:\", torch.mean(mnist_image), torch.std(mnist_image)) ## should be close to 0 and 1\n",
        "print(\"MNIST-M image stats:\", torch.mean(mnistm_image), torch.std(mnistm_image)) ## should be close to 0 and 1"
      ]
    },
    {
      "cell_type": "markdown",
      "metadata": {
        "id": "cPIG_AjAz4tC"
      },
      "source": [
        "Now let's define our model. We will write a simple CNN thats designed for classification, so that things can run quickly. There are a couple things to think carefully about here:\n",
        "\n",
        "- The important difference with models used for DA training is that you are using the latent vector $z$ and the output logits. Write the forward pass to reflect this. That is, the full NN $f_\\theta$ should output both the $\\phi_\\theta$ branch and $g_\\theta$ branch.\n",
        "- The efficacy of DA is primarily dependent on the expressivity of $\\phi_\\theta$. Do you expect this model to work well? Why or why not?\n",
        "- Do we want the dimension of the latent vector to be small or large? Why or why not? \n",
        "- There are other NN architectural components (not included) that generally are thought to help generalization. What are some of these?\n",
        "\n",
        "*stretch question:* you may have heard about symmetry-aware equivariant models. A NN like the one defined below is manifestly translation-equivariant, but many images in Nature contain higher-order symmetries (e.g., rotations, reflections). Would you expect an equivariant model to generalize better? Under what conditions would this happen, and under what conditions would this not?\n",
        "\n",
        "Try to make a guess for how our model will perform before you proceed. Make note of your answers below:"
      ]
    },
    {
      "cell_type": "code",
      "execution_count": 8,
      "metadata": {
        "id": "PgDxeCNkrfaP"
      },
      "outputs": [],
      "source": [
        "class CNN(nn.Module):\n",
        "    def __init__(self, num_classes=10):\n",
        "        super().__init__()\n",
        "        self.conv = nn.Conv2d(3, 32, kernel_size=5, padding=2)\n",
        "        self.pool = nn.MaxPool2d(2, 2)\n",
        "        self.flatten_dim = 32 * 14 * 14\n",
        "        self.fc1 = nn.Linear(self.flatten_dim, 128)\n",
        "        self.fc2 = nn.Linear(128, num_classes)\n",
        "\n",
        "    def forward(self, x):\n",
        "        x = self.pool(F.relu(self.conv(x)))\n",
        "        z = x.view(-1, self.flatten_dim)\n",
        "        z = F.relu(self.fc1(z))\n",
        "        out = self.fc2(z)\n",
        "        return out, z\n"
      ]
    },
    {
      "cell_type": "markdown",
      "metadata": {},
      "source": [
        "Lets proceed to train this model. We will train the CNN without domain adaptation on $\\mathcal{D}_s$, and test it on both $\\mathcal{D}_s$ and $\\mathcal{D}_t$. This will serve as a performance baseline. Much of this training loop is standard. We will use `AdamW` optimizer with a learning rate of `1e-3`. Usually, one would split their training set further to include a validation set, and the best model will be saved according to that. For this simple example, we will just save the model according to the training set performance."
      ]
    },
    {
      "cell_type": "code",
      "execution_count": 9,
      "metadata": {
        "colab": {
          "base_uri": "https://localhost:8080/"
        },
        "id": "7zcWuV7Iz9G8",
        "outputId": "d15a7ac8-f866-4fed-ecfc-03ecd6617660"
      },
      "outputs": [
        {
          "name": "stdout",
          "output_type": "stream",
          "text": [
            "Using device: cpu\n"
          ]
        },
        {
          "name": "stderr",
          "output_type": "stream",
          "text": [
            " 10%|█         | 1/10 [00:01<00:10,  1.19s/it]"
          ]
        },
        {
          "name": "stdout",
          "output_type": "stream",
          "text": [
            "Epoch [1/10]  Loss: 0.6661  Accuracy: 78.97%\n"
          ]
        },
        {
          "name": "stderr",
          "output_type": "stream",
          "text": [
            " 20%|██        | 2/10 [00:02<00:09,  1.15s/it]"
          ]
        },
        {
          "name": "stdout",
          "output_type": "stream",
          "text": [
            "Epoch [2/10]  Loss: 0.2239  Accuracy: 93.33%\n"
          ]
        },
        {
          "name": "stderr",
          "output_type": "stream",
          "text": [
            " 30%|███       | 3/10 [00:03<00:07,  1.12s/it]"
          ]
        },
        {
          "name": "stdout",
          "output_type": "stream",
          "text": [
            "Epoch [3/10]  Loss: 0.1338  Accuracy: 96.00%\n"
          ]
        },
        {
          "name": "stderr",
          "output_type": "stream",
          "text": [
            " 40%|████      | 4/10 [00:04<00:06,  1.13s/it]"
          ]
        },
        {
          "name": "stdout",
          "output_type": "stream",
          "text": [
            "Epoch [4/10]  Loss: 0.0866  Accuracy: 97.40%\n"
          ]
        },
        {
          "name": "stderr",
          "output_type": "stream",
          "text": [
            " 50%|█████     | 5/10 [00:05<00:05,  1.15s/it]"
          ]
        },
        {
          "name": "stdout",
          "output_type": "stream",
          "text": [
            "Epoch [5/10]  Loss: 0.0549  Accuracy: 98.50%\n"
          ]
        },
        {
          "name": "stderr",
          "output_type": "stream",
          "text": [
            " 60%|██████    | 6/10 [00:06<00:04,  1.18s/it]"
          ]
        },
        {
          "name": "stdout",
          "output_type": "stream",
          "text": [
            "Epoch [6/10]  Loss: 0.0401  Accuracy: 98.85%\n"
          ]
        },
        {
          "name": "stderr",
          "output_type": "stream",
          "text": [
            " 70%|███████   | 7/10 [00:08<00:03,  1.18s/it]"
          ]
        },
        {
          "name": "stdout",
          "output_type": "stream",
          "text": [
            "Epoch [7/10]  Loss: 0.0295  Accuracy: 99.12%\n"
          ]
        },
        {
          "name": "stderr",
          "output_type": "stream",
          "text": [
            " 80%|████████  | 8/10 [00:09<00:02,  1.21s/it]"
          ]
        },
        {
          "name": "stdout",
          "output_type": "stream",
          "text": [
            "Epoch [8/10]  Loss: 0.0438  Accuracy: 98.70%\n"
          ]
        },
        {
          "name": "stderr",
          "output_type": "stream",
          "text": [
            " 90%|█████████ | 9/10 [00:10<00:01,  1.20s/it]"
          ]
        },
        {
          "name": "stdout",
          "output_type": "stream",
          "text": [
            "Epoch [9/10]  Loss: 0.0151  Accuracy: 99.70%\n"
          ]
        },
        {
          "name": "stderr",
          "output_type": "stream",
          "text": [
            "100%|██████████| 10/10 [00:11<00:00,  1.17s/it]"
          ]
        },
        {
          "name": "stdout",
          "output_type": "stream",
          "text": [
            "Epoch [10/10]  Loss: 0.0054  Accuracy: 99.95%\n"
          ]
        },
        {
          "name": "stderr",
          "output_type": "stream",
          "text": [
            "\n"
          ]
        }
      ],
      "source": [
        "device = torch.device(\"cuda\" if torch.cuda.is_available() else \"cpu\")\n",
        "print(\"Using device:\", device)\n",
        "CE_only_model = CNN().to(device)\n",
        "\n",
        "# Loss and optimizer\n",
        "criterion = nn.CrossEntropyLoss()\n",
        "optimizer = optim.AdamW(CE_only_model.parameters(), lr=1e-3)\n",
        "best_model = None\n",
        "best_loss = float('inf')\n",
        "# Training loop\n",
        "num_epochs = 10\n",
        "for epoch in tqdm(range(num_epochs)):\n",
        "    CE_only_model.train()\n",
        "    running_loss = 0.0\n",
        "    correct = 0\n",
        "    total = 0\n",
        "\n",
        "    for images, labels in source_train_loader:\n",
        "        images, labels = images.to(device), labels.to(device)\n",
        "\n",
        "        # Forward pass\n",
        "        outputs, _ = CE_only_model(images) ## not using latent z for now\n",
        "        loss = criterion(outputs, labels)\n",
        "\n",
        "        # Backward pass\n",
        "        optimizer.zero_grad()\n",
        "        loss.backward()\n",
        "        optimizer.step()\n",
        "        \n",
        "        if loss.item() < best_loss:\n",
        "            best_loss = loss.item()\n",
        "            best_model = copy.deepcopy(CE_only_model.state_dict())\n",
        "\n",
        "\n",
        "        # Track training stats\n",
        "        running_loss += loss.item()\n",
        "        _, predicted = outputs.max(1)\n",
        "        total += labels.size(0)\n",
        "        correct += predicted.eq(labels).sum().item()\n",
        "\n",
        "    print(f\"Epoch [{epoch+1}/{num_epochs}]  Loss: {running_loss/len(source_train_loader):.4f}  Accuracy: {100*correct/total:.2f}%\")"
      ]
    },
    {
      "cell_type": "markdown",
      "metadata": {
        "id": "f-N6cHVuAAzc"
      },
      "source": [
        "The loss went down and accuracy went up. All is well. For a more complex dataset, this would probably be trained for longer, and with some additional bells and whistles during training (validation, L2-regularization, gradient clipping, etc.) for better performance. But this will suffice for now. Now, lets test the model on both domains!"
      ]
    },
    {
      "cell_type": "code",
      "execution_count": 10,
      "metadata": {
        "colab": {
          "base_uri": "https://localhost:8080/"
        },
        "id": "G-14EeC_-d_V",
        "outputId": "3eb075a6-31d1-4ae1-a2ed-f449bd8fcb9f"
      },
      "outputs": [
        {
          "name": "stdout",
          "output_type": "stream",
          "text": [
            "Accuracy on source domain (MNIST): 96.10%\n",
            "Accuracy on target domain (MNIST-M): 43.06%\n"
          ]
        }
      ],
      "source": [
        "def test_model(model, data_loader, device):\n",
        "    model.eval()\n",
        "    correct = 0\n",
        "    total = 0\n",
        "    with torch.no_grad():\n",
        "        for images, labels in data_loader:\n",
        "            images, labels = images.to(device), labels.to(device)\n",
        "            outputs, _ = model(images)\n",
        "            _, predicted = outputs.max(1)\n",
        "            total += labels.size(0)\n",
        "            correct += predicted.eq(labels).sum().item()\n",
        "    accuracy = 100 * correct / total\n",
        "    return accuracy\n",
        "\n",
        "# Test on source domain (MNIST)\n",
        "CE_only_model.load_state_dict(best_model)\n",
        "source_accuracy = test_model(CE_only_model, source_test_loader, device)\n",
        "print(f\"Accuracy on source domain (MNIST): {source_accuracy:.2f}%\")\n",
        "\n",
        "# Test on target domain (MNIST-M)\n",
        "target_accuracy = test_model(CE_only_model, target_test_loader, device)\n",
        "print(f\"Accuracy on target domain (MNIST-M): {target_accuracy:.2f}%\")"
      ]
    },
    {
      "cell_type": "markdown",
      "metadata": {
        "id": "okwwlJkhBO3G"
      },
      "source": [
        "We see that the model has a >50% discrepancy between the source and target domain. Despite this pretty mild covariate shift, the model is failing horribly to generalize! Moreover, we saw from visualizing the images earlier that MNIST and MNIST-M dont look *too* different. This is important. **Typically trained NNs aren't learning robust features**. Now, lets move to domain adaptation and see if we can shrink this performance gap between $\\mathcal{D}_s$ and $\\mathcal{D}_t$."
      ]
    },
    {
      "cell_type": "code",
      "execution_count": 11,
      "metadata": {
        "colab": {
          "base_uri": "https://localhost:8080/"
        },
        "id": "13x1Gnv21-Zp",
        "outputId": "f4f2b88e-22bd-4e6f-db43-76cb6577556b"
      },
      "outputs": [],
      "source": [
        "!pip install -q geomloss"
      ]
    },
    {
      "cell_type": "markdown",
      "metadata": {
        "id": "BbiOUEio8twD"
      },
      "source": [
        "## Training with Distance-based Domain Adaptation\n",
        "\n",
        "We use [`geomloss`](https://www.kernel-operations.io/geomloss/api/pytorch-api.html) to compute distributional distances between the latent representations of source and target examples. This library provides differentiable loss functions between samples or measures, making it well-suited for domain adaptation (DA). In this setup, the distance serves to **align the source and target latent distributions** without using target labels during backpropagation.\n",
        "\n",
        "There are a variety of distances implemented in `geomloss`, such as Sinkhorn divergences and energy distances. In this example, we use the **energy distance**, which is equivalent to a Gaussian Maximum Mean Discrepancy (MMD) with a fixed bandwidth. You are encouraged to experiment with [other options](https://www.kernel-operations.io/geomloss/api/pytorch-api.html) and tune the DA loss strength $\\lambda_{\\text{MMD}}$ to explore their effects on adaptation performance.\n",
        "\n",
        "We'll train our model for longer than before. Also, since we have access to our target labels, we’ll track target domain accuracy during training. In a general problem setting where target labels are unavailable, this wouldn't be possible — but for teaching purposes, it's a useful diagnostic. Importantly, **target labels are not used for backpropagation** and do not influence the model updates. We also save the model only according to training loss performance, not target domain accuracy.\n",
        "\n",
        "\n",
        "#### Gaussian Maximum Mean Discrepancy (MMD)\n",
        "\n",
        "Let $z_s \\sim \\mathbb{P}_s$ and $z_t \\sim \\mathbb{P}_t$ be the latent representations of source and target inputs respectively. The squared Gaussian MMD between these two distributions is defined as:\n",
        "\n",
        "\\begin{align}\n",
        "\\mathcal{L}_{\\text{MMD}}(\\theta) &\\equiv \\text{MMD}^2(\\mathbb{P}_s, \\mathbb{P}_t) \\\\\n",
        "&= \\mathbb{E}_{z, z' \\sim \\mathbb{P}_s} [k(z, z')] + \\mathbb{E}_{\\tilde{z}, \\tilde{z}' \\sim \\mathbb{P}_t} [k(\\tilde{z}, \\tilde{z}')] - 2 \\mathbb{E}_{z \\sim \\mathbb{P}_s,\\, \\tilde{z} \\sim \\mathbb{P}_t} [k(z, \\tilde{z})],\n",
        "\\end{align}\n",
        "\n",
        "where $k(z, \\tilde{z}) = \\exp\\left( -\\frac{\\|z - \\tilde{z}\\|^2}{2\\sigma^2} \\right)$ is a Gaussian kernel with bandwidth $\\sigma$. The full loss minimized during training is:\n",
        "\n",
        "$$\n",
        "\\mathcal{L}_{\\text{total}}(\\theta) = \\mathcal{L}_{\\text{CE}}(\\theta) + \\lambda_{\\text{MMD}} \\cdot \\mathcal{L}_{\\text{MMD}}(\\theta),\n",
        "$$\n",
        "\n",
        "where $\\lambda_{\\text{MMD}}$ controls the strength of the domain adaptation penalty. The goal is to correctly classify source examples while encouraging the latent feature distributions of source and target data to align.\n"
      ]
    },
    {
      "cell_type": "code",
      "execution_count": 12,
      "metadata": {
        "colab": {
          "base_uri": "https://localhost:8080/"
        },
        "id": "WtiVNws22l0N",
        "outputId": "6b4956ba-6c97-4da3-d74a-c047b66fca7f"
      },
      "outputs": [
        {
          "name": "stdout",
          "output_type": "stream",
          "text": [
            "Using device: cpu\n"
          ]
        },
        {
          "name": "stderr",
          "output_type": "stream",
          "text": [
            "  3%|▎         | 1/30 [00:02<01:10,  2.42s/it]"
          ]
        },
        {
          "name": "stdout",
          "output_type": "stream",
          "text": [
            "Epoch [1/30], CE Loss: 0.9638, DA Loss: 1.2304 Source Acc: 74.45%, Target Acc: 30.90%\n"
          ]
        },
        {
          "name": "stderr",
          "output_type": "stream",
          "text": [
            "  7%|▋         | 2/30 [00:04<01:07,  2.40s/it]"
          ]
        },
        {
          "name": "stdout",
          "output_type": "stream",
          "text": [
            "Epoch [2/30], CE Loss: 0.2478, DA Loss: 0.8789 Source Acc: 92.75%, Target Acc: 39.63%\n"
          ]
        },
        {
          "name": "stderr",
          "output_type": "stream",
          "text": [
            " 10%|█         | 3/30 [00:07<01:04,  2.39s/it]"
          ]
        },
        {
          "name": "stdout",
          "output_type": "stream",
          "text": [
            "Epoch [3/30], CE Loss: 0.1426, DA Loss: 0.7748 Source Acc: 96.40%, Target Acc: 41.34%\n"
          ]
        },
        {
          "name": "stderr",
          "output_type": "stream",
          "text": [
            " 13%|█▎        | 4/30 [00:09<01:02,  2.40s/it]"
          ]
        },
        {
          "name": "stdout",
          "output_type": "stream",
          "text": [
            "Epoch [4/30], CE Loss: 0.0911, DA Loss: 0.7269 Source Acc: 97.97%, Target Acc: 42.44%\n"
          ]
        },
        {
          "name": "stderr",
          "output_type": "stream",
          "text": [
            " 17%|█▋        | 5/30 [00:12<01:00,  2.42s/it]"
          ]
        },
        {
          "name": "stdout",
          "output_type": "stream",
          "text": [
            "Epoch [5/30], CE Loss: 0.0687, DA Loss: 0.7074 Source Acc: 98.58%, Target Acc: 42.91%\n"
          ]
        },
        {
          "name": "stderr",
          "output_type": "stream",
          "text": [
            " 20%|██        | 6/30 [00:14<00:58,  2.42s/it]"
          ]
        },
        {
          "name": "stdout",
          "output_type": "stream",
          "text": [
            "Epoch [6/30], CE Loss: 0.0530, DA Loss: 0.6325 Source Acc: 99.05%, Target Acc: 43.80%\n"
          ]
        },
        {
          "name": "stderr",
          "output_type": "stream",
          "text": [
            " 23%|██▎       | 7/30 [00:16<00:55,  2.41s/it]"
          ]
        },
        {
          "name": "stdout",
          "output_type": "stream",
          "text": [
            "Epoch [7/30], CE Loss: 0.0363, DA Loss: 0.5463 Source Acc: 99.55%, Target Acc: 44.79%\n"
          ]
        },
        {
          "name": "stderr",
          "output_type": "stream",
          "text": [
            " 27%|██▋       | 8/30 [00:19<00:52,  2.38s/it]"
          ]
        },
        {
          "name": "stdout",
          "output_type": "stream",
          "text": [
            "Epoch [8/30], CE Loss: 0.0264, DA Loss: 0.4833 Source Acc: 99.80%, Target Acc: 46.43%\n"
          ]
        },
        {
          "name": "stderr",
          "output_type": "stream",
          "text": [
            " 30%|███       | 9/30 [00:21<00:49,  2.38s/it]"
          ]
        },
        {
          "name": "stdout",
          "output_type": "stream",
          "text": [
            "Epoch [9/30], CE Loss: 0.0241, DA Loss: 0.4869 Source Acc: 99.85%, Target Acc: 46.70%\n"
          ]
        },
        {
          "name": "stderr",
          "output_type": "stream",
          "text": [
            " 33%|███▎      | 10/30 [00:24<00:48,  2.45s/it]"
          ]
        },
        {
          "name": "stdout",
          "output_type": "stream",
          "text": [
            "Epoch [10/30], CE Loss: 0.0300, DA Loss: 0.4905 Source Acc: 99.65%, Target Acc: 46.11%\n"
          ]
        },
        {
          "name": "stderr",
          "output_type": "stream",
          "text": [
            " 37%|███▋      | 11/30 [00:26<00:46,  2.47s/it]"
          ]
        },
        {
          "name": "stdout",
          "output_type": "stream",
          "text": [
            "Epoch [11/30], CE Loss: 0.0244, DA Loss: 0.4668 Source Acc: 99.70%, Target Acc: 45.73%\n"
          ]
        },
        {
          "name": "stderr",
          "output_type": "stream",
          "text": [
            " 40%|████      | 12/30 [00:29<00:44,  2.49s/it]"
          ]
        },
        {
          "name": "stdout",
          "output_type": "stream",
          "text": [
            "Epoch [12/30], CE Loss: 0.0194, DA Loss: 0.4415 Source Acc: 99.85%, Target Acc: 47.62%\n"
          ]
        },
        {
          "name": "stderr",
          "output_type": "stream",
          "text": [
            " 43%|████▎     | 13/30 [00:31<00:41,  2.46s/it]"
          ]
        },
        {
          "name": "stdout",
          "output_type": "stream",
          "text": [
            "Epoch [13/30], CE Loss: 0.0150, DA Loss: 0.4123 Source Acc: 99.95%, Target Acc: 48.29%\n"
          ]
        },
        {
          "name": "stderr",
          "output_type": "stream",
          "text": [
            " 47%|████▋     | 14/30 [00:33<00:38,  2.41s/it]"
          ]
        },
        {
          "name": "stdout",
          "output_type": "stream",
          "text": [
            "Epoch [14/30], CE Loss: 0.0139, DA Loss: 0.3713 Source Acc: 99.97%, Target Acc: 50.30%\n"
          ]
        },
        {
          "name": "stderr",
          "output_type": "stream",
          "text": [
            " 50%|█████     | 15/30 [00:36<00:36,  2.45s/it]"
          ]
        },
        {
          "name": "stdout",
          "output_type": "stream",
          "text": [
            "Epoch [15/30], CE Loss: 0.0141, DA Loss: 0.3551 Source Acc: 99.97%, Target Acc: 48.69%\n"
          ]
        },
        {
          "name": "stderr",
          "output_type": "stream",
          "text": [
            " 53%|█████▎    | 16/30 [00:38<00:34,  2.45s/it]"
          ]
        },
        {
          "name": "stdout",
          "output_type": "stream",
          "text": [
            "Epoch [16/30], CE Loss: 0.0117, DA Loss: 0.3338 Source Acc: 99.97%, Target Acc: 50.15%\n"
          ]
        },
        {
          "name": "stderr",
          "output_type": "stream",
          "text": [
            " 57%|█████▋    | 17/30 [00:41<00:31,  2.44s/it]"
          ]
        },
        {
          "name": "stdout",
          "output_type": "stream",
          "text": [
            "Epoch [17/30], CE Loss: 0.0111, DA Loss: 0.3364 Source Acc: 100.00%, Target Acc: 50.12%\n"
          ]
        },
        {
          "name": "stderr",
          "output_type": "stream",
          "text": [
            " 60%|██████    | 18/30 [00:43<00:29,  2.46s/it]"
          ]
        },
        {
          "name": "stdout",
          "output_type": "stream",
          "text": [
            "Epoch [18/30], CE Loss: 0.0133, DA Loss: 0.3353 Source Acc: 99.95%, Target Acc: 48.39%\n"
          ]
        },
        {
          "name": "stderr",
          "output_type": "stream",
          "text": [
            " 63%|██████▎   | 19/30 [00:46<00:28,  2.55s/it]"
          ]
        },
        {
          "name": "stdout",
          "output_type": "stream",
          "text": [
            "Epoch [19/30], CE Loss: 0.0112, DA Loss: 0.3094 Source Acc: 99.97%, Target Acc: 50.69%\n"
          ]
        },
        {
          "name": "stderr",
          "output_type": "stream",
          "text": [
            " 67%|██████▋   | 20/30 [00:49<00:25,  2.53s/it]"
          ]
        },
        {
          "name": "stdout",
          "output_type": "stream",
          "text": [
            "Epoch [20/30], CE Loss: 0.0092, DA Loss: 0.2842 Source Acc: 100.00%, Target Acc: 49.31%\n"
          ]
        },
        {
          "name": "stderr",
          "output_type": "stream",
          "text": [
            " 70%|███████   | 21/30 [00:52<00:24,  2.69s/it]"
          ]
        },
        {
          "name": "stdout",
          "output_type": "stream",
          "text": [
            "Epoch [21/30], CE Loss: 0.0083, DA Loss: 0.2713 Source Acc: 100.00%, Target Acc: 51.07%\n"
          ]
        },
        {
          "name": "stderr",
          "output_type": "stream",
          "text": [
            " 73%|███████▎  | 22/30 [00:54<00:21,  2.69s/it]"
          ]
        },
        {
          "name": "stdout",
          "output_type": "stream",
          "text": [
            "Epoch [22/30], CE Loss: 0.0090, DA Loss: 0.2594 Source Acc: 100.00%, Target Acc: 51.96%\n"
          ]
        },
        {
          "name": "stderr",
          "output_type": "stream",
          "text": [
            " 77%|███████▋  | 23/30 [00:57<00:18,  2.59s/it]"
          ]
        },
        {
          "name": "stdout",
          "output_type": "stream",
          "text": [
            "Epoch [23/30], CE Loss: 0.0078, DA Loss: 0.2520 Source Acc: 100.00%, Target Acc: 50.02%\n"
          ]
        },
        {
          "name": "stderr",
          "output_type": "stream",
          "text": [
            " 80%|████████  | 24/30 [00:59<00:15,  2.57s/it]"
          ]
        },
        {
          "name": "stdout",
          "output_type": "stream",
          "text": [
            "Epoch [24/30], CE Loss: 0.0098, DA Loss: 0.2741 Source Acc: 99.97%, Target Acc: 51.84%\n"
          ]
        },
        {
          "name": "stderr",
          "output_type": "stream",
          "text": [
            " 83%|████████▎ | 25/30 [01:02<00:12,  2.53s/it]"
          ]
        },
        {
          "name": "stdout",
          "output_type": "stream",
          "text": [
            "Epoch [25/30], CE Loss: 0.0079, DA Loss: 0.2608 Source Acc: 100.00%, Target Acc: 50.74%\n"
          ]
        },
        {
          "name": "stderr",
          "output_type": "stream",
          "text": [
            " 87%|████████▋ | 26/30 [01:04<00:09,  2.46s/it]"
          ]
        },
        {
          "name": "stdout",
          "output_type": "stream",
          "text": [
            "Epoch [26/30], CE Loss: 0.0080, DA Loss: 0.2598 Source Acc: 100.00%, Target Acc: 51.93%\n"
          ]
        },
        {
          "name": "stderr",
          "output_type": "stream",
          "text": [
            " 90%|█████████ | 27/30 [01:07<00:07,  2.54s/it]"
          ]
        },
        {
          "name": "stdout",
          "output_type": "stream",
          "text": [
            "Epoch [27/30], CE Loss: 0.0082, DA Loss: 0.2520 Source Acc: 99.97%, Target Acc: 51.44%\n"
          ]
        },
        {
          "name": "stderr",
          "output_type": "stream",
          "text": [
            " 93%|█████████▎| 28/30 [01:09<00:05,  2.52s/it]"
          ]
        },
        {
          "name": "stdout",
          "output_type": "stream",
          "text": [
            "Epoch [28/30], CE Loss: 0.3540, DA Loss: 0.7752 Source Acc: 93.80%, Target Acc: 40.58%\n"
          ]
        },
        {
          "name": "stderr",
          "output_type": "stream",
          "text": [
            " 97%|█████████▋| 29/30 [01:11<00:02,  2.46s/it]"
          ]
        },
        {
          "name": "stdout",
          "output_type": "stream",
          "text": [
            "Epoch [29/30], CE Loss: 0.7788, DA Loss: 1.2121 Source Acc: 77.00%, Target Acc: 25.69%\n"
          ]
        },
        {
          "name": "stderr",
          "output_type": "stream",
          "text": [
            "100%|██████████| 30/30 [01:14<00:00,  2.48s/it]"
          ]
        },
        {
          "name": "stdout",
          "output_type": "stream",
          "text": [
            "Epoch [30/30], CE Loss: 0.1663, DA Loss: 0.9089 Source Acc: 95.40%, Target Acc: 33.01%\n"
          ]
        },
        {
          "name": "stderr",
          "output_type": "stream",
          "text": [
            "\n"
          ]
        }
      ],
      "source": [
        "import torch\n",
        "import torch.nn as nn\n",
        "import torch.optim as optim\n",
        "from tqdm import tqdm\n",
        "from geomloss import SamplesLoss\n",
        "\n",
        "num_epochs = 30\n",
        "# --- Setup ---\n",
        "device = torch.device(\"cuda\" if torch.cuda.is_available() else \"cpu\")\n",
        "print(\"Using device:\", device)\n",
        "\n",
        "DA_model = CNN().to(device)  # CNN should return (logits, z)\n",
        "criterion = nn.CrossEntropyLoss()\n",
        "optimizer = optim.AdamW(DA_model.parameters(), lr=5e-3)\n",
        "lambda_mmd = 0.2\n",
        "geomloss_fn = SamplesLoss(\"energy\", p=2) # GeomLoss with Sinkhorn distance, p=2, blur ~ σ; tune as needed\n",
        "best_model = None\n",
        "best_loss = float('inf')\n",
        "\n",
        "# --- Training ---\n",
        "for epoch in tqdm(range(num_epochs)):\n",
        "    DA_model.train()\n",
        "    running_loss, correct_s, correct_t, total_s, total_t = 0.0, 0, 0, 0, 0\n",
        "    running_DA, running_CE = 0.0, 0.0\n",
        "\n",
        "    for (source_imgs, source_labels), (target_imgs, target_labels) in zip(source_train_loader, target_train_loader):\n",
        "        source_imgs, source_labels = source_imgs.to(device), source_labels.to(device)\n",
        "        target_imgs, target_labels = target_imgs.to(device), target_labels.to(device)\n",
        "\n",
        "        # --- Concatenate images and forward ---\n",
        "        combined_imgs = torch.cat([source_imgs, target_imgs], dim=0)\n",
        "        logits, z = DA_model(combined_imgs)\n",
        "\n",
        "        # --- Split latent vectors and outputs ---\n",
        "        z_s, z_t = z[:source_imgs.size(0)], z[source_imgs.size(0):]\n",
        "        logits_s = logits[:source_imgs.size(0)]\n",
        "        logits_t = logits[source_imgs.size(0):]\n",
        "\n",
        "        # --- Compute losses ---\n",
        "        ce_loss = criterion(logits_s, source_labels)\n",
        "        mmd_loss = geomloss_fn(z_s, z_t)  # ← GeomLoss replaces MMD here\n",
        "        total_loss = ce_loss + lambda_mmd * mmd_loss\n",
        "        \n",
        "        if total_loss.item() < best_loss:\n",
        "            best_loss = total_loss.item()\n",
        "            best_model = copy.deepcopy(DA_model.state_dict())\n",
        "\n",
        "\n",
        "        # --- Backpropagation ---\n",
        "        optimizer.zero_grad()\n",
        "        total_loss.backward()\n",
        "        optimizer.step()\n",
        "\n",
        "        # --- Metrics ---\n",
        "        running_loss += total_loss.item()\n",
        "        running_CE += ce_loss.item()\n",
        "        running_DA += mmd_loss.item()\n",
        "        _, predicted_s = logits_s.max(1)\n",
        "        total_s += source_labels.size(0)\n",
        "        correct_s += predicted_s.eq(source_labels).sum().item()\n",
        "        _, predicted_t = logits_t.max(1)\n",
        "        total_t += target_labels.size(0)\n",
        "        correct_t += predicted_t.eq(target_labels).sum().item()\n",
        "\n",
        "    print(f\"Epoch [{epoch+1}/{num_epochs}], CE Loss: {running_CE/len(source_train_loader):.4f}, DA Loss: {running_DA/len(source_train_loader):.4f} Source Acc: {100*correct_s/total_s:.2f}%, Target Acc: {100*correct_t/total_t:.2f}%\")"
      ]
    },
    {
      "cell_type": "code",
      "execution_count": 13,
      "metadata": {
        "colab": {
          "base_uri": "https://localhost:8080/"
        },
        "id": "Kp9aQbYfB7Y2",
        "outputId": "5685973c-be93-45ec-805b-be5f937a2173"
      },
      "outputs": [
        {
          "name": "stdout",
          "output_type": "stream",
          "text": [
            "Accuracy on source domain (MNIST): 96.80%\n",
            "Accuracy on target domain (MNIST-M): 52.52%\n"
          ]
        }
      ],
      "source": [
        "DA_model.load_state_dict(best_model)\n",
        "source_accuracy = test_model(DA_model, source_test_loader, device)\n",
        "print(f\"Accuracy on source domain (MNIST): {source_accuracy:.2f}%\")\n",
        "\n",
        "# Test on target domain (MNIST-M)\n",
        "target_accuracy = test_model(DA_model, target_test_loader, device)\n",
        "print(f\"Accuracy on target domain (MNIST-M): {target_accuracy:.2f}%\")"
      ]
    },
    {
      "cell_type": "markdown",
      "metadata": {
        "id": "E6Ko_TpM8qQ4"
      },
      "source": [
        "DA works! This is a a pretty modest improvement over the basic NN for the target domain, and we also see similar performance on the source domain. This may not seem like a lot, and this is actually expected. Can you think why? Recall that the efficacy of DA relies on the *expressivity* of $\\phi_\\theta$: how well it could learn features. In a CNN, much of the feauture learning is done by convolutional layers; in our architecture we just have one! In addition to this, there's several other axes that contribute to how well the model gets aligned:\n",
        "\n",
        "- training configurations\n",
        "- choice of distance kernel\n",
        "- dataset normalization\n",
        "\n",
        "Feel free to experiment on some or all of these axes, especially in making the CNN deeper and more expressive, and you should see the domain alignment increase.\n",
        "\n",
        "---"
      ]
    },
    {
      "cell_type": "markdown",
      "metadata": {
        "id": "Yp9O5azp-RJ5"
      },
      "source": [
        "Trying an Adversarial Approach\n",
        "---\n",
        "\n",
        "We've seen how to implement a distance-based DA approach; now, we turn to another family of domain adaptation (DA) methods: **adversarial approaches**.\n",
        "\n",
        "In adversarial domain adaptation, we again rely on the feature extractor $\\phi_\\theta(x)$ to map both source and target images into a shared latent space $z = \\phi_\\theta(x) \\in \\mathbb{R}^d$. The goal is to learn representations that are discriminative for the source task yet domain-invariant, such that a classifier trained on the source domain generalizes to the target.\n",
        "\n",
        "To achieve this, we introduce an auxiliary domain classifier $d_\\theta : \\mathbb{R}^d \\rightarrow [0,1]$ that tries to distinguish whether a latent vector $z$ comes from the source or target domain.\n",
        "\n",
        "Let $\\mathcal{D}_s = \\{(x_s^{(i)}, y_s^{(i)})\\}_{i=1}^{N_s}$ and $\\mathcal{D}_t = \\{x_t^{(j)}\\}_{j=1}^{N_t}$ as before. During training, we optimize two competing objectives:\n",
        "\n",
        "- **Source classification loss** (same as before):\n",
        "  $$\n",
        "  \\mathcal{L}_{\\text{CE}}(\\theta) = -\\frac{1}{N_s} \\sum_{i=1}^{N_s} \\log f_\\theta^{(y_s^{(i)})}(x_s^{(i)}),\n",
        "  $$\n",
        "\n",
        "- **Domain adversarial loss**:\n",
        "  $$\n",
        "  \\mathcal{L}_{\\text{dom}}(\\theta) = -\\frac{1}{N_s} \\sum_{i=1}^{N_s} \\log d_\\theta(\\phi_\\theta(x_s^{(i)}))\n",
        "  - \\frac{1}{N_t} \\sum_{j=1}^{N_t} \\log \\left(1 - d_\\theta(\\phi_\\theta(x_t^{(j)}))\\right)\n",
        "  $$\n",
        "\n",
        "Here, the domain classifier $d_\\theta$ is trained to maximize $\\mathcal{L}_{\\text{dom}}$ (i.e., correctly distinguish domains), while the feature extractor $\\phi_\\theta$ is trained to minimize it,  confusing the domain classifier and aligning the representations to be domain-invariant.\n",
        "\n",
        "This adversarial interaction is implemented using a gradient reversal layer (GRL), which multiplies the gradient from $\\mathcal{L}_{\\text{dom}}$ by $-1$ before backpropagating through $\\phi_\\theta$.\n",
        "\n",
        "The total loss function is:\n",
        "$$\n",
        "\\mathcal{L}_{\\text{total}}(\\theta) = \\mathcal{L}_{\\text{CE}}(\\theta) + \\lambda \\cdot \\mathcal{L}_{\\text{dom}}(\\theta),\n",
        "$$\n",
        "where $\\lambda$ balances the classification and domain alignment objectives.\n",
        "\n",
        "In the next section, we'll implement this framework using the Domain-Adversarial Neural Network (DANN) and compare it directly against MMD-based adaptation.\n"
      ]
    },
    {
      "cell_type": "code",
      "execution_count": 29,
      "metadata": {
        "id": "7OyH8rGHCSFr"
      },
      "outputs": [],
      "source": [
        "from torch.autograd import Function\n",
        "import torch.nn as nn\n",
        "import torch.optim as optim\n",
        "\n",
        "# --- Gradient Reversal Layer ---\n",
        "class GradientReversal(Function):\n",
        "    @staticmethod\n",
        "    def forward(ctx, x, lambda_grl):\n",
        "        ctx.lambda_grl = lambda_grl\n",
        "        return x.view_as(x)\n",
        "\n",
        "    @staticmethod\n",
        "    def backward(ctx, grad_output):\n",
        "        return -ctx.lambda_grl * grad_output, None\n",
        "\n",
        "def grad_reverse(x, lambda_grl=1.0):\n",
        "    return GradientReversal.apply(x, lambda_grl)\n",
        "\n",
        "# --- Domain Classifier ---\n",
        "class DomainClassifier(nn.Module):\n",
        "    def __init__(self, in_dim):\n",
        "        super(DomainClassifier, self).__init__()\n",
        "        self.net = nn.Sequential(\n",
        "            nn.Linear(in_dim, 256),\n",
        "            nn.ReLU(),\n",
        "            nn.Linear(256, 1)  # Binary output\n",
        "        )\n",
        "\n",
        "    def forward(self, z, lambda_grl=1.0):\n",
        "        z_rev = grad_reverse(z, lambda_grl)\n",
        "        return self.net(z_rev)\n"
      ]
    },
    {
      "cell_type": "code",
      "execution_count": 30,
      "metadata": {
        "colab": {
          "base_uri": "https://localhost:8080/"
        },
        "id": "Uw3X1kAIB9B_",
        "outputId": "05e14653-b70a-41bb-96f2-e1aac0827338"
      },
      "outputs": [
        {
          "name": "stdout",
          "output_type": "stream",
          "text": [
            "Epoch [1/20] CE Loss: 0.5982, DA Loss: 0.5878, Source Acc: 81.40%, Target Acc: 32.14%\n",
            "Epoch [2/20] CE Loss: 0.2025, DA Loss: 0.3329, Source Acc: 93.75%, Target Acc: 39.04%\n",
            "Epoch [3/20] CE Loss: 0.1170, DA Loss: 0.1210, Source Acc: 96.38%, Target Acc: 40.75%\n",
            "Epoch [4/20] CE Loss: 0.0671, DA Loss: 0.3314, Source Acc: 97.97%, Target Acc: 41.27%\n",
            "Epoch [5/20] CE Loss: 0.0505, DA Loss: 0.0651, Source Acc: 98.40%, Target Acc: 39.78%\n",
            "Epoch [6/20] CE Loss: 0.0324, DA Loss: 0.2590, Source Acc: 99.12%, Target Acc: 41.52%\n",
            "Epoch [7/20] CE Loss: 0.0212, DA Loss: 0.1800, Source Acc: 99.47%, Target Acc: 41.57%\n",
            "Epoch [8/20] CE Loss: 0.0135, DA Loss: 0.2734, Source Acc: 99.67%, Target Acc: 42.53%\n",
            "Epoch [9/20] CE Loss: 0.0097, DA Loss: 0.0678, Source Acc: 99.80%, Target Acc: 43.15%\n",
            "Epoch [10/20] CE Loss: 0.0045, DA Loss: 0.3350, Source Acc: 99.95%, Target Acc: 43.73%\n",
            "Epoch [11/20] CE Loss: 0.0036, DA Loss: 0.2238, Source Acc: 100.00%, Target Acc: 44.37%\n",
            "Epoch [12/20] CE Loss: 0.0080, DA Loss: 0.2524, Source Acc: 99.80%, Target Acc: 45.56%\n",
            "Epoch [13/20] CE Loss: 0.0072, DA Loss: 0.2562, Source Acc: 99.85%, Target Acc: 45.04%\n",
            "Epoch [14/20] CE Loss: 0.0361, DA Loss: 0.3452, Source Acc: 98.85%, Target Acc: 45.51%\n",
            "Epoch [15/20] CE Loss: 0.0452, DA Loss: 0.3526, Source Acc: 98.55%, Target Acc: 43.75%\n",
            "Epoch [16/20] CE Loss: 0.0342, DA Loss: 0.2589, Source Acc: 99.10%, Target Acc: 44.35%\n",
            "Epoch [17/20] CE Loss: 0.0083, DA Loss: 0.3795, Source Acc: 99.80%, Target Acc: 47.25%\n",
            "Epoch [18/20] CE Loss: 0.0233, DA Loss: 0.3704, Source Acc: 99.15%, Target Acc: 45.26%\n",
            "Epoch [19/20] CE Loss: 0.0187, DA Loss: 0.3255, Source Acc: 99.33%, Target Acc: 45.26%\n",
            "Epoch [20/20] CE Loss: 0.0036, DA Loss: 0.3281, Source Acc: 99.92%, Target Acc: 48.19%\n"
          ]
        }
      ],
      "source": [
        "adversarial_model = CNN().to(device)\n",
        "\n",
        "domain_classifier = DomainClassifier(in_dim=128).to(device)  # set z_dim to latent dimension of your CNN\n",
        "optimizer_DANN = optim.AdamW(\n",
        "    list(adversarial_model.parameters()) + list(domain_classifier.parameters()), lr=1e-3\n",
        ")\n",
        "criterion_ce = nn.CrossEntropyLoss()\n",
        "criterion_domain = nn.BCEWithLogitsLoss()\n",
        "lambda_grl = 0.15\n",
        "num_epochs = 20\n",
        "best_model = None\n",
        "best_loss = float('inf')\n",
        "\n",
        "for epoch in range(num_epochs):\n",
        "    adversarial_model.train()\n",
        "    domain_classifier.train()\n",
        "\n",
        "    running_loss, running_ce, running_da = 0.0, 0.0, 0.0\n",
        "    correct_s, correct_t, total_s, total_t = 0, 0, 0, 0\n",
        "\n",
        "    for (x_s, y_s), (x_t, y_t) in zip(source_train_loader, target_train_loader):\n",
        "        x_s, y_s = x_s.to(device), y_s.to(device)\n",
        "        x_t, y_t = x_t.to(device), y_t.to(device)\n",
        "\n",
        "        # --- Forward pass ---\n",
        "        x = torch.cat([x_s, x_t], dim=0)\n",
        "        domain_labels = torch.cat([\n",
        "            torch.ones(x_s.size(0), 1),\n",
        "            torch.zeros(x_t.size(0), 1)\n",
        "        ], dim=0).to(device)\n",
        "\n",
        "        logits, z = adversarial_model(x)\n",
        "        z_s, z_t = z[:x_s.size(0)], z[x_s.size(0):]\n",
        "        logits_s = logits[:x_s.size(0)]\n",
        "        logits_t = logits[x_s.size(0):]\n",
        "\n",
        "        # --- Losses ---\n",
        "        loss_ce = criterion_ce(logits_s, y_s)\n",
        "        domain_logits = domain_classifier(z, lambda_grl)\n",
        "        loss_da = criterion_domain(domain_logits, domain_labels)\n",
        "        loss_total = loss_ce + lambda_grl * loss_da\n",
        "        \n",
        "        if loss_total.item() < best_loss:\n",
        "            best_loss = loss_total.item()\n",
        "            best_model = copy.deepcopy(adversarial_model.state_dict())\n",
        "\n",
        "        # --- Backward ---\n",
        "        optimizer_DANN.zero_grad()\n",
        "        loss_total.backward()\n",
        "        optimizer_DANN.step()\n",
        "\n",
        "        # --- Accuracy tracking ---\n",
        "        _, pred_s = logits_s.max(1)\n",
        "        _, pred_t = logits_t.max(1)\n",
        "        correct_s += pred_s.eq(y_s).sum().item()\n",
        "        correct_t += pred_t.eq(y_t).sum().item()\n",
        "        total_s += y_s.size(0)\n",
        "        total_t += y_t.size(0)\n",
        "\n",
        "        running_loss += loss_total.item()\n",
        "        running_ce += loss_ce.item()\n",
        "        running_da += loss_da.item()\n",
        "\n",
        "    print(f\"Epoch [{epoch+1}/{num_epochs}] \"\n",
        "          f\"CE Loss: {running_ce/len(source_train_loader):.4f}, \"\n",
        "          f\"DA Loss: {running_da/len(source_train_loader):.4f}, \"\n",
        "          f\"Source Acc: {100 * correct_s / total_s:.2f}%, \"\n",
        "          f\"Target Acc: {100 * correct_t / total_t:.2f}%\")\n"
      ]
    },
    {
      "cell_type": "code",
      "execution_count": 31,
      "metadata": {
        "colab": {
          "base_uri": "https://localhost:8080/",
          "height": 207
        },
        "id": "JSZVbbYmB-10",
        "outputId": "6991c4a8-6ed1-4dfe-85c6-08386f9fef30"
      },
      "outputs": [
        {
          "name": "stdout",
          "output_type": "stream",
          "text": [
            "Source Test Accuracy: 96.60%\n",
            "Target Test Accuracy: 49.22%\n"
          ]
        }
      ],
      "source": [
        "adversarial_model.load_state_dict(best_model)\n",
        "\n",
        "source_acc = test_model(adversarial_model, source_test_loader, device)\n",
        "target_acc = test_model(adversarial_model, target_test_loader, device)\n",
        "\n",
        "print(f\"Source Test Accuracy: {source_acc:.2f}%\")\n",
        "print(f\"Target Test Accuracy: {target_acc:.2f}%\")\n"
      ]
    },
    {
      "cell_type": "markdown",
      "metadata": {},
      "source": [
        "We see that our adversarial approach was also succesful, though less performant than the distance-based approach. In general, one can find that adversarial approaches can *exceed* distance-based approaches for DA, though requiring much more hyperparameter tuning. We have done none of that, which can explain the discrepancy.\n",
        "\n",
        "---"
      ]
    },
    {
      "cell_type": "markdown",
      "metadata": {},
      "source": [
        "## Studying Isomaps\n",
        "\n",
        "We have now trained three models: `CE_only_model`, `DA_model`, and `adversarial_model`, with varying performance on the target domain. These models used the same underlying CNN. It's now interesting to study how these models latent representations differ, and what that can tell us about the success and failure points of the respective training methods.\n",
        "\n",
        "Recall that our latent space $z$ is high-dimensional. In this case, 128-d. To understand any relevant structure *as people*, we will have to project this down to 2D. Luckily, there are a variety of methods designed to do this.\n",
        "\n",
        "One such method is [Isomaps](https://en.wikipedia.org/wiki/Isomap). The isomap method reduces dimensionality by preserving geodesic (manifold) distances between points. First, a neighborhood graph is built using $k$-nearest neighbors. Geodesic distances $D_{ij}$ are then estimated via shortest paths over this graph. Finally, classical MDS is applied to the resulting distance matrix. The embedding is given by the top two eigenvectors of:\n",
        "\n",
        "$$\n",
        "\\mathbf{B} = -\\frac{1}{2} \\mathbf{H} D^2 \\mathbf{H}, \\quad \\text{where } \\mathbf{H} = \\mathbf{I} - \\frac{1}{N} \\mathbf{1}\\mathbf{1}^\\top.\n",
        "$$\n",
        "\n",
        "This gives us a 2D projection that captures the global structure of the latent space.\n"
      ]
    },
    {
      "cell_type": "code",
      "execution_count": 32,
      "metadata": {
        "id": "2-mjlsvyDWow"
      },
      "outputs": [
        {
          "name": "stderr",
          "output_type": "stream",
          "text": [
            "/var/folders/pf/33l4yz9171b8fsbj1vymxs8m0000gn/T/ipykernel_94598/2226336710.py:48: MatplotlibDeprecationWarning: The get_cmap function was deprecated in Matplotlib 3.7 and will be removed in 3.11. Use ``matplotlib.colormaps[name]`` or ``matplotlib.colormaps.get_cmap()`` or ``pyplot.get_cmap()`` instead.\n",
            "  cmap = plt.cm.get_cmap('tab10', 10)\n",
            "/var/folders/pf/33l4yz9171b8fsbj1vymxs8m0000gn/T/ipykernel_94598/2226336710.py:48: MatplotlibDeprecationWarning: The get_cmap function was deprecated in Matplotlib 3.7 and will be removed in 3.11. Use ``matplotlib.colormaps[name]`` or ``matplotlib.colormaps.get_cmap()`` or ``pyplot.get_cmap()`` instead.\n",
            "  cmap = plt.cm.get_cmap('tab10', 10)\n",
            "/var/folders/pf/33l4yz9171b8fsbj1vymxs8m0000gn/T/ipykernel_94598/2226336710.py:48: MatplotlibDeprecationWarning: The get_cmap function was deprecated in Matplotlib 3.7 and will be removed in 3.11. Use ``matplotlib.colormaps[name]`` or ``matplotlib.colormaps.get_cmap()`` or ``pyplot.get_cmap()`` instead.\n",
            "  cmap = plt.cm.get_cmap('tab10', 10)\n"
          ]
        },
        {
          "data": {
            "image/png": "[encoded data removed]",
            "text/plain": [
              "<Figure size 1500x500 with 3 Axes>"
            ]
          },
          "metadata": {},
          "output_type": "display_data"
        }
      ],
      "source": [
        "from sklearn.manifold import Isomap\n",
        "import matplotlib.pyplot as plt\n",
        "import torch\n",
        "import numpy as np\n",
        "from sklearn.preprocessing import StandardScaler\n",
        "\n",
        "\n",
        "def extract_latents_with_labels(model, source_loader, target_loader, device):\n",
        "    model.eval()\n",
        "    z_all, y_all, domains = [], [], []\n",
        "\n",
        "    with torch.no_grad():\n",
        "        for imgs, labels in source_loader:\n",
        "            imgs = imgs.to(device)\n",
        "            _, z = model(imgs)\n",
        "            z_all.append(z.cpu())\n",
        "            y_all.extend(labels.tolist())\n",
        "            domains.extend([\"source\"] * len(labels))\n",
        "\n",
        "        for imgs, labels in target_loader:\n",
        "            imgs = imgs.to(device)\n",
        "            _, z = model(imgs)\n",
        "            z_all.append(z.cpu())\n",
        "            y_all.extend(labels.tolist())\n",
        "            domains.extend([\"target\"] * len(labels))\n",
        "\n",
        "    z_all = torch.cat(z_all, dim=0)\n",
        "    z_all = torch.tensor(StandardScaler().fit_transform(z_all))\n",
        "    return z_all, np.array(y_all), np.array(domains)\n",
        "\n",
        "def plot_isomap_with_colors_and_markers(z_all, y_all, domains, title, xlim=None, ylim=None, subset=500, ax=None, legend=False):\n",
        "\n",
        "    # Fit Isomap\n",
        "    isomap = Isomap(n_components=2, n_neighbors=20)\n",
        "    z_2d = isomap.fit_transform(z_all.numpy())\n",
        "\n",
        "    # Subsample\n",
        "    indices = np.random.choice(len(z_all), size=subset, replace=False)\n",
        "    z_2d = z_2d[indices]\n",
        "    y_all = y_all[indices]\n",
        "    domains = domains[indices]\n",
        "\n",
        "    # Setup axis\n",
        "    if ax is None:\n",
        "        fig, ax = plt.subplots(figsize=(7, 5))\n",
        "\n",
        "    # Define color map\n",
        "    cmap = plt.cm.get_cmap('tab10', 10)\n",
        "\n",
        "    # Plot by digit and domain\n",
        "    for digit in range(10):\n",
        "        color = cmap(digit)\n",
        "        for domain, marker in zip([\"source\", \"target\"], [\"o\", \"^\"]):\n",
        "            idx = (y_all == digit) & (domains == domain)\n",
        "            ax.scatter(\n",
        "                z_2d[idx, 0], z_2d[idx, 1],\n",
        "                label=f\"{digit} ({'src' if domain == 'source' else 'tgt'})\",\n",
        "                c=[color], marker=marker, s=15, alpha=0.7\n",
        "            )\n",
        "\n",
        "    ax.set_title(title)\n",
        "    ax.set_xlabel(\"Isomap dim 1\")\n",
        "    ax.set_ylabel(\"Isomap dim 2\")\n",
        "    ax.set_xlim(xlim)\n",
        "    ax.set_ylim(ylim)\n",
        "    if legend:\n",
        "        ax.legend(markerscale=1.5, fontsize=9, loc='center left', bbox_to_anchor=(1.02, 0.5))\n",
        "\n",
        "    if ax is None:\n",
        "        plt.tight_layout()\n",
        "        plt.show()\n",
        "\n",
        "\n",
        "# --- Setup ---\n",
        "device = torch.device(\"cuda\" if torch.cuda.is_available() else \"cpu\")\n",
        "\n",
        "fig, axes = plt.subplots(1, 3, figsize=(15, 5))\n",
        "\n",
        "# CE-only model\n",
        "z_ce, y_ce, d_ce = extract_latents_with_labels(CE_only_model, source_test_loader, target_test_loader, device)\n",
        "plot_isomap_with_colors_and_markers(z_ce, y_ce, d_ce, \"Isomap: CE Only\", ax=axes[0], legend=False)\n",
        "\n",
        "# MMD-based model\n",
        "z_da, y_da, d_da = extract_latents_with_labels(DA_model, source_test_loader, target_test_loader, device)\n",
        "plot_isomap_with_colors_and_markers(z_da, y_da, d_da, \"Isomap: MMD Domain Adaptation\", xlim =(-20, 20), ylim=(-20, 20), ax=axes[1], legend=False)\n",
        "\n",
        "# Adversarial model\n",
        "z_adv, y_adv, d_adv = extract_latents_with_labels(adversarial_model, source_test_loader, target_test_loader, device)\n",
        "plot_isomap_with_colors_and_markers(z_adv, y_adv, d_adv, \"Isomap: Adversarial Domain Adaptation\", xlim =(-20, 20), ylim=(-20, 20), ax=axes[2], legend=True)\n"
      ]
    },
    {
      "cell_type": "markdown",
      "metadata": {},
      "source": [
        "Ok, these don't look *that* great. We still do see a slight improvement in the latent spaces that include DA. And this, in fact, does make sense. We wouldn't expect perfect, nice clusters for each class as the target domain performance is still not perfectly aligned with the source. If you play around with things more and get the source domain performance on-par with the target domain, you should see some nice isomaps like the ones visualized [here](https://arxiv.org/abs/2501.14048). Thus concludes this tutorial. Happy coding!"
      ]
    }
  ],
  "metadata": {
    "colab": {
      "provenance": []
    },
    "kernelspec": {
      "display_name": "venv-ml",
      "language": "python",
      "name": "python3"
    },
    "language_info": {
      "codemirror_mode": {
        "name": "ipython",
        "version": 3
      },
      "file_extension": ".py",
      "mimetype": "text/x-python",
      "name": "python",
      "nbconvert_exporter": "python",
      "pygments_lexer": "ipython3",
      "version": "3.9.6"
    }
  },
  "nbformat": 4,
  "nbformat_minor": 0
}
