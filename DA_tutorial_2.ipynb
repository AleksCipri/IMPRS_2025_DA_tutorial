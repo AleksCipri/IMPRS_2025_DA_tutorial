{
 "cells": [
  {
   "cell_type": "markdown",
   "id": "ec25be4d",
   "metadata": {},
   "source": [
    "Probing the Limits of Domain Adaptation\n",
    "---\n",
    "In the last tutorial, we saw an instance of distance-based and adversarial domain adaptation (DA) techniques working to improve the generalization of a NN trained on MNIST and evaluated on MNIST-M. We will now move to a more physical dataset of galaxy morphologies, with the differences between source and target domain due to fundamentally different imaging devices. We will be using the Sinkhorn divergence as our distance metric for DA. \n",
    "\n",
    "<img src=\"https://snehjp2.github.io/images/gaussian_meme.png\" alt=\"gaussian meme\" width=\"600\"/>\n",
    "\n",
    "\n",
    "The particular focus here will be playing around with hyperparameters, illustrating the success and failure points of DA and the importance of finding the right sweet-spot for training. We will end with more sophisticated techniques for implementing DA that can automate-away the need for hyperparameter tuning. We'll start with the same code imports as before:"
   ]
  },
  {
   "cell_type": "code",
   "execution_count": 1,
   "id": "7d1cfbed",
   "metadata": {},
   "outputs": [],
   "source": [
    "# torch related inputs\n",
    "import torch\n",
    "import torch.nn.functional as F\n",
    "from torch import nn, optim\n",
    "from torch.utils.data import Dataset, DataLoader, Subset\n",
    "from torchvision import transforms\n",
    "\n",
    "import copy\n",
    "\n",
    "# miscellaneous\n",
    "import numpy as np\n",
    "from tqdm import tqdm\n",
    "import matplotlib.pyplot as plt\n",
    "from typing import Callable, Optional\n",
    "import os\n",
    "import random\n",
    "\n",
    "# geomloss provides distance measure that are torch/CUDA compatible. \n",
    "# uncomment line below to install it, if you don't have it installed.\n",
    "\n",
    "# !pip install -q geomloss\n",
    "\n",
    "def set_all_seeds(seed=0):\n",
    "\n",
    "    os.environ[\"PYTHONHASHSEED\"] = str(seed)  # For Python's hash seed\n",
    "    random.seed(seed)\n",
    "    np.random.seed(seed)\n",
    "    torch.manual_seed(seed)\n",
    "    torch.cuda.manual_seed(seed)\n",
    "    torch.cuda.manual_seed_all(seed)\n",
    "\n",
    "    torch.backends.cudnn.deterministic = True\n",
    "    torch.backends.cudnn.benchmark = False\n",
    "\n",
    "    # Optional: enforce deterministic algorithms where possible\n",
    "    torch.use_deterministic_algorithms(True, warn_only=True)\n",
    "    \n",
    "set_all_seeds()\n"
   ]
  },
  {
   "cell_type": "markdown",
   "id": "c374197f",
   "metadata": {},
   "source": [
    "Problem Setup\n",
    "---\n",
    "\n",
    "Our problem setup follows similarly from Tutorial 1.\n",
    "\n",
    "- **Neural Network**:  \n",
    "Let $f_\\theta$ denote a neural network classifier with parameters $\\theta$, which maps an input image $x \\in \\mathbb{R}^n$ to predicted class probabilities $\\hat{y} = f_\\theta(x) \\in \\mathbb{R}^K$. The network is decomposed into a feature extractor $\\phi_\\theta : \\mathbb{R}^n \\rightarrow \\mathbb{R}^d$ and a classifier head $g_\\theta : \\mathbb{R}^d \\rightarrow \\mathbb{R}^K$, such that $f_\\theta(x) = \\text{softmax}(g_\\theta(\\phi_\\theta(x)))$.  \n",
    "We define the **latent representation** $z = \\phi_\\theta(x)$ as the output of the final hidden layer (before the logits). This representation (also called the *latent vector* or *latent space*) will be used for domain alignment.\n",
    "\n",
    "- **Source domain dataset**:  \n",
    "$\\mathcal{D}_s = \\{(x_s^{(i)}, y_s^{(i)})\\}_{i=1}^{N_s}$,  \n",
    "where $x_s^{(i)} \\sim p_s(x)$ are galaxy morphology observations from SDSS, and $y_s^{(i)} \\in \\{0, 1, \\dots, 9\\}$ are the corresponding morphology labels.\n",
    "\n",
    "- **Target domain dataset**:  \n",
    "$\\mathcal{D}_t = \\{x_t^{(j)}\\}_{j=1}^{N_t}$,  \n",
    "where $x_t^{(j)} \\sim p_t(x)$ are unlabeled galaxy morphology observations from DESI. The included morphologies are the same in both datasets. \n",
    "We assume the label distributions are aligned, i.e., $p_s(y|x) = p_t(y|x)$, but the input distributions differ: $p_s(x) \\neq p_t(x)$.  \n",
    "Our goal is to adapt $f_\\theta$ using **only labeled source data** and **unlabeled target data**, so that it performs well on the target domain.\n",
    "\n",
    "- **Classification loss**:  \n",
    "On the source domain, we minimize the supervised cross-entropy loss between predicted and true labels:\n",
    "\n",
    "$$\n",
    "\\mathcal{L}_{\\text{CE}}(\\theta) = -\\frac{1}{N_s} \\sum_{i=1}^{N_s} \\log f_\\theta^{(y_s^{(i)})}(x_s^{(i)}),\n",
    "$$\n",
    "\n",
    "where $f_\\theta^{(k)}(x)$ denotes the predicted probability for class $k$, and $K = 10$ is the number of classes.\n",
    "\n",
    "---\n",
    "Let's start by defining our necessary ingredients, starting with the data. We will download the [Galaxy Zoo Evo Dataset](https://huggingface.co/datasets/mwalmsley/gz_evo) from [this link](https://zenodo.org/uploads/14583107). The dataset is 2.35 GB in size; make sure to place it in the `data/` directory for the code below to run correctly. Galaxy Zoo (GZ) is a citizen science project that labels galaxy images through online participation. GZ Evo combines labeled image datasets across several surveys and iterations of GZ. Within GZ Evo, we use the GZ2 Dataset from the Sloan Digital Sky Survey (SDSS) [Willett et al., 2013] as the source, and a GZ Dark Energy Spectroscopic Instrument (DESI) dataset that combines observations from the DESI Imaging Surveys (DECals, MzLS, BASS, DES) as the target domain.\n",
    "\n",
    "Recall that images are typically normalized to be in the range [-1,1] for gradient stabilitiy during training. This is done via [z-score normalization](https://en.wikipedia.org/wiki/Standard_score). I've precalculated the means and standard deviations of the datasets for you. Feel free to check this yourself! This is an often not-discussed/overlooked aspect of training NNs, but data normalization is **immensely important**. Lets start by defining our dataset class:\n"
   ]
  },
  {
   "cell_type": "code",
   "execution_count": 2,
   "id": "300e09f6",
   "metadata": {},
   "outputs": [],
   "source": [
    "class GZEvo(Dataset):\n",
    "    \"\"\"Dataset class for the Galaxy Zoo Evolution dataset.\n",
    "\n",
    "    Args:\n",
    "        input_path (str): Path to the input data.\n",
    "        output_path (Optional[str], optional): Path to the output data. Defaults to None.\n",
    "        transform (Optional[Callable], optional): Transform to apply to the data. Defaults to None.\n",
    "    \"\"\"\n",
    "\n",
    "    def __init__(\n",
    "        self,\n",
    "        input_path: str,\n",
    "        output_path: Optional[str] = None,\n",
    "        transform: Optional[Callable] = None,\n",
    "    ):\n",
    "        self.input_path = input_path\n",
    "        self.output_path = output_path\n",
    "        self.transform = transform\n",
    "\n",
    "        try:\n",
    "            self.img = np.load(self.input_path)\n",
    "            self.label = np.load(self.output_path)\n",
    "        except Exception as e:\n",
    "            raise RuntimeError(\n",
    "                f\"Error loading data from {input_path} and {output_path}: {e}\"\n",
    "            )\n",
    "\n",
    "        self.length = len(self.img)\n",
    "\n",
    "    def __getitem__(self, idx: int):\n",
    "        img = self.img[idx]\n",
    "        if self.transform:\n",
    "            img = self.transform(img)\n",
    "\n",
    "        label = torch.tensor(self.label[idx], dtype=torch.long)\n",
    "        return img, label\n",
    "\n",
    "    def __len__(self) -> int:\n",
    "        return self.length"
   ]
  },
  {
   "cell_type": "markdown",
   "id": "5b283ad7",
   "metadata": {},
   "source": [
    "Like with MNIST-M, we need to be careful about image normalization. I've precalculated the dataset statistics for you again"
   ]
  },
  {
   "cell_type": "code",
   "execution_count": null,
   "id": "50b2823f",
   "metadata": {},
   "outputs": [],
   "source": [
    "data_subset_size = 10000\n",
    "train_subset_size = int(data_subset_size * 0.8)\n",
    "test_subset_size = data_subset_size - train_subset_size\n",
    "\n",
    "sdss_mean = (0.0439, 0.0388, 0.0289)\n",
    "sdss_std = (0.0816, 0.0687, 0.0590)\n",
    "desi_mean = (0.1040, 0.0971, 0.0951)\n",
    "desi_std = (0.0835, 0.0789, 0.0754)\n",
    "\n",
    "sdss_transform = transforms.Compose(\n",
    "            [\n",
    "                transforms.ToTensor(),\n",
    "                transforms.Normalize(mean=sdss_mean, std=sdss_std),\n",
    "                transforms.Resize((28, 28)),\n",
    "            ]\n",
    "        )\n",
    "\n",
    "desi_transform = transforms.Compose(\n",
    "            [\n",
    "                transforms.ToTensor(),\n",
    "                transforms.Normalize(mean=desi_mean, std=desi_std),\n",
    "                transforms.Resize((28, 28)),\n",
    "            ]\n",
    "        )\n",
    "\n",
    "source_train_dataset = GZEvo(\n",
    "    input_path=\"./data/galaxy_dataset/galaxy_dataset/train/x_train_sdss.npy\",\n",
    "    output_path=\"./data/galaxy_dataset/galaxy_dataset/train/y_train_sdss.npy\",\n",
    "    transform=sdss_transform\n",
    ")\n",
    "\n",
    "target_train_dataset = GZEvo(\n",
    "    input_path=\"./data/galaxy_dataset/galaxy_dataset/train/x_train_desi.npy\",\n",
    "    output_path=\"./data/galaxy_dataset/galaxy_dataset/train/y_train_desi.npy\",\n",
    "    transform=desi_transform\n",
    ")\n",
    "\n",
    "source_test_dataset = GZEvo(\n",
    "    input_path=\"./data/galaxy_dataset/galaxy_dataset/test/x_test_sdss.npy\",\n",
    "    output_path=\"./data/galaxy_dataset/galaxy_dataset/test/y_test_sdss.npy\",\n",
    "    transform=sdss_transform\n",
    ")\n",
    "\n",
    "target_test_dataset = GZEvo(\n",
    "    input_path=\"./data/galaxy_dataset/galaxy_dataset/test/x_test_desi.npy\",\n",
    "    output_path=\"./data/galaxy_dataset/galaxy_dataset/test/y_test_desi.npy\",\n",
    "    transform=desi_transform\n",
    ")\n",
    "\n",
    "source_train_indices = torch.randperm(len(source_train_dataset))[:train_subset_size]\n",
    "source_test_indices = torch.randperm(len(source_test_dataset))[:test_subset_size]\n",
    "target_train_indices = torch.randperm(len(target_train_dataset))[:train_subset_size]\n",
    "target_test_indices = torch.randperm(len(target_test_dataset))[:test_subset_size]\n",
    "\n",
    "source_train_dataset = Subset(source_train_dataset, source_train_indices)\n",
    "source_test_dataset = Subset(source_test_dataset, source_test_indices)\n",
    "target_train_dataset = Subset(target_train_dataset, target_train_indices)\n",
    "target_test_dataset = Subset(target_test_dataset, target_test_indices)\n",
    "\n",
    "source_train_loader = DataLoader(\n",
    "    source_train_dataset,\n",
    "    batch_size=64,\n",
    "    shuffle=True\n",
    ")\n",
    "target_train_loader = DataLoader(\n",
    "    target_train_dataset,\n",
    "    batch_size=64,\n",
    "    shuffle=True\n",
    ")\n",
    "source_test_loader = DataLoader(\n",
    "    source_test_dataset,\n",
    "    batch_size=64,\n",
    "    shuffle=False\n",
    ")\n",
    "target_test_loader = DataLoader(\n",
    "    target_test_dataset,\n",
    "    batch_size=64,\n",
    "    shuffle=False\n",
    ")"
   ]
  },
  {
   "cell_type": "code",
   "execution_count": 4,
   "id": "61380cb5",
   "metadata": {},
   "outputs": [
    {
     "name": "stdout",
     "output_type": "stream",
     "text": [
      "Mean: tensor([ 1.7008e-03,  1.4441e-03, -6.5291e-05], dtype=torch.float64)\n",
      "Std: tensor([0.9296, 0.9277, 0.9186], dtype=torch.float64)\n",
      "Mean: tensor([0.0016, 0.0028, 0.0023], dtype=torch.float64)\n",
      "Std: tensor([0.9124, 0.9235, 0.9208], dtype=torch.float64)\n",
      "Mean: tensor([-0.0026,  0.0031,  0.0042], dtype=torch.float64)\n",
      "Std: tensor([0.9298, 0.9289, 0.9238], dtype=torch.float64)\n",
      "Mean: tensor([0.0095, 0.0101, 0.0090], dtype=torch.float64)\n",
      "Std: tensor([0.9182, 0.9290, 0.9254], dtype=torch.float64)\n"
     ]
    }
   ],
   "source": [
    "def compute_mean_std(dataset):\n",
    "    loader = DataLoader(dataset, batch_size=64, shuffle=False)\n",
    "    mean = 0.0\n",
    "    std = 0.0\n",
    "    n_samples = 0\n",
    "\n",
    "    for imgs, _ in loader:\n",
    "        # imgs shape: (B, C, H, W)\n",
    "        batch_samples = imgs.size(0)\n",
    "        imgs = imgs.view(batch_samples, imgs.size(1), -1)  # (B, C, H*W)\n",
    "        mean += imgs.mean(2).sum(0)\n",
    "        std += imgs.std(2).sum(0)\n",
    "        n_samples += batch_samples\n",
    "\n",
    "    mean /= n_samples\n",
    "    std /= n_samples\n",
    "    return mean, std\n",
    "\n",
    "# Example: Compute for source training set\n",
    "mean, std = compute_mean_std(source_train_dataset)\n",
    "print(\"Mean:\", mean)\n",
    "print(\"Std:\", std)\n",
    "mean, std = compute_mean_std(target_train_dataset)\n",
    "print(\"Mean:\", mean)\n",
    "print(\"Std:\", std)\n",
    "mean, std = compute_mean_std(source_test_dataset)\n",
    "print(\"Mean:\", mean)\n",
    "print(\"Std:\", std)\n",
    "mean, std = compute_mean_std(target_test_dataset)\n",
    "print(\"Mean:\", mean)\n",
    "print(\"Std:\", std)\n"
   ]
  },
  {
   "cell_type": "markdown",
   "id": "4f4388b0",
   "metadata": {},
   "source": [
    "Now that the data is downloaded, lets just sanity check that the images look like what we would expect."
   ]
  },
  {
   "cell_type": "code",
   "execution_count": null,
   "id": "692bd909",
   "metadata": {},
   "outputs": [
    {
     "data": {
      "image/png": "[encoded data removed]",
      "text/plain": [
       "<Figure size 1000x400 with 12 Axes>"
      ]
     },
     "metadata": {},
     "output_type": "display_data"
    }
   ],
   "source": [
    "labels_dict = {'barred_spiral': 0, \n",
    "               'edge_on_disk': 1, \n",
    "               'featured_without_bar_or_spiral': 2, \n",
    "               'smooth_cigar': 3, \n",
    "               'smooth_round': 4, \n",
    "               'unbarred_spiral': 5\n",
    "            }\n",
    "labels_dict = {v: k for k, v in labels_dict.items()}  # Reverse the dictionary for plotting\n",
    "\n",
    "def get_examples_by_label(dataset):\n",
    "    label_to_img = {}\n",
    "    for img, label in dataset:\n",
    "        label = int(label)\n",
    "        if label not in label_to_img:\n",
    "            label_to_img[label] = img\n",
    "        if len(label_to_img) == 6:\n",
    "            break\n",
    "    return label_to_img\n",
    "\n",
    "# Undo normalization\n",
    "def unnormalize(img, mean, std):\n",
    "    img = img.clone()\n",
    "    for c in range(img.shape[0]):\n",
    "        img[c] = img[c] * std[c] + mean[c]\n",
    "    return img\n",
    "\n",
    "# Collect examples\n",
    "sdss_galaxy = get_examples_by_label(source_train_dataset)\n",
    "desi_galaxy = get_examples_by_label(target_train_dataset)\n",
    "\n",
    "# Plotting\n",
    "fig, axes = plt.subplots(2, 6, figsize=(10, 4))\n",
    "\n",
    "for i in range(6):\n",
    "    # SDSS (top row)\n",
    "    image_sdss = unnormalize(sdss_galaxy[i], sdss_mean, sdss_std)\n",
    "    axes[0, i].imshow(image_sdss.permute(1, 2, 0).numpy())\n",
    "    # use labels from labels_dict\n",
    "    axes[0, i].set_title(f\"{labels_dict[i]}\", fontsize=10)\n",
    "    axes[0, i].axis(\"off\")\n",
    "\n",
    "    # DESI (bottom row)\n",
    "    image_desi = unnormalize(desi_galaxy[i], desi_mean, desi_std)\n",
    "    axes[1, i].imshow(image_desi.permute(1, 2, 0).numpy())\n",
    "    axes[1, i].set_title(f\"{labels_dict[i]}\", fontsize=10)\n",
    "    axes[1, i].axis(\"off\")\n",
    "\n",
    "axes[0, 0].set_ylabel(\"SDSS\", fontsize=12)\n",
    "axes[1, 0].set_ylabel(\"DESI\", fontsize=12)\n",
    "plt.tight_layout()\n",
    "plt.show()\n"
   ]
  },
  {
   "cell_type": "markdown",
   "id": "27a9ce8c",
   "metadata": {},
   "source": [
    "Images look good, now lets just check that the shapes are the same for training, and that the z-score normalization statistics look ok."
   ]
  },
  {
   "cell_type": "code",
   "execution_count": 6,
   "id": "3feb0521",
   "metadata": {},
   "outputs": [
    {
     "name": "stdout",
     "output_type": "stream",
     "text": [
      "SDSS image shape: torch.Size([1, 3, 28, 28])\n",
      "DESI image shape: torch.Size([1, 3, 28, 28])\n",
      "SDSS image stats: tensor(0.3389, dtype=torch.float64) tensor(1.2147, dtype=torch.float64)\n",
      "DESI image stats: tensor(0.0340, dtype=torch.float64) tensor(1.0110, dtype=torch.float64)\n"
     ]
    }
   ],
   "source": [
    "# Get a sample image from each dataset\n",
    "sdss_image = next(iter(DataLoader(source_test_dataset, batch_size=1)))[0]\n",
    "desi_image = next(iter(DataLoader(source_train_dataset, batch_size=1)))[0]\n",
    "\n",
    "# Print the shapes\n",
    "print(\"SDSS image shape:\", sdss_image.shape) # should be (3, 28, 28)\n",
    "print(\"DESI image shape:\", desi_image.shape) # should be (3, 28, 28)\n",
    "print(\"SDSS image stats:\", torch.mean(sdss_image), torch.std(sdss_image)) # should be close to 0 and 1\n",
    "print(\"DESI image stats:\", torch.mean(desi_image), torch.std(desi_image)) # should be close to 0 and 1"
   ]
  },
  {
   "cell_type": "markdown",
   "id": "7ac9987e",
   "metadata": {},
   "source": [
    "---\n",
    "Now let's define our model. We will use the same CNN architecture from the previous tutorial. We've added [layer normalization](https://arxiv.org/abs/1607.06450) before returning the latent space to help stabalize the representations. "
   ]
  },
  {
   "cell_type": "code",
   "execution_count": 7,
   "id": "32206a69",
   "metadata": {},
   "outputs": [],
   "source": [
    "class CNN(nn.Module):\n",
    "    def __init__(self, num_classes=10):\n",
    "        super().__init__()\n",
    "        self.conv = nn.Conv2d(3, 32, kernel_size=5, padding=2)\n",
    "        self.pool = nn.MaxPool2d(2, 2)\n",
    "        self.flatten_dim = 32 * 14 * 14  # for input images of shape (3, 50, 50)\n",
    "\n",
    "        self.fc1 = nn.Linear(self.flatten_dim, 128)\n",
    "        self.ln1 = nn.LayerNorm(128)  # apply to latent vector\n",
    "        self.fc2 = nn.Linear(128, num_classes)\n",
    "\n",
    "    def forward(self, x):\n",
    "        x = self.pool(F.relu(self.conv(x)))\n",
    "        z = x.view(-1, self.flatten_dim)\n",
    "        z = F.relu(self.fc1(z))\n",
    "        z = self.ln1(z)  # apply LayerNorm to the latent vector\n",
    "        out = self.fc2(z)\n",
    "        return out, z\n"
   ]
  },
  {
   "cell_type": "code",
   "execution_count": 8,
   "id": "d7c027e2",
   "metadata": {},
   "outputs": [
    {
     "name": "stdout",
     "output_type": "stream",
     "text": [
      "Using device: cpu\n"
     ]
    },
    {
     "name": "stderr",
     "output_type": "stream",
     "text": [
      " 25%|██▌       | 1/4 [00:03<00:11,  4.00s/it]"
     ]
    },
    {
     "name": "stdout",
     "output_type": "stream",
     "text": [
      "Epoch [1/4]  Loss: 1.1451  Accuracy: 57.39%\n"
     ]
    },
    {
     "name": "stderr",
     "output_type": "stream",
     "text": [
      " 50%|█████     | 2/4 [00:07<00:07,  3.93s/it]"
     ]
    },
    {
     "name": "stdout",
     "output_type": "stream",
     "text": [
      "Epoch [2/4]  Loss: 0.7647  Accuracy: 71.56%\n"
     ]
    },
    {
     "name": "stderr",
     "output_type": "stream",
     "text": [
      " 75%|███████▌  | 3/4 [00:11<00:03,  3.98s/it]"
     ]
    },
    {
     "name": "stdout",
     "output_type": "stream",
     "text": [
      "Epoch [3/4]  Loss: 0.6944  Accuracy: 73.90%\n"
     ]
    },
    {
     "name": "stderr",
     "output_type": "stream",
     "text": [
      "100%|██████████| 4/4 [00:15<00:00,  3.97s/it]"
     ]
    },
    {
     "name": "stdout",
     "output_type": "stream",
     "text": [
      "Epoch [4/4]  Loss: 0.6248  Accuracy: 76.84%\n"
     ]
    },
    {
     "name": "stderr",
     "output_type": "stream",
     "text": [
      "\n"
     ]
    }
   ],
   "source": [
    "device = torch.device(\"cuda\" if torch.cuda.is_available() else \"cpu\")\n",
    "print(\"Using device:\", device)\n",
    "CE_only_model = CNN(num_classes=6).to(device)\n",
    "\n",
    "# Loss and optimizer\n",
    "criterion = nn.CrossEntropyLoss()\n",
    "optimizer = optim.AdamW(CE_only_model.parameters(), lr=1e-3)\n",
    "best_model = None\n",
    "best_loss = float('inf')\n",
    "# Training loop\n",
    "num_epochs = 4\n",
    "for epoch in tqdm(range(num_epochs)):\n",
    "    CE_only_model.train()\n",
    "    running_loss = 0.0\n",
    "    correct = 0\n",
    "    total = 0\n",
    "\n",
    "    for images, labels in source_train_loader:\n",
    "        images, labels = images.to(device), labels.to(device)\n",
    "        images = images.float()\n",
    "\n",
    "        # Forward pass\n",
    "        outputs, _ = CE_only_model(images) ## not using latent z for now\n",
    "        loss = criterion(outputs, labels)\n",
    "\n",
    "        # Backward pass\n",
    "        optimizer.zero_grad()\n",
    "        loss.backward()\n",
    "        optimizer.step()\n",
    "        \n",
    "        if loss.item() < best_loss:\n",
    "            best_loss = loss.item()\n",
    "            best_model = copy.deepcopy(CE_only_model.state_dict())\n",
    "\n",
    "\n",
    "        # Track training stats\n",
    "        running_loss += loss.item()\n",
    "        _, predicted = outputs.max(1)\n",
    "        total += labels.size(0)\n",
    "        correct += predicted.eq(labels).sum().item()\n",
    "\n",
    "    print(f\"Epoch [{epoch+1}/{num_epochs}]  Loss: {running_loss/len(source_train_loader):.4f}  Accuracy: {100*correct/total:.2f}%\")"
   ]
  },
  {
   "cell_type": "code",
   "execution_count": 9,
   "id": "2236f5c2",
   "metadata": {},
   "outputs": [
    {
     "name": "stdout",
     "output_type": "stream",
     "text": [
      "Accuracy on source domain (SDSS): 73.10%\n",
      "Accuracy on target domain (DESI): 61.05%\n"
     ]
    }
   ],
   "source": [
    "def test_model(model, data_loader, device):\n",
    "    model.eval()\n",
    "    correct = 0\n",
    "    total = 0\n",
    "    with torch.no_grad():\n",
    "        for images, labels in data_loader:\n",
    "            images, labels = images.to(device), labels.to(device)\n",
    "            images = images.float()\n",
    "            outputs, _ = model(images)\n",
    "            _, predicted = outputs.max(1)\n",
    "            total += labels.size(0)\n",
    "            correct += predicted.eq(labels).sum().item()\n",
    "    accuracy = 100 * correct / total\n",
    "    return accuracy\n",
    "\n",
    "# Test on source domain (MNIST)\n",
    "CE_only_model.load_state_dict(best_model)\n",
    "source_accuracy = test_model(CE_only_model, source_test_loader, device)\n",
    "print(f\"Accuracy on source domain (SDSS): {source_accuracy:.2f}%\")\n",
    "\n",
    "# Test on target domain (MNIST-M)\n",
    "target_accuracy = test_model(CE_only_model, target_test_loader, device)\n",
    "print(f\"Accuracy on target domain (DESI): {target_accuracy:.2f}%\")"
   ]
  },
  {
   "cell_type": "markdown",
   "id": "23a602dc",
   "metadata": {},
   "source": [
    "We see that the model has a slight % discrepancy between the source and target domain. Indeed, despite the galaxy observations coming from fundamentally different imaging instruments, the images dont look *too* different. Can you think about why the two datasets look similar despite coming from SDSS and DESI? Think about the photometric filters used in both surveys, and their wavelength coverage. \n",
    "\n",
    "*Stretch Question:* Would you expect galaxy observations from JWST and DESI to look similar? What would be different about constructing a model that generalizes between SDSS and JWST observations? What kind of domain shift would this be?\n",
    "\n",
    "Now, lets move to domain adaptation and see if we can shrink this performance gap between $\\mathcal{D}_s$ and $\\mathcal{D}_t$. We will again use `geomloss`, but this time using the Sinkhorn Divergence.\n",
    "\n",
    "---"
   ]
  },
  {
   "cell_type": "markdown",
   "id": "8d305f17",
   "metadata": {},
   "source": [
    "The Sinkhorn Divergence\n",
    "---\n",
    "\n",
    "The optimal transport (OT) distance is distance measure much like MMD. One notable problem with MMD distances is the user-specified choice of kernel function $k$. There are several principled kernel options (e.g., Gaussian, Lapllacian, linear, etc.) with the optimal choice of kernel determined through extensive experimentation. A single kernel may not be optimal, either, and a superposition of kernels may be needed for optimal domain alignment. OT distances avoid this by not requiring a kernel function in computing distances, and have gained popularity in recent years due to *entropic regularization* making the calculation of such distances more manageable. The regularized OT is defined as\n",
    "\n",
    "$$\n",
    "\\text{OT}_\\sigma(\\mu, \\nu) = \\min_{\\gamma \\in U(\\mu, \\nu)} \\left( \\sum_{i,j} \\gamma_{ij} d(z_i, z_j^*)^p + \\sigma H(\\gamma) \\right),\n",
    "$$\n",
    "\n",
    "where $d(z_i, z_j^*)^p$ is the distance between source feature $z_i$ and target feature $z_j^*$. When $p = 1$, this distance becomes the Earth Mover’s Distance [Rubner et al., 1998], and when \\( p = 2 \\), it becomes the quadratic Wasserstein distance.\n",
    "\n",
    "The transport plan $\\gamma \\in U(\\mu, \\nu)$ is a joint probability distribution between $\\mu$ and $\\nu$, where the set of admissible transport plans $U(\\mu, \\nu)$ is defined by the marginal constraints:\n",
    "\n",
    "$$\n",
    "\\sum_j \\gamma_{ij} = \\mu_i, \\quad \\sum_i \\gamma_{ij} = \\nu_j. \\tag{4}\n",
    "$$\n",
    "\n",
    "Much of the expense in the regularized OT problem is finding measures that satisfy these constraints. The entropy $H(\\gamma) = -\\sum_{i,j} \\gamma_{ij} \\log \\gamma_{ij}$ regularizes the transport plan $\\gamma$, and $\\sigma$ controls the regularization strength (this is sometimes referred to as the \"blur\" parameter). One limitation of $\\text{OT}_\\sigma$ is that $\\text{OT}_\\sigma(\\mu, \\mu) \\ne 0$, implying a non-zero cost even when transporting a distribution to itself, leading to bias in the measure.\n",
    "\n",
    "To correct this bias, the Sinkhorn divergence $S_\\sigma(\\mu, \\nu)$, defined as\n",
    "\n",
    "$$\n",
    "S_\\sigma(\\mu, \\nu) = \\text{OT}_\\sigma(\\mu, \\nu) - \\frac{1}{2} \\text{OT}_\\sigma(\\mu, \\mu) - \\frac{1}{2} \\text{OT}_\\sigma(\\nu, \\nu), \\tag{5}\n",
    "$$\n",
    "\n",
    "can compensate for the bias in $\\text{OT}_\\sigma$ [Feydy et al., 2018]. As $\\sigma \\to 0$, $S_\\sigma(\\mu, \\nu)$ converges to the (biased) optimal transport $\\text{OT}_0$, and as $\\sigma \\to \\infty$, it interpolates towards MMD loss [Feydy et al., 2018]. For small values of $\\sigma$, an unbiased transport plan that still enjoys the benefits of OT-based distances can be constructed. We're now ready for our full loss function:\n",
    "\n",
    "$$\n",
    "\\mathcal{L} = \\mathcal{L}_{\\text{CE}}(y_s, \\hat{y}_s) + \\lambda \\cdot S_\\sigma(z, z^*),\n",
    "$$\n",
    "\n",
    "where $\\lambda$ dictates the strength of the DA loss term.\n",
    "\n",
    "A few understanding checks before we move forward:\n",
    "* Double check that the Sinkhorn Divergence is unbiased: $S_\\sigma(\\mu, \\mu) = S_\\sigma(\\nu, \\nu) = 0$. What would happen if you performed DA with a biased measure ($\\text{OT}(\\mu, \\nu)$)?\n",
    "* There is one hyperparameter here. What is the reason for having $\\sigma \\to 0$ vs. $\\sigma \\to \\infty$? Think also about computational complexity / speed.\n",
    "* What would happen when training with $\\lambda \\to 0$. What about the opposite, when $\\lambda \\gg 1$?\n",
    "\n",
    "Our focus for these next code blocks will be the $\\lambda$ term and one technique to finding the optimal balance between the primary learning objective and DA. Lets start with $\\lambda \\to 0$. We will use a fixed value of $\\sigma = 10$; this is still nearly $\\mathcal{O}(1)$, but no so small that the Sinkhorn iterations become very expensive."
   ]
  },
  {
   "cell_type": "code",
   "execution_count": 10,
   "id": "6c903675",
   "metadata": {},
   "outputs": [
    {
     "name": "stdout",
     "output_type": "stream",
     "text": [
      "Using device: cpu\n"
     ]
    },
    {
     "name": "stderr",
     "output_type": "stream",
     "text": [
      " 10%|█         | 1/10 [00:06<00:58,  6.48s/it]"
     ]
    },
    {
     "name": "stdout",
     "output_type": "stream",
     "text": [
      "Epoch [1/10], CE Loss: 1.1967, DA Loss: 0.2724 Source Acc: 54.46%, Target Acc: 48.36%\n"
     ]
    },
    {
     "name": "stderr",
     "output_type": "stream",
     "text": [
      " 20%|██        | 2/10 [00:13<00:53,  6.64s/it]"
     ]
    },
    {
     "name": "stdout",
     "output_type": "stream",
     "text": [
      "Epoch [2/10], CE Loss: 0.7960, DA Loss: 1.5491 Source Acc: 70.35%, Target Acc: 55.74%\n"
     ]
    },
    {
     "name": "stderr",
     "output_type": "stream",
     "text": [
      " 30%|███       | 3/10 [00:20<00:47,  6.79s/it]"
     ]
    },
    {
     "name": "stdout",
     "output_type": "stream",
     "text": [
      "Epoch [3/10], CE Loss: 0.7173, DA Loss: 2.5587 Source Acc: 73.04%, Target Acc: 57.76%\n"
     ]
    },
    {
     "name": "stderr",
     "output_type": "stream",
     "text": [
      " 40%|████      | 4/10 [00:26<00:39,  6.52s/it]"
     ]
    },
    {
     "name": "stdout",
     "output_type": "stream",
     "text": [
      "Epoch [4/10], CE Loss: 0.6835, DA Loss: 2.7770 Source Acc: 74.29%, Target Acc: 59.30%\n"
     ]
    },
    {
     "name": "stderr",
     "output_type": "stream",
     "text": [
      " 50%|█████     | 5/10 [00:32<00:32,  6.43s/it]"
     ]
    },
    {
     "name": "stdout",
     "output_type": "stream",
     "text": [
      "Epoch [5/10], CE Loss: 0.6238, DA Loss: 3.2094 Source Acc: 76.04%, Target Acc: 58.50%\n"
     ]
    },
    {
     "name": "stderr",
     "output_type": "stream",
     "text": [
      " 60%|██████    | 6/10 [00:38<00:25,  6.38s/it]"
     ]
    },
    {
     "name": "stdout",
     "output_type": "stream",
     "text": [
      "Epoch [6/10], CE Loss: 0.5959, DA Loss: 3.6147 Source Acc: 77.14%, Target Acc: 58.45%\n"
     ]
    },
    {
     "name": "stderr",
     "output_type": "stream",
     "text": [
      " 70%|███████   | 7/10 [00:44<00:18,  6.27s/it]"
     ]
    },
    {
     "name": "stdout",
     "output_type": "stream",
     "text": [
      "Epoch [7/10], CE Loss: 0.5513, DA Loss: 3.8574 Source Acc: 79.42%, Target Acc: 58.52%\n"
     ]
    },
    {
     "name": "stderr",
     "output_type": "stream",
     "text": [
      " 80%|████████  | 8/10 [00:51<00:12,  6.29s/it]"
     ]
    },
    {
     "name": "stdout",
     "output_type": "stream",
     "text": [
      "Epoch [8/10], CE Loss: 0.4970, DA Loss: 4.0979 Source Acc: 80.96%, Target Acc: 58.39%\n"
     ]
    },
    {
     "name": "stderr",
     "output_type": "stream",
     "text": [
      " 90%|█████████ | 9/10 [00:57<00:06,  6.17s/it]"
     ]
    },
    {
     "name": "stdout",
     "output_type": "stream",
     "text": [
      "Epoch [9/10], CE Loss: 0.4439, DA Loss: 4.7558 Source Acc: 83.04%, Target Acc: 58.33%\n"
     ]
    },
    {
     "name": "stderr",
     "output_type": "stream",
     "text": [
      "100%|██████████| 10/10 [01:03<00:00,  6.32s/it]"
     ]
    },
    {
     "name": "stdout",
     "output_type": "stream",
     "text": [
      "Epoch [10/10], CE Loss: 0.3964, DA Loss: 5.3365 Source Acc: 84.69%, Target Acc: 59.06%\n"
     ]
    },
    {
     "name": "stderr",
     "output_type": "stream",
     "text": [
      "\n"
     ]
    }
   ],
   "source": [
    "from geomloss import SamplesLoss\n",
    "\n",
    "num_epochs = 10\n",
    "# --- Setup ---\n",
    "device = torch.device(\"cuda\" if torch.cuda.is_available() else \"cpu\")\n",
    "print(\"Using device:\", device)\n",
    "\n",
    "DA_model = CNN().to(device)  # CNN should return (logits, z)\n",
    "criterion = nn.CrossEntropyLoss()\n",
    "optimizer = optim.AdamW(DA_model.parameters(), lr=5e-3)\n",
    "lambda_mmd = 0.0001\n",
    "geomloss_fn = SamplesLoss(\"sinkhorn\", p=2, blur=10) # GeomLoss with Sinkhorn distance, p=2, blur ~ σ; tune as needed\n",
    "best_model = None\n",
    "best_loss = float('inf')\n",
    "\n",
    "# --- Training ---\n",
    "for epoch in tqdm(range(num_epochs)):\n",
    "    DA_model.train()\n",
    "    running_loss, correct_s, correct_t, total_s, total_t = 0.0, 0, 0, 0, 0\n",
    "    running_DA, running_CE = 0.0, 0.0\n",
    "\n",
    "    for (source_imgs, source_labels), (target_imgs, target_labels) in zip(source_train_loader, target_train_loader):\n",
    "        source_imgs, source_labels = source_imgs.to(device), source_labels.to(device)\n",
    "        target_imgs, target_labels = target_imgs.to(device), target_labels.to(device)\n",
    "        source_imgs, target_imgs = source_imgs.float(), target_imgs.float()\n",
    "\n",
    "        # --- Concatenate images and forward ---\n",
    "        combined_imgs = torch.cat([source_imgs, target_imgs], dim=0)\n",
    "        logits, z = DA_model(combined_imgs)\n",
    "\n",
    "        # --- Split latent vectors and outputs ---\n",
    "        z_s, z_t = z[:source_imgs.size(0)], z[source_imgs.size(0):]\n",
    "        logits_s = logits[:source_imgs.size(0)]\n",
    "        logits_t = logits[source_imgs.size(0):]\n",
    "\n",
    "        # --- Compute losses ---\n",
    "        ce_loss = criterion(logits_s, source_labels)\n",
    "        mmd_loss = geomloss_fn(z_s, z_t)  # ← GeomLoss replaces MMD here\n",
    "        total_loss = ce_loss + lambda_mmd * mmd_loss\n",
    "        \n",
    "        if total_loss.item() < best_loss:\n",
    "            best_loss = total_loss.item()\n",
    "            best_model = copy.deepcopy(DA_model.state_dict())\n",
    "\n",
    "\n",
    "        # --- Backpropagation ---\n",
    "        optimizer.zero_grad()\n",
    "        total_loss.backward()\n",
    "        optimizer.step()\n",
    "\n",
    "        # --- Metrics ---\n",
    "        running_loss += total_loss.item()\n",
    "        running_CE += ce_loss.item()\n",
    "        running_DA += mmd_loss.item()\n",
    "        _, predicted_s = logits_s.max(1)\n",
    "        total_s += source_labels.size(0)\n",
    "        correct_s += predicted_s.eq(source_labels).sum().item()\n",
    "        _, predicted_t = logits_t.max(1)\n",
    "        total_t += target_labels.size(0)\n",
    "        correct_t += predicted_t.eq(target_labels).sum().item()\n",
    "\n",
    "    print(f\"Epoch [{epoch+1}/{num_epochs}], CE Loss: {running_CE/len(source_train_loader):.4f}, DA Loss: {running_DA/len(source_train_loader):.4f} Source Acc: {100*correct_s/total_s:.2f}%, Target Acc: {100*correct_t/total_t:.2f}%\")"
   ]
  },
  {
   "cell_type": "code",
   "execution_count": 11,
   "id": "15d46661",
   "metadata": {},
   "outputs": [
    {
     "name": "stdout",
     "output_type": "stream",
     "text": [
      "Accuracy on source domain (MNIST): 73.10%\n",
      "Accuracy on target domain (MNIST-M): 61.90%\n"
     ]
    }
   ],
   "source": [
    "# Test on source domain (SDSS)\n",
    "DA_model.load_state_dict(best_model)\n",
    "source_accuracy = test_model(DA_model, source_test_loader, device)\n",
    "print(f\"Accuracy on source domain (MNIST): {source_accuracy:.2f}%\")\n",
    "\n",
    "# Test on target domain (DESI)\n",
    "target_accuracy = test_model(DA_model, target_test_loader, device)\n",
    "print(f\"Accuracy on target domain (MNIST-M): {target_accuracy:.2f}%\")"
   ]
  },
  {
   "cell_type": "markdown",
   "id": "6f391134",
   "metadata": {},
   "source": [
    "Ok, so virtually no improvement here. In this case, the DA term isn't contributing meaningfully to the loss landscape. A reasonable guess would be that $\\lambda$ should be less than 1, but it is hard to guess a priori whether it should be $\\mathcal{O}(0.1)$, $\\mathcal{O}(0.01)$, etc. For a different dataset, a $\\lambda$ value as small as whats used above could be appropriate - it's hard to tell without an explicit search.\n",
    "\n",
    "Let's now test the opposite limit, with a much larger $\\lambda$ value."
   ]
  },
  {
   "cell_type": "code",
   "execution_count": 12,
   "id": "90d69beb",
   "metadata": {},
   "outputs": [
    {
     "name": "stdout",
     "output_type": "stream",
     "text": [
      "Using device: cpu\n"
     ]
    },
    {
     "name": "stderr",
     "output_type": "stream",
     "text": [
      " 10%|█         | 1/10 [00:06<00:55,  6.11s/it]"
     ]
    },
    {
     "name": "stdout",
     "output_type": "stream",
     "text": [
      "Epoch [1/10], CE Loss: 1.5179, DA Loss: 0.2504 Source Acc: 42.14%, Target Acc: 46.90%\n"
     ]
    },
    {
     "name": "stderr",
     "output_type": "stream",
     "text": [
      " 20%|██        | 2/10 [00:11<00:46,  5.85s/it]"
     ]
    },
    {
     "name": "stdout",
     "output_type": "stream",
     "text": [
      "Epoch [2/10], CE Loss: 1.4942, DA Loss: 0.0012 Source Acc: 43.36%, Target Acc: 48.75%\n"
     ]
    },
    {
     "name": "stderr",
     "output_type": "stream",
     "text": [
      " 30%|███       | 3/10 [00:17<00:41,  5.87s/it]"
     ]
    },
    {
     "name": "stdout",
     "output_type": "stream",
     "text": [
      "Epoch [3/10], CE Loss: 1.4846, DA Loss: 0.0003 Source Acc: 43.71%, Target Acc: 49.04%\n"
     ]
    },
    {
     "name": "stderr",
     "output_type": "stream",
     "text": [
      " 40%|████      | 4/10 [00:23<00:36,  6.03s/it]"
     ]
    },
    {
     "name": "stdout",
     "output_type": "stream",
     "text": [
      "Epoch [4/10], CE Loss: 1.4870, DA Loss: 0.0002 Source Acc: 43.71%, Target Acc: 49.04%\n"
     ]
    },
    {
     "name": "stderr",
     "output_type": "stream",
     "text": [
      " 50%|█████     | 5/10 [00:30<00:30,  6.16s/it]"
     ]
    },
    {
     "name": "stdout",
     "output_type": "stream",
     "text": [
      "Epoch [5/10], CE Loss: 1.4846, DA Loss: 0.0001 Source Acc: 43.71%, Target Acc: 49.04%\n"
     ]
    },
    {
     "name": "stderr",
     "output_type": "stream",
     "text": [
      " 60%|██████    | 6/10 [00:36<00:24,  6.23s/it]"
     ]
    },
    {
     "name": "stdout",
     "output_type": "stream",
     "text": [
      "Epoch [6/10], CE Loss: 1.4898, DA Loss: 0.0001 Source Acc: 43.71%, Target Acc: 49.04%\n"
     ]
    },
    {
     "name": "stderr",
     "output_type": "stream",
     "text": [
      " 70%|███████   | 7/10 [00:42<00:18,  6.25s/it]"
     ]
    },
    {
     "name": "stdout",
     "output_type": "stream",
     "text": [
      "Epoch [7/10], CE Loss: 1.4867, DA Loss: 0.0001 Source Acc: 43.30%, Target Acc: 48.61%\n"
     ]
    },
    {
     "name": "stderr",
     "output_type": "stream",
     "text": [
      " 80%|████████  | 8/10 [00:49<00:12,  6.30s/it]"
     ]
    },
    {
     "name": "stdout",
     "output_type": "stream",
     "text": [
      "Epoch [8/10], CE Loss: 1.4928, DA Loss: 0.0001 Source Acc: 43.27%, Target Acc: 48.60%\n"
     ]
    },
    {
     "name": "stderr",
     "output_type": "stream",
     "text": [
      " 90%|█████████ | 9/10 [00:57<00:06,  6.99s/it]"
     ]
    },
    {
     "name": "stdout",
     "output_type": "stream",
     "text": [
      "Epoch [9/10], CE Loss: 1.4808, DA Loss: 0.0001 Source Acc: 43.31%, Target Acc: 48.66%\n"
     ]
    },
    {
     "name": "stderr",
     "output_type": "stream",
     "text": [
      "100%|██████████| 10/10 [01:05<00:00,  6.57s/it]"
     ]
    },
    {
     "name": "stdout",
     "output_type": "stream",
     "text": [
      "Epoch [10/10], CE Loss: 1.4799, DA Loss: 0.0001 Source Acc: 43.74%, Target Acc: 49.05%\n"
     ]
    },
    {
     "name": "stderr",
     "output_type": "stream",
     "text": [
      "\n"
     ]
    }
   ],
   "source": [
    "num_epochs = 10\n",
    "# --- Setup ---\n",
    "device = torch.device(\"cuda\" if torch.cuda.is_available() else \"cpu\")\n",
    "print(\"Using device:\", device)\n",
    "\n",
    "DA_model = CNN().to(device)  # CNN should return (logits, z)\n",
    "criterion = nn.CrossEntropyLoss()\n",
    "optimizer = optim.AdamW(DA_model.parameters(), lr=5e-3)\n",
    "lambda_mmd = 1000\n",
    "geomloss_fn = SamplesLoss(\"sinkhorn\", p=2, blur=.1) # GeomLoss with Sinkhorn distance, p=2, blur ~ σ; tune as needed\n",
    "best_model = None\n",
    "best_loss = float('inf')\n",
    "\n",
    "# --- Training ---\n",
    "for epoch in tqdm(range(num_epochs)):\n",
    "    DA_model.train()\n",
    "    running_loss, correct_s, correct_t, total_s, total_t = 0.0, 0, 0, 0, 0\n",
    "    running_DA, running_CE = 0.0, 0.0\n",
    "\n",
    "    for (source_imgs, source_labels), (target_imgs, target_labels) in zip(source_train_loader, target_train_loader):\n",
    "        source_imgs, source_labels = source_imgs.to(device), source_labels.to(device)\n",
    "        target_imgs, target_labels = target_imgs.to(device), target_labels.to(device)\n",
    "        source_imgs, target_imgs = source_imgs.float(), target_imgs.float()\n",
    "\n",
    "        # --- Concatenate images and forward ---\n",
    "        combined_imgs = torch.cat([source_imgs, target_imgs], dim=0)\n",
    "        logits, z = DA_model(combined_imgs)\n",
    "\n",
    "        # --- Split latent vectors and outputs ---\n",
    "        z_s, z_t = z[:source_imgs.size(0)], z[source_imgs.size(0):]\n",
    "        logits_s = logits[:source_imgs.size(0)]\n",
    "        logits_t = logits[source_imgs.size(0):]\n",
    "\n",
    "        # --- Compute losses ---\n",
    "        ce_loss = criterion(logits_s, source_labels)\n",
    "        mmd_loss = geomloss_fn(z_s, z_t)  # ← GeomLoss replaces MMD here\n",
    "        total_loss = ce_loss + lambda_mmd * mmd_loss\n",
    "        \n",
    "        if total_loss.item() < best_loss:\n",
    "            best_loss = total_loss.item()\n",
    "            best_model = copy.deepcopy(DA_model.state_dict())\n",
    "\n",
    "\n",
    "        # --- Backpropagation ---\n",
    "        optimizer.zero_grad()\n",
    "        total_loss.backward()\n",
    "        optimizer.step()\n",
    "\n",
    "        # --- Metrics ---\n",
    "        running_loss += total_loss.item()\n",
    "        running_CE += ce_loss.item()\n",
    "        running_DA += mmd_loss.item()\n",
    "        _, predicted_s = logits_s.max(1)\n",
    "        total_s += source_labels.size(0)\n",
    "        correct_s += predicted_s.eq(source_labels).sum().item()\n",
    "        _, predicted_t = logits_t.max(1)\n",
    "        total_t += target_labels.size(0)\n",
    "        correct_t += predicted_t.eq(target_labels).sum().item()\n",
    "\n",
    "    print(f\"Epoch [{epoch+1}/{num_epochs}], CE Loss: {running_CE/len(source_train_loader):.4f}, DA Loss: {running_DA/len(source_train_loader):.4f} Source Acc: {100*correct_s/total_s:.2f}%, Target Acc: {100*correct_t/total_t:.2f}%\")"
   ]
  },
  {
   "cell_type": "code",
   "execution_count": 13,
   "id": "6b483248",
   "metadata": {},
   "outputs": [
    {
     "name": "stdout",
     "output_type": "stream",
     "text": [
      "Accuracy on source domain (MNIST): 43.55%\n",
      "Accuracy on target domain (MNIST-M): 50.10%\n"
     ]
    }
   ],
   "source": [
    "# Test on source domain (SDSS)\n",
    "DA_model.load_state_dict(best_model)\n",
    "source_accuracy = test_model(DA_model, source_test_loader, device)\n",
    "print(f\"Accuracy on source domain (MNIST): {source_accuracy:.2f}%\")\n",
    "\n",
    "# Test on target domain (DESI)\n",
    "target_accuracy = test_model(DA_model, target_test_loader, device)\n",
    "print(f\"Accuracy on target domain (MNIST-M): {target_accuracy:.2f}%\")"
   ]
  },
  {
   "cell_type": "markdown",
   "id": "e117d60e",
   "metadata": {},
   "source": [
    "This was clearly too much DA...and not great performance either. And in this case, we can see that the target domain performance is better than the source! Clearly the loss function didn't let the model learn to classify galaxies properly in the first place, because the DA was too strong.\n",
    "\n",
    "So how can we be certain we're doing things optimally? What one would usually think to do in this case is some sort of search, trying out different values of $\\lambda$ within an appropriate range and seeing what works best. But also, the results could be sensitive to the choice of seed, so you should marginalize over multiple realizations and make it a grid search. But also, we havent even thought about what to do with $\\sigma$, which is important as well, so maybe a cube search...?\n",
    "\n",
    "I think you see where this is going. There's a lot of things that are important here. Here, I'll talk about a *trainable* way to avoid the $\\lambda$ search, using an idea from Bayesian inference. See [this paper](https://arxiv.org/abs/1705.07115).\n",
    "\n",
    "The overall idea is two introduce trainable coefficients for the two loss terms. Let us introduce two trainable scalar parameters $\\eta_1$ and $\\eta_2$, and define the following loss function:\n",
    "\n",
    "$$\n",
    "\\mathcal{L} = \\frac{1}{2 \\eta_1} \\mathcal{L}_\\text{CE} + \\frac{1}{2 \\eta_2} \\mathcal{L}_\\text{DA} + \\log(|\\eta_1 \\eta_2|) \n",
    "$$\n",
    "\n",
    "These values can then be optimized jointly with the model parameters, avoiding the need for a user-specified weighting for the loss terms.\n",
    "\n",
    "Let's think about this loss function before proceeding: \n",
    "\n",
    "* What happens to each loss term as its corresponding $\\eta_i \\to 0$.\n",
    "* What does the third term $\\log(|\\eta_1 \\eta_2|)$ do?\n",
    "* We saw that strongly preffering $\\mathcal{L}_\\text{DA}$ over $\\mathcal{L}_\\text{CE}$ will result in bad performance. This trainable prescription does not know a priori that doing so is bad. Is there any way to enforce this? *Hint*: Think about what range the parameters should be in."
   ]
  },
  {
   "cell_type": "code",
   "execution_count": 14,
   "id": "e33780c5",
   "metadata": {},
   "outputs": [
    {
     "name": "stdout",
     "output_type": "stream",
     "text": [
      "Using device: cpu\n"
     ]
    },
    {
     "name": "stderr",
     "output_type": "stream",
     "text": [
      " 10%|█         | 1/10 [00:06<01:02,  6.92s/it]"
     ]
    },
    {
     "name": "stdout",
     "output_type": "stream",
     "text": [
      "Epoch [1/10], CE Loss: 1.0649, DA Loss: 0.7426 Source Acc: 61.80%, Target Acc: 53.52% eta_1: 0.16757038235664368 eta_2: 0.962223470211029\n"
     ]
    },
    {
     "name": "stderr",
     "output_type": "stream",
     "text": [
      " 20%|██        | 2/10 [00:12<00:51,  6.42s/it]"
     ]
    },
    {
     "name": "stdout",
     "output_type": "stream",
     "text": [
      "Epoch [2/10], CE Loss: 0.7855, DA Loss: 0.9814 Source Acc: 70.90%, Target Acc: 58.69% eta_1: 0.19984300434589386 eta_2: 0.9710079431533813\n"
     ]
    },
    {
     "name": "stderr",
     "output_type": "stream",
     "text": [
      " 30%|███       | 3/10 [00:19<00:43,  6.26s/it]"
     ]
    },
    {
     "name": "stdout",
     "output_type": "stream",
     "text": [
      "Epoch [3/10], CE Loss: 0.7083, DA Loss: 0.8384 Source Acc: 73.79%, Target Acc: 60.76% eta_1: 0.22405940294265747 eta_2: 0.9531427025794983\n"
     ]
    },
    {
     "name": "stderr",
     "output_type": "stream",
     "text": [
      " 40%|████      | 4/10 [00:25<00:37,  6.29s/it]"
     ]
    },
    {
     "name": "stdout",
     "output_type": "stream",
     "text": [
      "Epoch [4/10], CE Loss: 0.6522, DA Loss: 0.8060 Source Acc: 75.38%, Target Acc: 61.34% eta_1: 0.24363020062446594 eta_2: 0.9321667551994324\n"
     ]
    },
    {
     "name": "stderr",
     "output_type": "stream",
     "text": [
      " 50%|█████     | 5/10 [00:32<00:32,  6.58s/it]"
     ]
    },
    {
     "name": "stdout",
     "output_type": "stream",
     "text": [
      "Epoch [5/10], CE Loss: 0.6171, DA Loss: 0.7022 Source Acc: 77.31%, Target Acc: 62.34% eta_1: 0.26035505533218384 eta_2: 0.8960933089256287\n"
     ]
    },
    {
     "name": "stderr",
     "output_type": "stream",
     "text": [
      " 60%|██████    | 6/10 [00:38<00:25,  6.43s/it]"
     ]
    },
    {
     "name": "stdout",
     "output_type": "stream",
     "text": [
      "Epoch [6/10], CE Loss: 0.5795, DA Loss: 0.6033 Source Acc: 78.65%, Target Acc: 63.12% eta_1: 0.2748684287071228 eta_2: 0.8479979038238525\n"
     ]
    },
    {
     "name": "stderr",
     "output_type": "stream",
     "text": [
      " 70%|███████   | 7/10 [00:44<00:19,  6.36s/it]"
     ]
    },
    {
     "name": "stdout",
     "output_type": "stream",
     "text": [
      "Epoch [7/10], CE Loss: 0.5495, DA Loss: 0.4910 Source Acc: 80.10%, Target Acc: 63.83% eta_1: 0.2879581153392792 eta_2: 0.7836197018623352\n"
     ]
    },
    {
     "name": "stderr",
     "output_type": "stream",
     "text": [
      " 80%|████████  | 8/10 [00:51<00:12,  6.35s/it]"
     ]
    },
    {
     "name": "stdout",
     "output_type": "stream",
     "text": [
      "Epoch [8/10], CE Loss: 0.5048, DA Loss: 0.4716 Source Acc: 81.55%, Target Acc: 63.58% eta_1: 0.29913079738616943 eta_2: 0.7349061965942383\n"
     ]
    },
    {
     "name": "stderr",
     "output_type": "stream",
     "text": [
      " 90%|█████████ | 9/10 [00:57<00:06,  6.30s/it]"
     ]
    },
    {
     "name": "stdout",
     "output_type": "stream",
     "text": [
      "Epoch [9/10], CE Loss: 0.4799, DA Loss: 0.4028 Source Acc: 82.85%, Target Acc: 63.76% eta_1: 0.30937638878822327 eta_2: 0.6769939064979553\n"
     ]
    },
    {
     "name": "stderr",
     "output_type": "stream",
     "text": [
      "100%|██████████| 10/10 [01:02<00:00,  6.30s/it]"
     ]
    },
    {
     "name": "stdout",
     "output_type": "stream",
     "text": [
      "Epoch [10/10], CE Loss: 0.4461, DA Loss: 0.3634 Source Acc: 84.34%, Target Acc: 64.03% eta_1: 0.31849029660224915 eta_2: 0.6268103122711182\n"
     ]
    },
    {
     "name": "stderr",
     "output_type": "stream",
     "text": [
      "\n"
     ]
    }
   ],
   "source": [
    "num_epochs = 10\n",
    "# --- Setup ---\n",
    "device = torch.device(\"cuda\" if torch.cuda.is_available() else \"cpu\")\n",
    "print(\"Using device:\", device)\n",
    "\n",
    "DA_model = CNN().to(device)  # CNN should return (logits, z)\n",
    "criterion = nn.CrossEntropyLoss()\n",
    "optimizer = optim.AdamW(DA_model.parameters(), lr=1e-3)\n",
    "geomloss_fn = SamplesLoss(\"sinkhorn\", p=2, blur=10) # GeomLoss with Sinkhorn distance, p=2, blur ~ σ; tune as needed\n",
    "best_model = None\n",
    "best_loss = float('inf')\n",
    "\n",
    "## initialize trainable coefficients\n",
    "eta_1 = nn.Parameter(torch.tensor(0.1, requires_grad=True))  # Coefficient for CE loss\n",
    "eta_2 = nn.Parameter(torch.tensor(1.0, requires_grad=True))  #\n",
    "\n",
    "optimizer.add_param_group({\"params\": [eta_1, eta_2]})\n",
    "\n",
    "# --- Training ---\n",
    "for epoch in tqdm(range(num_epochs)):\n",
    "    DA_model.train()\n",
    "    running_loss, correct_s, correct_t, total_s, total_t = 0.0, 0, 0, 0, 0\n",
    "    running_DA, running_CE = 0.0, 0.0\n",
    "\n",
    "    for (source_imgs, source_labels), (target_imgs, target_labels) in zip(source_train_loader, target_train_loader):\n",
    "        source_imgs, source_labels = source_imgs.to(device), source_labels.to(device)\n",
    "        target_imgs, target_labels = target_imgs.to(device), target_labels.to(device)\n",
    "        source_imgs, target_imgs = source_imgs.float(), target_imgs.float()\n",
    "\n",
    "        # --- Concatenate images and forward ---\n",
    "        combined_imgs = torch.cat([source_imgs, target_imgs], dim=0)\n",
    "        logits, z = DA_model(combined_imgs)\n",
    "\n",
    "        # --- Split latent vectors and outputs ---\n",
    "        z_s, z_t = z[:source_imgs.size(0)], z[source_imgs.size(0):]\n",
    "        logits_s = logits[:source_imgs.size(0)]\n",
    "        logits_t = logits[source_imgs.size(0):]\n",
    "\n",
    "        # --- Compute losses ---\n",
    "        ce_loss = criterion(logits_s, source_labels)\n",
    "        mmd_loss = geomloss_fn(z_s, z_t)  # ← GeomLoss replaces MMD here\n",
    "        total_loss = (2 * eta_1**2)**-1 * ce_loss + (2 * eta_2**2)**-1 * mmd_loss + torch.log(eta_1 * eta_2)  # ← Using trainable coefficients\n",
    "        \n",
    "        if total_loss.item() < best_loss:\n",
    "            best_loss = total_loss.item()\n",
    "            best_model = copy.deepcopy(DA_model.state_dict())\n",
    "\n",
    "        # --- Backpropagation ---\n",
    "        optimizer.zero_grad()\n",
    "        total_loss.backward()\n",
    "        torch.nn.utils.clip_grad_norm_(DA_model.parameters(), max_norm=10.0)\n",
    "        eta_1.data.clamp_(min=1e-3)\n",
    "        eta_2.data.clamp_(min=0.25*eta_1.data.item())\n",
    "        optimizer.step()\n",
    "\n",
    "        # --- Metrics ---\n",
    "        running_loss += total_loss.item()\n",
    "        running_CE += ce_loss.item()\n",
    "        running_DA += mmd_loss.item()\n",
    "        _, predicted_s = logits_s.max(1)\n",
    "        total_s += source_labels.size(0)\n",
    "        correct_s += predicted_s.eq(source_labels).sum().item()\n",
    "        _, predicted_t = logits_t.max(1)\n",
    "        total_t += target_labels.size(0)\n",
    "        correct_t += predicted_t.eq(target_labels).sum().item()\n",
    "\n",
    "    print(f\"Epoch [{epoch+1}/{num_epochs}], CE Loss: {running_CE/len(source_train_loader):.4f}, DA Loss: {running_DA/len(source_train_loader):.4f} Source Acc: {100*correct_s/total_s:.2f}%, Target Acc: {100*correct_t/total_t:.2f}%\", \"eta_1:\", eta_1.item(), \"eta_2:\", eta_2.item())"
   ]
  },
  {
   "cell_type": "code",
   "execution_count": 15,
   "id": "47051e14",
   "metadata": {},
   "outputs": [
    {
     "name": "stdout",
     "output_type": "stream",
     "text": [
      "Accuracy on source domain (MNIST): 74.55%\n",
      "Accuracy on target domain (MNIST-M): 66.05%\n"
     ]
    }
   ],
   "source": [
    "# Test on source domain (SDSS)\n",
    "DA_model.load_state_dict(best_model)\n",
    "source_accuracy = test_model(DA_model, source_test_loader, device)\n",
    "print(f\"Accuracy on source domain (MNIST): {source_accuracy:.2f}%\")\n",
    "\n",
    "# Test on target domain (DESI)\n",
    "target_accuracy = test_model(DA_model, target_test_loader, device)\n",
    "print(f\"Accuracy on target domain (MNIST-M): {target_accuracy:.2f}%\")"
   ]
  },
  {
   "cell_type": "markdown",
   "id": "a7d26b64",
   "metadata": {},
   "source": [
    "In this case you've seen that we've outperformed no-DA and both fixed-coefficient DA examples by ~5%, without any grid search whatsoever! This trainable prescription largely avoided the need to tune these hyperparameters. Keep in mind we did use some inductive bias: we initialized the $\\eta_i$ differently (think as to why we did this), and clipped them in some reasonable way. This was simply to give the parameters a nudge in the right direction.\n",
    "\n",
    "The last thing we want to study is our treatment of $\\sigma$. In the last experiments, we used a fixed value of $\\sigma = 10$, but now lets think about the assumption that a single value of $\\sigma$ is optimal. It may not be.\n",
    "\n",
    "Keep in mind that as $\\sigma \\to 0$ the Sinkhorn plan interpolates closer to $\\text{OT}_0$, and $\\sigma \\to \\infty$ interpolates closer to MMD. Further, MMD is cheaper to compute than $\\text{OT}_0$ (fewer Sinkhorn iterations).\n",
    "\n",
    "Let's now try a simple annealing scheme, so that $\\sigma$ is larger at the beginning of training, when the latent spaces are very misaligned, and smaller at the end, when we want to really focus on domain alignment.\n",
    "\n",
    "Consider the $\\sigma$ scheduler given by:\n",
    "\n",
    "$$\n",
    "\\sigma = 0.05 * 0.95^\\ell \\quad \\text{where} \\; \\ell \\; \\text{is epoch number}\n",
    "$$\n",
    "\n",
    "We will test this below"
   ]
  },
  {
   "cell_type": "code",
   "execution_count": 16,
   "id": "63ed88c3",
   "metadata": {},
   "outputs": [
    {
     "name": "stdout",
     "output_type": "stream",
     "text": [
      "Using device: cpu\n"
     ]
    },
    {
     "name": "stderr",
     "output_type": "stream",
     "text": [
      " 10%|█         | 1/10 [00:06<00:55,  6.22s/it]"
     ]
    },
    {
     "name": "stdout",
     "output_type": "stream",
     "text": [
      "Epoch [1/10], CE Loss: 1.0962, DA Loss: 0.6699 Source Acc: 61.09%, Target Acc: 51.83% eta_1: 0.16784130036830902 eta_2: 0.953438401222229\n"
     ]
    },
    {
     "name": "stderr",
     "output_type": "stream",
     "text": [
      " 20%|██        | 2/10 [00:12<00:49,  6.20s/it]"
     ]
    },
    {
     "name": "stdout",
     "output_type": "stream",
     "text": [
      "Epoch [2/10], CE Loss: 0.7716, DA Loss: 0.8929 Source Acc: 71.50%, Target Acc: 56.96% eta_1: 0.1990041434764862 eta_2: 0.9502055048942566\n"
     ]
    },
    {
     "name": "stderr",
     "output_type": "stream",
     "text": [
      " 30%|███       | 3/10 [00:18<00:44,  6.29s/it]"
     ]
    },
    {
     "name": "stdout",
     "output_type": "stream",
     "text": [
      "Epoch [3/10], CE Loss: 0.7016, DA Loss: 0.8773 Source Acc: 73.80%, Target Acc: 58.26% eta_1: 0.22279058396816254 eta_2: 0.942546546459198\n"
     ]
    },
    {
     "name": "stderr",
     "output_type": "stream",
     "text": [
      " 40%|████      | 4/10 [00:25<00:38,  6.35s/it]"
     ]
    },
    {
     "name": "stdout",
     "output_type": "stream",
     "text": [
      "Epoch [4/10], CE Loss: 0.6541, DA Loss: 0.7759 Source Acc: 75.46%, Target Acc: 59.29% eta_1: 0.2422061413526535 eta_2: 0.918634295463562\n"
     ]
    },
    {
     "name": "stderr",
     "output_type": "stream",
     "text": [
      " 50%|█████     | 5/10 [00:31<00:31,  6.39s/it]"
     ]
    },
    {
     "name": "stdout",
     "output_type": "stream",
     "text": [
      "Epoch [5/10], CE Loss: 0.6058, DA Loss: 0.6485 Source Acc: 77.34%, Target Acc: 60.80% eta_1: 0.2584995627403259 eta_2: 0.8739157915115356\n"
     ]
    },
    {
     "name": "stderr",
     "output_type": "stream",
     "text": [
      " 60%|██████    | 6/10 [00:38<00:25,  6.37s/it]"
     ]
    },
    {
     "name": "stdout",
     "output_type": "stream",
     "text": [
      "Epoch [6/10], CE Loss: 0.5537, DA Loss: 0.6054 Source Acc: 79.10%, Target Acc: 61.16% eta_1: 0.2724589407444 eta_2: 0.8333373069763184\n"
     ]
    },
    {
     "name": "stderr",
     "output_type": "stream",
     "text": [
      " 70%|███████   | 7/10 [00:45<00:20,  6.78s/it]"
     ]
    },
    {
     "name": "stdout",
     "output_type": "stream",
     "text": [
      "Epoch [7/10], CE Loss: 0.5264, DA Loss: 0.5404 Source Acc: 80.96%, Target Acc: 61.67% eta_1: 0.28491702675819397 eta_2: 0.7866923809051514\n"
     ]
    },
    {
     "name": "stderr",
     "output_type": "stream",
     "text": [
      " 80%|████████  | 8/10 [00:52<00:13,  6.64s/it]"
     ]
    },
    {
     "name": "stdout",
     "output_type": "stream",
     "text": [
      "Epoch [8/10], CE Loss: 0.4876, DA Loss: 0.4750 Source Acc: 82.54%, Target Acc: 62.75% eta_1: 0.29583096504211426 eta_2: 0.7372545599937439\n"
     ]
    },
    {
     "name": "stderr",
     "output_type": "stream",
     "text": [
      " 90%|█████████ | 9/10 [00:57<00:06,  6.35s/it]"
     ]
    },
    {
     "name": "stdout",
     "output_type": "stream",
     "text": [
      "Epoch [9/10], CE Loss: 0.4490, DA Loss: 0.3963 Source Acc: 84.35%, Target Acc: 62.26% eta_1: 0.3053573668003082 eta_2: 0.6750503778457642\n"
     ]
    },
    {
     "name": "stderr",
     "output_type": "stream",
     "text": [
      "100%|██████████| 10/10 [01:03<00:00,  6.39s/it]"
     ]
    },
    {
     "name": "stdout",
     "output_type": "stream",
     "text": [
      "Epoch [10/10], CE Loss: 0.4207, DA Loss: 0.3331 Source Acc: 85.59%, Target Acc: 62.83% eta_1: 0.3140632212162018 eta_2: 0.6141291260719299\n"
     ]
    },
    {
     "name": "stderr",
     "output_type": "stream",
     "text": [
      "\n"
     ]
    }
   ],
   "source": [
    "num_epochs = 10\n",
    "# --- Setup ---\n",
    "device = torch.device(\"cuda\" if torch.cuda.is_available() else \"cpu\")\n",
    "print(\"Using device:\", device)\n",
    "\n",
    "DA_model = CNN().to(device)  # CNN should return (logits, z)\n",
    "criterion = nn.CrossEntropyLoss()\n",
    "optimizer = optim.AdamW(DA_model.parameters(), lr=1e-3)\n",
    "geomloss_fn = SamplesLoss(\"sinkhorn\", p=2, blur=10) # GeomLoss with Sinkhorn distance, p=2, blur ~ σ; tune as needed\n",
    "best_model = None\n",
    "best_loss = float('inf')\n",
    "\n",
    "## initialize trainable coefficients\n",
    "eta_1 = nn.Parameter(torch.tensor(0.1, requires_grad=True))  # Coefficient for CE loss\n",
    "eta_2 = nn.Parameter(torch.tensor(1.0, requires_grad=True))  #\n",
    "\n",
    "optimizer.add_param_group({\"params\": [eta_1, eta_2]})\n",
    "\n",
    "# --- Training ---\n",
    "for epoch in tqdm(range(num_epochs)):\n",
    "    DA_model.train()\n",
    "    running_loss, correct_s, correct_t, total_s, total_t = 0.0, 0, 0, 0, 0\n",
    "    running_DA, running_CE = 0.0, 0.0\n",
    "\n",
    "    for (source_imgs, source_labels), (target_imgs, target_labels) in zip(source_train_loader, target_train_loader):\n",
    "        source_imgs, source_labels = source_imgs.to(device), source_labels.to(device)\n",
    "        target_imgs, target_labels = target_imgs.to(device), target_labels.to(device)\n",
    "        source_imgs, target_imgs = source_imgs.float(), target_imgs.float()\n",
    "\n",
    "        # --- Concatenate images and forward ---\n",
    "        combined_imgs = torch.cat([source_imgs, target_imgs], dim=0)\n",
    "        logits, z = DA_model(combined_imgs)\n",
    "\n",
    "        # --- Split latent vectors and outputs ---\n",
    "        z_s, z_t = z[:source_imgs.size(0)], z[source_imgs.size(0):]\n",
    "        logits_s = logits[:source_imgs.size(0)]\n",
    "        logits_t = logits[source_imgs.size(0):]\n",
    "\n",
    "        # --- Compute losses ---\n",
    "        ce_loss = criterion(logits_s, source_labels)\n",
    "        dynamic_blur = 10 * 0.95**epoch\n",
    "        mmd_loss = geomloss_fn = SamplesLoss(\"sinkhorn\", p=2, blur=dynamic_blur)(z_s, z_t)  # ← GeomLoss replaces MMD here\n",
    "        total_loss = (2 * eta_1**2)**-1 * ce_loss + (2 * eta_2**2)**-1 * mmd_loss + torch.log(eta_1 * eta_2)  # ← Using trainable coefficients\n",
    "        \n",
    "        if total_loss.item() < best_loss:\n",
    "            best_loss = total_loss.item()\n",
    "            best_model = copy.deepcopy(DA_model.state_dict())\n",
    "\n",
    "        # --- Backpropagation ---\n",
    "        optimizer.zero_grad()\n",
    "        total_loss.backward()\n",
    "        torch.nn.utils.clip_grad_norm_(DA_model.parameters(), max_norm=10.0)\n",
    "        eta_1.data.clamp_(min=1e-3)\n",
    "        eta_2.data.clamp_(min=0.25*eta_1.data.item())\n",
    "        optimizer.step()\n",
    "\n",
    "        # --- Metrics ---\n",
    "        running_loss += total_loss.item()\n",
    "        running_CE += ce_loss.item()\n",
    "        running_DA += mmd_loss.item()\n",
    "        _, predicted_s = logits_s.max(1)\n",
    "        total_s += source_labels.size(0)\n",
    "        correct_s += predicted_s.eq(source_labels).sum().item()\n",
    "        _, predicted_t = logits_t.max(1)\n",
    "        total_t += target_labels.size(0)\n",
    "        correct_t += predicted_t.eq(target_labels).sum().item()\n",
    "\n",
    "    print(f\"Epoch [{epoch+1}/{num_epochs}], CE Loss: {running_CE/len(source_train_loader):.4f}, DA Loss: {running_DA/len(source_train_loader):.4f} Source Acc: {100*correct_s/total_s:.2f}%, Target Acc: {100*correct_t/total_t:.2f}%\", \"eta_1:\", eta_1.item(), \"eta_2:\", eta_2.item())"
   ]
  },
  {
   "cell_type": "code",
   "execution_count": 17,
   "id": "27621377",
   "metadata": {},
   "outputs": [
    {
     "name": "stdout",
     "output_type": "stream",
     "text": [
      "Accuracy on source domain (MNIST): 73.30%\n",
      "Accuracy on target domain (MNIST-M): 66.25%\n"
     ]
    }
   ],
   "source": [
    "# Test on source domain (SDSS)\n",
    "DA_model.load_state_dict(best_model)\n",
    "source_accuracy = test_model(DA_model, source_test_loader, device)\n",
    "print(f\"Accuracy on source domain (MNIST): {source_accuracy:.2f}%\")\n",
    "\n",
    "# Test on target domain (DESI)\n",
    "target_accuracy = test_model(DA_model, target_test_loader, device)\n",
    "print(f\"Accuracy on target domain (MNIST-M): {target_accuracy:.2f}%\")"
   ]
  },
  {
   "cell_type": "markdown",
   "id": "191a14c1",
   "metadata": {},
   "source": [
    "Ok, we see in this case the scheduler for $\\sigma$ does not change things that much. Thats ok! We have shown in [this paper](https://arxiv.org/abs/2501.14048) that a $\\sigma$ scheduler based on the 2-norm between latent spaces not only results in better performance on both domains, but is also significantly faster"
   ]
  }
 ],
 "metadata": {
  "kernelspec": {
   "display_name": "venv-ml",
   "language": "python",
   "name": "python3"
  },
  "language_info": {
   "codemirror_mode": {
    "name": "ipython",
    "version": 3
   },
   "file_extension": ".py",
   "mimetype": "text/x-python",
   "name": "python",
   "nbconvert_exporter": "python",
   "pygments_lexer": "ipython3",
   "version": "3.9.6"
  }
 },
 "nbformat": 4,
 "nbformat_minor": 5
}
