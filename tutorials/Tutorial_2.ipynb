{
 "cells": [
  {
   "cell_type": "markdown",
   "id": "ec25be4d",
   "metadata": {},
   "source": [
    "Probing the Limits of Domain Adaptation\n",
    "---\n",
    "##### Author: [Sneh Pandya](https://snehjp2.github.io)\n",
    "\n",
    "In the last tutorial, we saw an instance of distance-based and adversarial domain adaptation (DA) techniques working to improve the generalization of a NN trained on MNIST and evaluated on MNIST-M. We will now move to a more physical dataset of galaxy morphologies, with the differences between source and target domain due to fundamentally different imaging devices. We will be using the Sinkhorn divergence as our distance metric for DA. \n",
    "\n",
    "<img src=\"https://snehjp2.github.io/images/gaussian_meme.png\" alt=\"gaussian meme\" width=\"600\"/>\n",
    "\n",
    "\n",
    "The particular focus here will be playing around with hyperparameters, illustrating the success and failure points of DA and the importance of finding the right sweet-spot for training. We will end with more sophisticated techniques for implementing DA that can automate-away the need for hyperparameter tuning. To that end we will again consider a subset of the full galaxy dataset to simplify the task. We'll start with the same code imports as before:"
   ]
  },
  {
   "cell_type": "code",
   "execution_count": 50,
   "id": "7d1cfbed",
   "metadata": {},
   "outputs": [],
   "source": [
    "# torch related imports\n",
    "import torch\n",
    "import torch.nn.functional as F\n",
    "from torch import nn, optim\n",
    "from torch.utils.data import Dataset, DataLoader, Subset\n",
    "from torchvision import transforms\n",
    "\n",
    "import copy\n",
    "\n",
    "# miscellaneous\n",
    "import numpy as np\n",
    "from tqdm import tqdm\n",
    "import matplotlib.pyplot as plt\n",
    "from typing import Callable, Optional\n",
    "import os\n",
    "import random\n",
    "\n",
    "# geomloss provides distance measure that are torch/CUDA compatible. \n",
    "# uncomment line below to install it, if you don't have it installed.\n",
    "\n",
    "# !pip install -q geomloss\n",
    "\n",
    "from geomloss import SamplesLoss\n",
    "\n",
    "def set_all_seeds(seed=42):\n",
    "\n",
    "    os.environ[\"PYTHONHASHSEED\"] = str(seed)  # For Python's hash seed\n",
    "    random.seed(seed)\n",
    "    np.random.seed(seed)\n",
    "    torch.manual_seed(seed)\n",
    "    torch.cuda.manual_seed(seed)\n",
    "    torch.cuda.manual_seed_all(seed)\n",
    "\n",
    "    torch.backends.cudnn.deterministic = True\n",
    "    torch.backends.cudnn.benchmark = False\n",
    "\n",
    "    # Optional: enforce deterministic algorithms where possible\n",
    "    torch.use_deterministic_algorithms(True, warn_only=True)\n",
    "    \n",
    "set_all_seeds()\n"
   ]
  },
  {
   "cell_type": "markdown",
   "id": "c374197f",
   "metadata": {},
   "source": [
    "Problem Setup\n",
    "---\n",
    "\n",
    "Our problem setup follows similarly from Tutorial 1. We will being using the Galaxy Zoo (GZ) Evo dataset for this tutorial. GZ is a citizen science project that labels galaxy images through online participation. GZ Evo combines labeled image datasets across several surveys and iterations of GZ. Within GZ Evo, we use the GZ2 Dataset from the [Sloan Digital Sky Survey](https://www.sdss4.org) (SDSS) [Willett et al., 2013] as the source, and a GZ [Dark Energy Spectroscopic Instrument (DESI) Legacy Imaging Surveys](https://www.legacysurvey.org) dataset that combines observations from the DESI Imaging Surveys (DECals, MzLS, BASS, DES) as the target domain.\n",
    "\n",
    "- **Neural Network**:  \n",
    "Let $f_\\theta$ denote a neural network classifier with parameters $\\theta$, which maps an input image $x \\in \\mathbb{R}^n$ to predicted class probabilities $\\hat{y} = f_\\theta(x) \\in \\mathbb{R}^K$. The network is decomposed into a feature extractor $\\phi_\\theta : \\mathbb{R}^n \\rightarrow \\mathbb{R}^d$ and a classifier head $g_\\theta : \\mathbb{R}^d \\rightarrow \\mathbb{R}^K$, such that $f_\\theta(x) = \\text{softmax}(g_\\theta(\\phi_\\theta(x)))$.  \n",
    "We define the **latent representation** $z = \\phi_\\theta(x)$ as the output of the final hidden layer (before the logits). This representation (also called the *latent vector* or *latent space*) will be used for domain alignment.\n",
    "\n",
    "- **Source domain dataset**:  \n",
    "$\\mathcal{D}_s = \\{(x_s^{(i)}, y_s^{(i)})\\}_{i=1}^{N_s}$,  \n",
    "where $x_s^{(i)} \\sim p_s(x)$ are galaxy morphology observations from SDSS, and $y_s^{(i)} \\in \\{0, 1, \\dots, 5\\}$ are the corresponding morphology labels. More information on the dataset can be found in Section 3 [here](https://arxiv.org/pdf/2501.14048).\n",
    "\n",
    "- **Target domain dataset**:  \n",
    "$\\mathcal{D}_t = \\{x_t^{(j)}\\}_{j=1}^{N_t}$,  \n",
    "where $x_t^{(j)} \\sim p_t(x)$ are unlabeled galaxy morphology observations from the DESI Legacy Imaging Surveys. The included morphologies are the same in both datasets. More information on the dataset can be found in Section 3 [here](https://arxiv.org/pdf/2501.14048).\n",
    "We assume the label distributions are aligned, i.e., $p_s(y|x) = p_t(y|x)$, but the input distributions differ: $p_s(x) \\neq p_t(x)$.  \n",
    "Our goal is to adapt $f_\\theta$ using **only labeled source data** and **unlabeled target data**, so that it performs well on the target domain.\n",
    "\n",
    "- **Classification loss**:  \n",
    "On the source domain, we minimize the supervised cross-entropy loss between predicted and true labels:\n",
    "\n",
    "$$\n",
    "\\mathcal{L}_{\\text{CE}}(\\theta) = -\\frac{1}{N_s} \\sum_{i=1}^{N_s} \\log f_\\theta^{(y_s^{(i)})}(x_s^{(i)}),\n",
    "$$\n",
    "\n",
    "where $f_\\theta^{(k)}(x)$ denotes the predicted probability for class $k$. We proceed similarly to the previous tutorial and consider a subset of the data, so we set $K = 4$ as the number of classes.\n",
    "\n",
    "---\n",
    "Let's start by defining our necessary ingredients, starting with the data. We will download the [Galaxy Zoo Evo Dataset](https://huggingface.co/datasets/mwalmsley/gz_evo) from [this link](https://zenodo.org/uploads/14583107) (click the galaxy_dataset.zip). The dataset is 2.35 GB in size; make sure to place it in the `data/` directory for the code below to run correctly.\n",
    "\n",
    "Recall that images are typically normalized to be in the range [-1,1] for gradient stabilitiy during training. This is done via [z-score normalization](https://en.wikipedia.org/wiki/Standard_score). I've precalculated the means and standard deviations of the datasets for you. Feel free to check this yourself! This is an often not-discussed/overlooked aspect of training NNs, but data normalization is **immensely important**. Lets start by defining our dataset class:\n"
   ]
  },
  {
   "cell_type": "code",
   "execution_count": 51,
   "id": "300e09f6",
   "metadata": {},
   "outputs": [],
   "source": [
    "class GZEvo(Dataset):\n",
    "    \"\"\"Dataset class for the Galaxy Zoo Evolution dataset.\n",
    "\n",
    "    Args:\n",
    "        input_path (str): Path to the input data.\n",
    "        output_path (Optional[str], optional): Path to the output data. Defaults to None.\n",
    "        transform (Optional[Callable], optional): Transform to apply to the data. Defaults to None.\n",
    "    \"\"\"\n",
    "\n",
    "    def __init__(\n",
    "        self,\n",
    "        input_path: str,\n",
    "        output_path: Optional[str] = None,\n",
    "        transform: Optional[Callable] = None,\n",
    "    ):\n",
    "        self.input_path = input_path\n",
    "        self.output_path = output_path\n",
    "        self.transform = transform\n",
    "\n",
    "        try:\n",
    "            self.img = np.load(self.input_path)\n",
    "            self.label = np.load(self.output_path)\n",
    "        except Exception as e:\n",
    "            raise RuntimeError(\n",
    "                f\"Error loading data from {input_path} and {output_path}: {e}\"\n",
    "            )\n",
    "\n",
    "        self.length = len(self.img)\n",
    "\n",
    "    def __getitem__(self, idx: int):\n",
    "        img = self.img[idx]\n",
    "        if self.transform:\n",
    "            img = self.transform(img)\n",
    "\n",
    "        label = torch.tensor(self.label[idx], dtype=torch.long)\n",
    "        return img, label\n",
    "\n",
    "    def __len__(self) -> int:\n",
    "        return self.length"
   ]
  },
  {
   "cell_type": "markdown",
   "id": "5b283ad7",
   "metadata": {},
   "source": [
    "Like with MNIST-M, we need to be careful about image normalization. I've precalculated the dataset statistics for you again"
   ]
  },
  {
   "cell_type": "code",
   "execution_count": 52,
   "id": "50b2823f",
   "metadata": {},
   "outputs": [],
   "source": [
    "# Set the size of the subsets for training and testing\n",
    "train_subset_size = 5000\n",
    "test_subset_size = 1000\n",
    "\n",
    "# Precomputed means and standard deviations for normalization\n",
    "sdss_mean = (0.0439, 0.0388, 0.0289)\n",
    "sdss_std = (0.0816, 0.0687, 0.0590)\n",
    "desi_mean = (0.1040, 0.0971, 0.0951)\n",
    "desi_std = (0.0835, 0.0789, 0.0754)\n",
    "\n",
    "# Define the target classes we want to keep in the dataset\n",
    "target_classes = [0, 1, 4, 2]\n",
    "\n",
    "# Image transformations for the datasets\n",
    "sdss_transform = transforms.Compose(\n",
    "            [\n",
    "                transforms.ToTensor(),\n",
    "                transforms.Normalize(mean=sdss_mean, std=sdss_std),\n",
    "                transforms.Resize((28, 28)),\n",
    "            ]\n",
    "        )\n",
    "\n",
    "desi_transform = transforms.Compose(\n",
    "            [\n",
    "                transforms.ToTensor(),\n",
    "                transforms.Normalize(mean=desi_mean, std=desi_std),\n",
    "                transforms.Resize((28, 28)),\n",
    "            ]\n",
    "        )\n",
    "\n",
    "# Loading the datasets\n",
    "source_train_dataset = GZEvo(\n",
    "    input_path=\"./data/galaxy_dataset/galaxy_dataset/train/x_train_sdss.npy\",\n",
    "    output_path=\"./data/galaxy_dataset/galaxy_dataset/train/y_train_sdss.npy\",\n",
    "    transform=sdss_transform\n",
    ")\n",
    "\n",
    "target_train_dataset = GZEvo(\n",
    "    input_path=\"./data/galaxy_dataset/galaxy_dataset/train/x_train_desi.npy\",\n",
    "    output_path=\"./data/galaxy_dataset/galaxy_dataset/train/y_train_desi.npy\",\n",
    "    transform=desi_transform\n",
    ")\n",
    "\n",
    "source_test_dataset = GZEvo(\n",
    "    input_path=\"./data/galaxy_dataset/galaxy_dataset/test/x_test_sdss.npy\",\n",
    "    output_path=\"./data/galaxy_dataset/galaxy_dataset/test/y_test_sdss.npy\",\n",
    "    transform=sdss_transform\n",
    ")\n",
    "\n",
    "target_test_dataset = GZEvo(\n",
    "    input_path=\"./data/galaxy_dataset/galaxy_dataset/test/x_test_desi.npy\",\n",
    "    output_path=\"./data/galaxy_dataset/galaxy_dataset/test/y_test_desi.npy\",\n",
    "    transform=desi_transform\n",
    ")\n",
    "\n",
    "# Only keep the target classes in the datasets\n",
    "def filter_indices(dataset, allowed_labels):\n",
    "    return [i for i, (_, label) in enumerate(dataset) if label in allowed_labels]\n",
    "\n",
    "filtered_train_indices = filter_indices(source_train_dataset, target_classes)\n",
    "filtered_test_indices = filter_indices(source_test_dataset, target_classes)\n",
    "\n",
    "source_train_indices = torch.tensor(filtered_train_indices)[torch.randperm(len(filtered_train_indices))[:train_subset_size]]\n",
    "source_test_indices = torch.tensor(filtered_test_indices)[torch.randperm(len(filtered_test_indices))[:test_subset_size]]\n",
    "target_train_indices = filter_indices(target_train_dataset, target_classes)\n",
    "target_test_indices = filter_indices(target_test_dataset, target_classes)\n",
    "\n",
    "source_train_dataset = Subset(source_train_dataset, source_train_indices)\n",
    "source_test_dataset = Subset(source_test_dataset, source_test_indices)\n",
    "target_train_dataset = Subset(target_train_dataset, target_train_indices)\n",
    "target_test_dataset = Subset(target_test_dataset, target_test_indices)\n",
    "\n",
    "# Create DataLoaders for the datasets\n",
    "source_train_loader = DataLoader(\n",
    "    source_train_dataset,\n",
    "    batch_size=64,\n",
    "    shuffle=True\n",
    ")\n",
    "target_train_loader = DataLoader(\n",
    "    target_train_dataset,\n",
    "    batch_size=64,\n",
    "    shuffle=True\n",
    ")\n",
    "source_test_loader = DataLoader(\n",
    "    source_test_dataset,\n",
    "    batch_size=64,\n",
    "    shuffle=False\n",
    ")\n",
    "target_test_loader = DataLoader(\n",
    "    target_test_dataset,\n",
    "    batch_size=64,\n",
    "    shuffle=False\n",
    ")"
   ]
  },
  {
   "cell_type": "markdown",
   "id": "4f4388b0",
   "metadata": {},
   "source": [
    "Now that the data is downloaded, lets just sanity check that the images look like what we would expect."
   ]
  },
  {
   "cell_type": "code",
   "execution_count": 53,
   "id": "692bd909",
   "metadata": {},
   "outputs": [
    {
     "data": {
      "image/png": "[encoded data removed]",
      "text/plain": [
       "<Figure size 1200x600 with 8 Axes>"
      ]
     },
     "metadata": {},
     "output_type": "display_data"
    }
   ],
   "source": [
    "labels_dict = {'barred_spiral': 0, \n",
    "               'edge_on_disk': 1, \n",
    "               'featured_without_bar_or_spiral': 2, \n",
    "               'smooth_cigar': 3, \n",
    "               'smooth_round': 4,\n",
    "               'unbarred_spiral': 5\n",
    "            }\n",
    "labels_dict = {v: k for k, v in labels_dict.items()}\n",
    "\n",
    "def get_examples_by_label(dataset):\n",
    "    label_to_img = {}\n",
    "    for img, label in dataset:\n",
    "        label = int(label)\n",
    "        if label not in label_to_img:\n",
    "            label_to_img[label] = img\n",
    "        if len(label_to_img) == 6:\n",
    "            break\n",
    "    return label_to_img\n",
    "\n",
    "# Undo image normalization\n",
    "def unnormalize(img, mean, std):\n",
    "    img = img.clone()\n",
    "    for c in range(img.shape[0]):\n",
    "        img[c] = img[c] * std[c] + mean[c]\n",
    "    return img\n",
    "\n",
    "# Collect the examples\n",
    "sdss_galaxy = get_examples_by_label(source_train_dataset)\n",
    "desi_galaxy = get_examples_by_label(target_train_dataset)\n",
    "\n",
    "# Plotting\n",
    "fig, axes = plt.subplots(2, 4, figsize=(12, 6))\n",
    "\n",
    "for idx, image in enumerate(target_classes):\n",
    "\n",
    "    image_sdss = unnormalize(sdss_galaxy[image], sdss_mean, sdss_std)\n",
    "    axes[0, idx].imshow(image_sdss.permute(1, 2, 0).numpy())\n",
    "    axes[0, idx].set_title(f\"{labels_dict[idx]}\", fontsize=10)\n",
    "    axes[0, idx].axis(\"off\")\n",
    "\n",
    "    image_desi = unnormalize(desi_galaxy[image], desi_mean, desi_std)\n",
    "    axes[1, idx].imshow(image_desi.permute(1, 2, 0).numpy())\n",
    "    axes[1, idx].set_title(f\"{labels_dict[idx]}\", fontsize=10)\n",
    "    axes[1, idx].axis(\"off\")\n",
    "\n",
    "axes[0, 0].set_ylabel(\"SDSS\", fontsize=12)\n",
    "axes[1, 0].set_ylabel(\"DESI\", fontsize=12)\n",
    "plt.tight_layout()\n",
    "plt.show()\n"
   ]
  },
  {
   "cell_type": "markdown",
   "id": "27a9ce8c",
   "metadata": {},
   "source": [
    "Pretty pixelated! If you wanna just look at some pretty galaxy pictures, just visualize the images again without resizing. \n",
    "\n",
    "Ok, so the images look good, now lets just check that the shapes are the same for training, and that the z-score normalization statistics look ok."
   ]
  },
  {
   "cell_type": "code",
   "execution_count": 54,
   "id": "3feb0521",
   "metadata": {},
   "outputs": [
    {
     "name": "stdout",
     "output_type": "stream",
     "text": [
      "SDSS image shape: torch.Size([1, 3, 28, 28])\n",
      "DESI image shape: torch.Size([1, 3, 28, 28])\n",
      "SDSS image stats: tensor(-0.0002, dtype=torch.float64) tensor(0.7648, dtype=torch.float64)\n",
      "DESI image stats: tensor(0.0263, dtype=torch.float64) tensor(1.1457, dtype=torch.float64)\n"
     ]
    }
   ],
   "source": [
    "# Get a sample image from each dataset\n",
    "sdss_image = next(iter(DataLoader(source_test_dataset, batch_size=1)))[0]\n",
    "desi_image = next(iter(DataLoader(source_train_dataset, batch_size=1)))[0]\n",
    "\n",
    "# Print the shapes\n",
    "print(\"SDSS image shape:\", sdss_image.shape) # should be (3, 28, 28)\n",
    "print(\"DESI image shape:\", desi_image.shape) # should be (3, 28, 28)\n",
    "print(\"SDSS image stats:\", torch.mean(sdss_image), torch.std(sdss_image)) # should be close to 0 and 1\n",
    "print(\"DESI image stats:\", torch.mean(desi_image), torch.std(desi_image)) # should be close to 0 and 1"
   ]
  },
  {
   "cell_type": "markdown",
   "id": "7ac9987e",
   "metadata": {},
   "source": [
    "---\n",
    "Now let's define our model. We will use the same CNN architecture from the previous tutorial. Since you already wrote the model then, here it is in full."
   ]
  },
  {
   "cell_type": "code",
   "execution_count": 55,
   "id": "32206a69",
   "metadata": {},
   "outputs": [],
   "source": [
    "class CNN(nn.Module):\n",
    "    def __init__(self, num_classes=4):\n",
    "        super().__init__()\n",
    "\n",
    "        self.features = nn.Sequential(\n",
    "            nn.Conv2d(3, 64, kernel_size=3, padding=1),\n",
    "            nn.BatchNorm2d(64),\n",
    "            nn.ReLU(inplace=True),\n",
    "            nn.Conv2d(64, 64, kernel_size=3, padding=1),\n",
    "            nn.BatchNorm2d(64),\n",
    "            nn.ReLU(inplace=True),\n",
    "            nn.MaxPool2d(2), \n",
    "\n",
    "            nn.Conv2d(64, 128, kernel_size=3, padding=1), \n",
    "            nn.BatchNorm2d(128),\n",
    "            nn.ReLU(inplace=True),\n",
    "            nn.Conv2d(128, 128, kernel_size=3, padding=1), \n",
    "            nn.BatchNorm2d(128),\n",
    "            nn.ReLU(inplace=True),\n",
    "            nn.MaxPool2d(2),\n",
    "        )\n",
    "\n",
    "        self.flatten_dim = 128 * 7 * 7\n",
    "\n",
    "        # Fully connected classifier\n",
    "        self.classifier = nn.Sequential(\n",
    "            nn.Linear(self.flatten_dim, 256),\n",
    "            nn.ReLU(inplace=True),\n",
    "            nn.Dropout(0.5),\n",
    "            nn.Linear(256, 128),\n",
    "            nn.ReLU(inplace=True),\n",
    "            nn.Linear(128, num_classes)\n",
    "        )\n",
    "\n",
    "    def forward(self, x):\n",
    "        x = self.features(x)\n",
    "        z = x.view(x.size(0), -1)\n",
    "        out = self.classifier(z)\n",
    "        return out, z"
   ]
  },
  {
   "cell_type": "code",
   "execution_count": 56,
   "id": "d7c027e2",
   "metadata": {},
   "outputs": [
    {
     "name": "stdout",
     "output_type": "stream",
     "text": [
      "Using device: cpu\n"
     ]
    },
    {
     "name": "stderr",
     "output_type": "stream",
     "text": [
      " 33%|███▎      | 1/3 [00:20<00:40, 20.23s/it]"
     ]
    },
    {
     "name": "stdout",
     "output_type": "stream",
     "text": [
      "Epoch [1/3]  Loss: 0.6802  Accuracy: 75.28%\n"
     ]
    },
    {
     "name": "stderr",
     "output_type": "stream",
     "text": [
      " 67%|██████▋   | 2/3 [00:37<00:18, 18.65s/it]"
     ]
    },
    {
     "name": "stdout",
     "output_type": "stream",
     "text": [
      "Epoch [2/3]  Loss: 0.4861  Accuracy: 80.98%\n"
     ]
    },
    {
     "name": "stderr",
     "output_type": "stream",
     "text": [
      "100%|██████████| 3/3 [00:54<00:00, 18.30s/it]"
     ]
    },
    {
     "name": "stdout",
     "output_type": "stream",
     "text": [
      "Epoch [3/3]  Loss: 0.4484  Accuracy: 83.46%\n"
     ]
    },
    {
     "name": "stderr",
     "output_type": "stream",
     "text": [
      "\n"
     ]
    }
   ],
   "source": [
    "device = torch.device(\"cuda\" if torch.cuda.is_available() else \"cpu\")\n",
    "print(\"Using device:\", device)\n",
    "CE_only_model = CNN(num_classes=4).to(device)\n",
    "\n",
    "label_map = {0 : 0, 1 : 1, 4 : 2, 2 : 3}\n",
    "\n",
    "# Loss and optimizer\n",
    "criterion = nn.CrossEntropyLoss()\n",
    "optimizer = optim.AdamW(CE_only_model.parameters(), lr=1e-3)\n",
    "best_model = None\n",
    "best_loss = float('inf')\n",
    "\n",
    "# Training loop\n",
    "num_epochs = 3\n",
    "for epoch in tqdm(range(num_epochs)):\n",
    "    CE_only_model.train()\n",
    "    running_loss = 0.0\n",
    "    correct = 0\n",
    "    total = 0\n",
    "\n",
    "    for images, labels in source_train_loader:\n",
    "        images, labels = images.to(device), labels.to(device)\n",
    "        images = images.float()\n",
    "        \n",
    "        labels = torch.tensor([label_map[int(l)] for l in labels], device=device)\n",
    "\n",
    "        # Forward pass\n",
    "        outputs, _ = CE_only_model(images) ## not using latent z for now\n",
    "        loss = criterion(outputs, labels)\n",
    "\n",
    "        # Backward pass\n",
    "        optimizer.zero_grad()\n",
    "        loss.backward()\n",
    "        optimizer.step()\n",
    "        \n",
    "        # Model saving\n",
    "        if loss.item() < best_loss:\n",
    "            best_loss = loss.item()\n",
    "            best_model = copy.deepcopy(CE_only_model.state_dict())\n",
    "\n",
    "        # Track training stats\n",
    "        running_loss += loss.item()\n",
    "        _, predicted = outputs.max(1)\n",
    "        total += labels.size(0)\n",
    "        correct += predicted.eq(labels).sum().item()\n",
    "\n",
    "    print(f\"Epoch [{epoch+1}/{num_epochs}]  Loss: {running_loss/len(source_train_loader):.4f}  Accuracy: {100*correct/total:.2f}%\")"
   ]
  },
  {
   "cell_type": "code",
   "execution_count": 57,
   "id": "2236f5c2",
   "metadata": {},
   "outputs": [
    {
     "name": "stdout",
     "output_type": "stream",
     "text": [
      "Accuracy on source domain (SDSS): 81.80%\n",
      "Accuracy on target domain (DESI): 75.51%\n"
     ]
    }
   ],
   "source": [
    "def test_model(model, data_loader, device):\n",
    "    model.eval()\n",
    "    correct = 0\n",
    "    total = 0\n",
    "    with torch.no_grad():\n",
    "        for images, labels in data_loader:\n",
    "            images, labels = images.to(device), labels.to(device)\n",
    "            labels = torch.tensor([label_map[int(l)] for l in labels], device=device)\n",
    "\n",
    "            images = images.float()\n",
    "            outputs, _ = model(images)\n",
    "            _, predicted = outputs.max(1)\n",
    "            total += labels.size(0)\n",
    "            correct += predicted.eq(labels).sum().item()\n",
    "    accuracy = 100 * correct / total\n",
    "    return accuracy\n",
    "\n",
    "# Test on source domain (SDSS)\n",
    "CE_only_model.load_state_dict(best_model)\n",
    "source_accuracy = test_model(CE_only_model, source_test_loader, device)\n",
    "print(f\"Accuracy on source domain (SDSS): {source_accuracy:.2f}%\")\n",
    "\n",
    "# Test on target domain (DESI)\n",
    "target_accuracy = test_model(CE_only_model, target_test_loader, device)\n",
    "print(f\"Accuracy on target domain (DESI): {target_accuracy:.2f}%\")"
   ]
  },
  {
   "cell_type": "markdown",
   "id": "23a602dc",
   "metadata": {},
   "source": [
    "We see that the model has a ~6% discrepancy between the source and target domain. Indeed, despite the galaxy observations coming from fundamentally different imaging instruments, the images dont look *too* different. Can you think about why the two datasets look similar despite coming from SDSS and DESI? Research the photometric filters used in both surveys, and their wavelength coverage. \n",
    "\n",
    "*Stretch Question:* Would you expect galaxy observations from JWST and DESI to look similar? What would be different about constructing a model that generalizes between SDSS and JWST observations? Think about imaging modalities, but also think about what kind of galaxies exist at different redshifts. What kind of domain shift would this be? See tips [here](https://ned.ipac.caltech.edu/level5/March04/Conselice/Conselice3.html) and [here](https://www.stsci.edu/jwst/instrumentation).\n",
    "\n",
    "Now, lets move to domain adaptation and see if we can shrink this performance gap between $\\mathcal{D}_s$ and $\\mathcal{D}_t$. We will again use `geomloss`, but this time using the Sinkhorn Divergence.\n",
    "\n",
    "---"
   ]
  },
  {
   "cell_type": "markdown",
   "id": "8d305f17",
   "metadata": {},
   "source": [
    "The Sinkhorn Divergence\n",
    "---\n",
    "![Optimal Transport](https://lchizat.github.io/files/UOTvh.gif)\n",
    "\n",
    "The optimal transport (OT) distance is distance measure much like MMD. One notable problem with MMD distances is the user-specified choice of kernel function $k$. There are several principled kernel options (e.g., Gaussian, Laplacian, linear, etc.) with the optimal choice of kernel determined through extensive experimentation. A single kernel may not be optimal, either, and a superposition of kernels may be needed for optimal domain alignment. OT distances avoid this by not requiring a kernel function in computing distances, and have gained popularity in recent years due to *entropic regularization* making the calculation of such distances more manageable. The regularized OT is defined as\n",
    "\n",
    "$$\n",
    "\\text{OT}_\\sigma(\\mu, \\nu) = \\min_{\\gamma \\in U(\\mu, \\nu)} \\left( \\sum_{i,j} \\gamma_{ij} d(z_i, z_j^*)^p + \\sigma H(\\gamma) \\right),\n",
    "$$\n",
    "\n",
    "where $d(z_i, z_j^*)^p$ is the distance between source feature $z_i$ and target feature $z_j^*$. When $p = 1$, this distance becomes the Earth Mover’s Distance [Rubner et al., 1998], and when \\( p = 2 \\), it becomes the quadratic Wasserstein distance.\n",
    "\n",
    "The transport plan $\\gamma \\in U(\\mu, \\nu)$ is a joint probability distribution between $\\mu$ and $\\nu$, where the set of admissible transport plans $U(\\mu, \\nu)$ is defined by the marginal constraints:\n",
    "\n",
    "$$\n",
    "\\sum_j \\gamma_{ij} = \\mu_i, \\quad \\sum_i \\gamma_{ij} = \\nu_j. \\tag{4}\n",
    "$$\n",
    "\n",
    "Much of the expense in the regularized OT problem is finding measures that satisfy these constraints. The entropy $H(\\gamma) = -\\sum_{i,j} \\gamma_{ij} \\log \\gamma_{ij}$ regularizes the transport plan $\\gamma$, and $\\sigma$ controls the regularization strength (this is sometimes referred to as the \"blur\" parameter). One limitation of $\\text{OT}_\\sigma$ is that $\\text{OT}_\\sigma(\\mu, \\mu) \\ne 0$, implying a non-zero cost even when transporting a distribution to itself, leading to bias in the measure.\n",
    "\n",
    "To correct this bias, the Sinkhorn divergence $S_\\sigma(\\mu, \\nu)$ is defined as\n",
    "\n",
    "$$\n",
    "S_\\sigma(\\mu, \\nu) = \\text{OT}_\\sigma(\\mu, \\nu) - \\frac{1}{2} \\text{OT}_\\sigma(\\mu, \\mu) - \\frac{1}{2} \\text{OT}_\\sigma(\\nu, \\nu), \\tag{5}\n",
    "$$\n",
    "\n",
    "a linear combination of $\\text{OT}_\\sigma$ terms. It can correct for this bias [Feydy et al., 2018]. As $\\sigma \\to 0$, $S_\\sigma(\\mu, \\nu)$ converges to the (unbiased) optimal transport $\\text{OT}_0$, and as $\\sigma \\to \\infty$, it interpolates towards MMD loss [Feydy et al., 2018]. For small values of $\\sigma$, an unbiased transport plan that still enjoys the benefits of OT-based distances can be constructed. We're now ready for our full loss function:\n",
    "\n",
    "$$\n",
    "\\mathcal{L} = \\mathcal{L}_{\\text{CE}}(y_s, \\hat{y}_s) + \\lambda \\cdot S_\\sigma(z, z^*),\n",
    "$$\n",
    "\n",
    "where $\\lambda$ dictates the strength of the DA loss term.\n",
    "\n",
    "A few understanding checks before we move forward:\n",
    "* Double check that the Sinkhorn Divergence is unbiased: $S_\\sigma(\\mu, \\mu) = S_\\sigma(\\nu, \\nu) = 0$. What would happen if you performed DA with a biased measure ($\\text{OT}(\\mu, \\nu)$)?\n",
    "* There is one hyperparameter here. What is the reason for having $\\sigma \\to 0$ vs. $\\sigma \\to \\infty$? Read about [Sinkhorn's algorithm](https://lucyliu-ucsb.github.io/posts/Sinkhorn-algorithm/) and think also about computational complexity / speed.\n",
    "* What would happen when training with $\\lambda \\to 0$. What about $\\lambda = 1$ and $\\lambda \\gg 1$?\n",
    "\n",
    "Our focus for these next code blocks will be the $\\lambda$ term and one technique to finding the optimal balance between the primary learning objective and DA. Lets start with $\\lambda = 0.1$. We will use a fixed value of $\\sigma = 10$."
   ]
  },
  {
   "cell_type": "code",
   "execution_count": null,
   "id": "6c903675",
   "metadata": {},
   "outputs": [
    {
     "name": "stdout",
     "output_type": "stream",
     "text": [
      "Using device: cpu\n"
     ]
    },
    {
     "name": "stderr",
     "output_type": "stream",
     "text": [
      " 17%|█▋        | 1/6 [00:33<02:47, 33.59s/it]"
     ]
    },
    {
     "name": "stdout",
     "output_type": "stream",
     "text": [
      "Epoch [1/6], CE Loss: 0.9172, DA Loss: 67.1225 Source Acc: 72.60%, Target Acc: 73.67%\n"
     ]
    },
    {
     "name": "stderr",
     "output_type": "stream",
     "text": [
      " 33%|███▎      | 2/6 [01:08<02:16, 34.13s/it]"
     ]
    },
    {
     "name": "stdout",
     "output_type": "stream",
     "text": [
      "Epoch [2/6], CE Loss: 0.8528, DA Loss: 1.7546 Source Acc: 72.98%, Target Acc: 74.31%\n"
     ]
    },
    {
     "name": "stderr",
     "output_type": "stream",
     "text": [
      " 50%|█████     | 3/6 [01:38<01:37, 32.48s/it]"
     ]
    },
    {
     "name": "stdout",
     "output_type": "stream",
     "text": [
      "Epoch [3/6], CE Loss: 0.7179, DA Loss: 1.1282 Source Acc: 73.58%, Target Acc: 73.93%\n"
     ]
    },
    {
     "name": "stderr",
     "output_type": "stream",
     "text": [
      " 67%|██████▋   | 4/6 [02:09<01:03, 31.73s/it]"
     ]
    },
    {
     "name": "stdout",
     "output_type": "stream",
     "text": [
      "Epoch [4/6], CE Loss: 0.6132, DA Loss: 0.9010 Source Acc: 76.24%, Target Acc: 76.42%\n"
     ]
    },
    {
     "name": "stderr",
     "output_type": "stream",
     "text": [
      " 83%|████████▎ | 5/6 [02:40<00:31, 31.45s/it]"
     ]
    },
    {
     "name": "stdout",
     "output_type": "stream",
     "text": [
      "Epoch [5/6], CE Loss: 0.5553, DA Loss: 0.7335 Source Acc: 77.54%, Target Acc: 78.36%\n"
     ]
    },
    {
     "name": "stderr",
     "output_type": "stream",
     "text": [
      "100%|██████████| 6/6 [03:10<00:00, 31.80s/it]"
     ]
    },
    {
     "name": "stdout",
     "output_type": "stream",
     "text": [
      "Epoch [6/6], CE Loss: 0.5095, DA Loss: 0.6927 Source Acc: 80.00%, Target Acc: 79.63%\n"
     ]
    },
    {
     "name": "stderr",
     "output_type": "stream",
     "text": [
      "\n"
     ]
    }
   ],
   "source": [
    "device = torch.device(\"cuda\" if torch.cuda.is_available() else \"cpu\")\n",
    "print(\"Using device:\", device)\n",
    "DA_model = CNN().to(device)\n",
    "\n",
    "num_epochs = 6\n",
    "criterion = nn.CrossEntropyLoss()\n",
    "optimizer = optim.AdamW(DA_model.parameters(), lr=1e-3)\n",
    "lambda_DA = 0.1\n",
    "\n",
    "## TO DO ## \n",
    "# Initialize geomloss_fn with Sinkhorn divergence, with the Wasserstein distance cost function and blur ~ 10; tune as needed.\n",
    "# See https://www.kernel-operations.io/geomloss/api/pytorch-api.html for guidance and syntax.\n",
    "geomloss_fn = None\n",
    "\n",
    "best_model = None\n",
    "best_loss = float('inf')\n",
    "\n",
    "# Training loop for Domain Adaptation\n",
    "for epoch in tqdm(range(num_epochs)):\n",
    "    DA_model.train()\n",
    "    running_loss, correct_s, correct_t, total_s, total_t = 0.0, 0, 0, 0, 0\n",
    "    running_DA, running_CE = 0.0, 0.0\n",
    "\n",
    "    # Loop over source and target datasets\n",
    "    for (source_imgs, source_labels), (target_imgs, target_labels) in zip(source_train_loader, target_train_loader):\n",
    "        source_imgs, source_labels = source_imgs.to(device), source_labels.to(device)\n",
    "        target_imgs, target_labels = target_imgs.to(device), target_labels.to(device)\n",
    "        source_imgs, target_imgs = source_imgs.float(), target_imgs.float()\n",
    "        \n",
    "        source_labels = torch.tensor([label_map[int(l)] for l in source_labels], device=device)\n",
    "        target_labels = torch.tensor([label_map[int(l)] for l in target_labels], device=device)\n",
    "\n",
    "        # Forward pass\n",
    "        combined_imgs = torch.cat([source_imgs, target_imgs], dim=0)\n",
    "        logits, z = DA_model(combined_imgs)\n",
    "\n",
    "        # Isolate latents\n",
    "        z_s, z_t = z[:source_imgs.size(0)], z[source_imgs.size(0):]\n",
    "        logits_s = logits[:source_imgs.size(0)]\n",
    "        logits_t = logits[source_imgs.size(0):]\n",
    "\n",
    "        # Compute losses\n",
    "        ce_loss = criterion(logits_s, source_labels)\n",
    "        DA_loss = geomloss_fn(z_s, z_t) \n",
    "        total_loss = ce_loss + lambda_DA * DA_loss\n",
    "        \n",
    "        # Model saving\n",
    "        if total_loss.item() < best_loss:\n",
    "            best_loss = total_loss.item()\n",
    "            best_model = copy.deepcopy(DA_model.state_dict())\n",
    "\n",
    "\n",
    "        # Backward pass\n",
    "        optimizer.zero_grad()\n",
    "        total_loss.backward()\n",
    "        optimizer.step()\n",
    "\n",
    "        # Track training stats\n",
    "        running_loss += total_loss.item()\n",
    "        running_CE += ce_loss.item()\n",
    "        running_DA += DA_loss.item()\n",
    "        _, predicted_s = logits_s.max(1)\n",
    "        total_s += source_labels.size(0)\n",
    "        correct_s += predicted_s.eq(source_labels).sum().item()\n",
    "        _, predicted_t = logits_t.max(1)\n",
    "        total_t += target_labels.size(0)\n",
    "        correct_t += predicted_t.eq(target_labels).sum().item()\n",
    "\n",
    "    print(f\"Epoch [{epoch+1}/{num_epochs}], CE Loss: {running_CE/len(source_train_loader):.4f}, DA Loss: {running_DA/len(source_train_loader):.4f} Source Acc: {100*correct_s/total_s:.2f}%, Target Acc: {100*correct_t/total_t:.2f}%\")"
   ]
  },
  {
   "cell_type": "code",
   "execution_count": 59,
   "id": "15d46661",
   "metadata": {},
   "outputs": [
    {
     "name": "stdout",
     "output_type": "stream",
     "text": [
      "Accuracy on source domain (SDSS): 80.10%\n",
      "Accuracy on target domain (DESI): 79.70%\n"
     ]
    }
   ],
   "source": [
    "# Test on source domain (SDSS)\n",
    "DA_model.load_state_dict(best_model)\n",
    "source_accuracy = test_model(DA_model, source_test_loader, device)\n",
    "print(f\"Accuracy on source domain (SDSS): {source_accuracy:.2f}%\")\n",
    "\n",
    "# Test on target domain (DESI)\n",
    "target_accuracy = test_model(DA_model, target_test_loader, device)\n",
    "print(f\"Accuracy on target domain (DESI): {target_accuracy:.2f}%\")"
   ]
  },
  {
   "cell_type": "markdown",
   "id": "6f391134",
   "metadata": {},
   "source": [
    "Ok, so some improvement in the target domain here. But also, notice that the source domain performance dropped! In this case, the DA term is probably slightly overweighed. Just to send the point home, let's then test with a much larger $\\lambda$ value ($\\lambda \\gg 1$)."
   ]
  },
  {
   "cell_type": "code",
   "execution_count": 60,
   "id": "90d69beb",
   "metadata": {},
   "outputs": [
    {
     "name": "stdout",
     "output_type": "stream",
     "text": [
      "Using device: cpu\n"
     ]
    },
    {
     "name": "stderr",
     "output_type": "stream",
     "text": [
      " 17%|█▋        | 1/6 [00:35<02:55, 35.19s/it]"
     ]
    },
    {
     "name": "stdout",
     "output_type": "stream",
     "text": [
      "Epoch [1/6], CE Loss: 0.9104, DA Loss: 53.7946 Source Acc: 72.14%, Target Acc: 73.20%\n"
     ]
    },
    {
     "name": "stderr",
     "output_type": "stream",
     "text": [
      " 33%|███▎      | 2/6 [01:10<02:21, 35.36s/it]"
     ]
    },
    {
     "name": "stdout",
     "output_type": "stream",
     "text": [
      "Epoch [2/6], CE Loss: 0.8809, DA Loss: 1.6699 Source Acc: 72.96%, Target Acc: 74.53%\n"
     ]
    },
    {
     "name": "stderr",
     "output_type": "stream",
     "text": [
      " 50%|█████     | 3/6 [01:49<01:50, 36.77s/it]"
     ]
    },
    {
     "name": "stdout",
     "output_type": "stream",
     "text": [
      "Epoch [3/6], CE Loss: 0.8671, DA Loss: 0.7259 Source Acc: 73.00%, Target Acc: 73.66%\n"
     ]
    },
    {
     "name": "stderr",
     "output_type": "stream",
     "text": [
      " 67%|██████▋   | 4/6 [02:24<01:12, 36.03s/it]"
     ]
    },
    {
     "name": "stdout",
     "output_type": "stream",
     "text": [
      "Epoch [4/6], CE Loss: 0.8474, DA Loss: 0.5262 Source Acc: 73.24%, Target Acc: 74.03%\n"
     ]
    },
    {
     "name": "stderr",
     "output_type": "stream",
     "text": [
      " 83%|████████▎ | 5/6 [02:57<00:35, 35.29s/it]"
     ]
    },
    {
     "name": "stdout",
     "output_type": "stream",
     "text": [
      "Epoch [5/6], CE Loss: 0.8530, DA Loss: 0.4166 Source Acc: 73.08%, Target Acc: 74.78%\n"
     ]
    },
    {
     "name": "stderr",
     "output_type": "stream",
     "text": [
      "100%|██████████| 6/6 [03:35<00:00, 35.93s/it]"
     ]
    },
    {
     "name": "stdout",
     "output_type": "stream",
     "text": [
      "Epoch [6/6], CE Loss: 0.8488, DA Loss: 0.3064 Source Acc: 73.20%, Target Acc: 73.16%\n"
     ]
    },
    {
     "name": "stderr",
     "output_type": "stream",
     "text": [
      "\n"
     ]
    }
   ],
   "source": [
    "device = torch.device(\"cuda\" if torch.cuda.is_available() else \"cpu\")\n",
    "print(\"Using device:\", device)\n",
    "DA_model = CNN().to(device)\n",
    "\n",
    "num_epochs = 6\n",
    "criterion = nn.CrossEntropyLoss()\n",
    "optimizer = optim.AdamW(DA_model.parameters(), lr=1e-3)\n",
    "lambda_DA = 1000\n",
    "geomloss_fn = SamplesLoss(\"sinkhorn\", p=2, blur=10)\n",
    "best_model = None\n",
    "best_loss = float('inf')\n",
    "\n",
    "# Training loop for Domain Adaptation\n",
    "for epoch in tqdm(range(num_epochs)):\n",
    "    DA_model.train()\n",
    "    running_loss, correct_s, correct_t, total_s, total_t = 0.0, 0, 0, 0, 0\n",
    "    running_DA, running_CE = 0.0, 0.0\n",
    "\n",
    "    # Loop over source and target datasets\n",
    "    for (source_imgs, source_labels), (target_imgs, target_labels) in zip(source_train_loader, target_train_loader):\n",
    "        source_imgs, source_labels = source_imgs.to(device), source_labels.to(device)\n",
    "        target_imgs, target_labels = target_imgs.to(device), target_labels.to(device)\n",
    "        source_imgs, target_imgs = source_imgs.float(), target_imgs.float()\n",
    "        \n",
    "        source_labels = torch.tensor([label_map[int(l)] for l in source_labels], device=device)\n",
    "        target_labels = torch.tensor([label_map[int(l)] for l in target_labels], device=device)\n",
    "\n",
    "        # Forward pass\n",
    "        combined_imgs = torch.cat([source_imgs, target_imgs], dim=0)\n",
    "        logits, z = DA_model(combined_imgs)\n",
    "\n",
    "        # Split latents\n",
    "        z_s, z_t = z[:source_imgs.size(0)], z[source_imgs.size(0):]\n",
    "        logits_s = logits[:source_imgs.size(0)]\n",
    "        logits_t = logits[source_imgs.size(0):]\n",
    "\n",
    "        # Compute losses\n",
    "        ce_loss = criterion(logits_s, source_labels)\n",
    "        DA_loss = geomloss_fn(z_s, z_t) \n",
    "        total_loss = ce_loss + lambda_DA * DA_loss\n",
    "        \n",
    "        # Model saving\n",
    "        if total_loss.item() < best_loss:\n",
    "            best_loss = total_loss.item()\n",
    "            best_model = copy.deepcopy(DA_model.state_dict())\n",
    "\n",
    "\n",
    "        # Backward pass\n",
    "        optimizer.zero_grad()\n",
    "        total_loss.backward()\n",
    "        optimizer.step()\n",
    "\n",
    "        # Track training stats\n",
    "        running_loss += total_loss.item()\n",
    "        running_CE += ce_loss.item()\n",
    "        running_DA += DA_loss.item()\n",
    "        _, predicted_s = logits_s.max(1)\n",
    "        total_s += source_labels.size(0)\n",
    "        correct_s += predicted_s.eq(source_labels).sum().item()\n",
    "        _, predicted_t = logits_t.max(1)\n",
    "        total_t += target_labels.size(0)\n",
    "        correct_t += predicted_t.eq(target_labels).sum().item()\n",
    "\n",
    "    print(f\"Epoch [{epoch+1}/{num_epochs}], CE Loss: {running_CE/len(source_train_loader):.4f}, DA Loss: {running_DA/len(source_train_loader):.4f} Source Acc: {100*correct_s/total_s:.2f}%, Target Acc: {100*correct_t/total_t:.2f}%\")"
   ]
  },
  {
   "cell_type": "code",
   "execution_count": 61,
   "id": "6b483248",
   "metadata": {},
   "outputs": [
    {
     "name": "stdout",
     "output_type": "stream",
     "text": [
      "Accuracy on source domain (SDSS): 75.00%\n",
      "Accuracy on target domain (DESI): 75.79%\n"
     ]
    }
   ],
   "source": [
    "# Test on source domain (SDSS)\n",
    "DA_model.load_state_dict(best_model)\n",
    "source_accuracy = test_model(DA_model, source_test_loader, device)\n",
    "print(f\"Accuracy on source domain (SDSS): {source_accuracy:.2f}%\")\n",
    "\n",
    "# Test on target domain (DESI)\n",
    "target_accuracy = test_model(DA_model, target_test_loader, device)\n",
    "print(f\"Accuracy on target domain (DESI): {target_accuracy:.2f}%\")"
   ]
  },
  {
   "cell_type": "markdown",
   "id": "e117d60e",
   "metadata": {},
   "source": [
    "The source domain performance dropped significantly, and the target domain performance is also low. Keep in mind that we would not expect a model trained with DA to outperform the source domain. So while we must focus on domain alignment, it shouldn't come at the expense of the primarily learning objective, whether it be classification or regression.\n",
    "\n",
    "A reasonable guess would then be that $\\lambda$ should be less than 1, but it is hard to guess a priori whether it should be $\\mathcal{O}(0.1)$, $\\mathcal{O}(0.01)$, etc. To be sure, we'd have to sample $\\lambda \\sim \\text{LogUniform}$ and then refine from there, which can be difficult. Even then, that would only apply for this dataset, and not MNIST in Tutorial 1, or any other dataset. \n",
    "\n",
    "So how can we be certain we're doing things optimally? What one would usually think to do in this case is some sort of search, trying out different values of $\\lambda$ within an appropriate range and seeing what works best. But even then, the results could be sensitive to the choice of seed, so you should marginalize over multiple realizations and make it a grid search. But also, we haven't even thought about what to do with $\\sigma$, which is important as well, so maybe a cube search...?\n",
    "\n",
    "I think you see where this is going. There's a lot of things that are important here. Here, I'll talk about a *trainable* way to avoid the $\\lambda$ search, using an idea from Bayesian inference. See [this paper](https://arxiv.org/abs/1705.07115).\n",
    "\n",
    "The overall idea is two introduce trainable coefficients for the two loss terms. Let us introduce two trainable scalar parameters $\\eta_1$ and $\\eta_2$, and define the following loss function:\n",
    "\n",
    "$$\n",
    "\\mathcal{L} = \\frac{1}{2 \\eta_1^2} \\mathcal{L}_\\text{CE} + \\frac{1}{2 \\eta_2^2} \\mathcal{L}_\\text{DA} + \\log(|\\eta_1 \\eta_2|) \n",
    "$$\n",
    "\n",
    "These values can then be optimized jointly with the model parameters, avoiding the need for a user-specified weighting for the loss terms.\n",
    "\n",
    "Let's think about this loss function before proceeding: \n",
    "\n",
    "* What happens to each loss term as its corresponding $\\eta_i \\to 0$.\n",
    "* What does the third term $\\log(|\\eta_1 \\eta_2|)$ do?\n",
    "* We saw that strongly preffering $\\mathcal{L}_\\text{DA}$ over $\\mathcal{L}_\\text{CE}$ will result in bad performance, and that we probably want $\\eta_2^{-2} < 2$. This trainable prescription does not know a priori that doing so is bad. Is there any way to enforce this? *Hint*: Think about what range the parameters should be in, initializing them properly and governing their time evolution."
   ]
  },
  {
   "cell_type": "code",
   "execution_count": null,
   "id": "e33780c5",
   "metadata": {},
   "outputs": [
    {
     "name": "stdout",
     "output_type": "stream",
     "text": [
      "Using device: cpu\n"
     ]
    },
    {
     "name": "stderr",
     "output_type": "stream",
     "text": [
      " 17%|█▋        | 1/6 [00:35<02:57, 35.55s/it]"
     ]
    },
    {
     "name": "stdout",
     "output_type": "stream",
     "text": [
      "Epoch [1/6], CE Loss: 0.8211, DA Loss: 53.8375 Source Acc: 72.72%, Target Acc: 74.25% eta_1: 0.15483352541923523 eta_2: 1.0123703479766846\n"
     ]
    },
    {
     "name": "stderr",
     "output_type": "stream",
     "text": [
      " 33%|███▎      | 2/6 [01:11<02:23, 35.85s/it]"
     ]
    },
    {
     "name": "stdout",
     "output_type": "stream",
     "text": [
      "Epoch [2/6], CE Loss: 0.6194, DA Loss: 1.8429 Source Acc: 76.04%, Target Acc: 78.26% eta_1: 0.18175508081912994 eta_2: 1.012046217918396\n"
     ]
    },
    {
     "name": "stderr",
     "output_type": "stream",
     "text": [
      " 50%|█████     | 3/6 [01:44<01:44, 34.73s/it]"
     ]
    },
    {
     "name": "stdout",
     "output_type": "stream",
     "text": [
      "Epoch [3/6], CE Loss: 0.5457, DA Loss: 1.0786 Source Acc: 79.74%, Target Acc: 81.63% eta_1: 0.20137275755405426 eta_2: 1.0113070011138916\n"
     ]
    },
    {
     "name": "stderr",
     "output_type": "stream",
     "text": [
      " 67%|██████▋   | 4/6 [02:17<01:07, 33.76s/it]"
     ]
    },
    {
     "name": "stdout",
     "output_type": "stream",
     "text": [
      "Epoch [4/6], CE Loss: 0.5062, DA Loss: 0.7053 Source Acc: 81.44%, Target Acc: 82.28% eta_1: 0.21748045086860657 eta_2: 1.0102862119674683\n"
     ]
    },
    {
     "name": "stderr",
     "output_type": "stream",
     "text": [
      " 83%|████████▎ | 5/6 [02:50<00:33, 33.47s/it]"
     ]
    },
    {
     "name": "stdout",
     "output_type": "stream",
     "text": [
      "Epoch [5/6], CE Loss: 0.4727, DA Loss: 0.4756 Source Acc: 83.42%, Target Acc: 82.61% eta_1: 0.23108986020088196 eta_2: 1.009029507637024\n"
     ]
    },
    {
     "name": "stderr",
     "output_type": "stream",
     "text": [
      "100%|██████████| 6/6 [03:26<00:00, 34.36s/it]"
     ]
    },
    {
     "name": "stdout",
     "output_type": "stream",
     "text": [
      "Epoch [6/6], CE Loss: 0.4436, DA Loss: 0.4301 Source Acc: 83.48%, Target Acc: 82.77% eta_1: 0.24316373467445374 eta_2: 1.0076370239257812\n"
     ]
    },
    {
     "name": "stderr",
     "output_type": "stream",
     "text": [
      "\n"
     ]
    }
   ],
   "source": [
    "device = torch.device(\"cuda\" if torch.cuda.is_available() else \"cpu\")\n",
    "print(\"Using device:\", device)\n",
    "DA_model = CNN().to(device)\n",
    "\n",
    "num_epochs = 6\n",
    "criterion = nn.CrossEntropyLoss()\n",
    "optimizer = optim.AdamW(DA_model.parameters(), lr=1e-3)\n",
    "geomloss_fn = SamplesLoss(\"sinkhorn\", p=2, blur=10)\n",
    "best_model = None\n",
    "best_loss = float('inf')\n",
    "\n",
    "## TO DO ##\n",
    "# Initialize trainable coefficients eta_1 and eta_2 using nn.Parameter. \n",
    "# I recommend starting with eta_1 = 0.1 and eta_2 = 1.0, both requiring gradients. Make sure you understand why they are initialized differently.\n",
    "eta_1 = None\n",
    "eta_2 = None\n",
    "\n",
    "## TO DO ##\n",
    "# The optimizer naively will only optimize the model parameters. Add the trainable coefficients eta_1 and eta_2 to the optimizer using `add_param_group`\n",
    "...\n",
    "\n",
    "# Training loop\n",
    "for epoch in tqdm(range(num_epochs)):\n",
    "    DA_model.train()\n",
    "    running_loss, correct_s, correct_t, total_s, total_t = 0.0, 0, 0, 0, 0\n",
    "    running_DA, running_CE = 0.0, 0.0\n",
    "\n",
    "    # Loop over source and target datasets\n",
    "    for (source_imgs, source_labels), (target_imgs, target_labels) in zip(source_train_loader, target_train_loader):\n",
    "        source_imgs, source_labels = source_imgs.to(device), source_labels.to(device)\n",
    "        target_imgs, target_labels = target_imgs.to(device), target_labels.to(device)\n",
    "        source_imgs, target_imgs = source_imgs.float(), target_imgs.float()\n",
    "\n",
    "        source_labels = torch.tensor([label_map[int(l)] for l in source_labels], device=device)\n",
    "        target_labels = torch.tensor([label_map[int(l)] for l in target_labels], device=device)\n",
    "        \n",
    "        # Forward pass\n",
    "        combined_imgs = torch.cat([source_imgs, target_imgs], dim=0)\n",
    "        logits, z = DA_model(combined_imgs)\n",
    "\n",
    "        # Split latents and outputs\n",
    "        z_s, z_t = z[:source_imgs.size(0)], z[source_imgs.size(0):]\n",
    "        logits_s = logits[:source_imgs.size(0)]\n",
    "        logits_t = logits[source_imgs.size(0):]\n",
    "\n",
    "        # Compute losses\n",
    "        ce_loss = criterion(logits_s, source_labels)\n",
    "        DA_loss = geomloss_fn(z_s, z_t) \n",
    "        ## TO DO ##\n",
    "        # Compute the total loss using the trainable coefficients eta_1 and eta_2 and the function described above.\n",
    "        total_loss = None\n",
    "        \n",
    "        # Model saving\n",
    "        if total_loss.item() < best_loss:\n",
    "            best_loss = total_loss.item()\n",
    "            best_model = copy.deepcopy(DA_model.state_dict())\n",
    "\n",
    "        # Backward pass\n",
    "        optimizer.zero_grad()\n",
    "        total_loss.backward()\n",
    "        torch.nn.utils.clip_grad_norm_(DA_model.parameters(), max_norm=10.0)\n",
    "        \n",
    "        ## TO DO ##\n",
    "        # Clamp eta_1 and eta_2 using x.data.clamp for x \\in {eta_1, eta_2} as discussed above. I recommend letting eta_1 be at least 1e-3 and eta_2 be at least 0.25 * eta_1.\n",
    "        ...\n",
    "        \n",
    "        optimizer.step()\n",
    "\n",
    "        # Track training stats\n",
    "        running_loss += total_loss.item()\n",
    "        running_CE += ce_loss.item()\n",
    "        running_DA += DA_loss.item()\n",
    "        _, predicted_s = logits_s.max(1)\n",
    "        total_s += source_labels.size(0)\n",
    "        correct_s += predicted_s.eq(source_labels).sum().item()\n",
    "        _, predicted_t = logits_t.max(1)\n",
    "        total_t += target_labels.size(0)\n",
    "        correct_t += predicted_t.eq(target_labels).sum().item()\n",
    "\n",
    "    print(f\"Epoch [{epoch+1}/{num_epochs}], CE Loss: {running_CE/len(source_train_loader):.4f}, DA Loss: {running_DA/len(source_train_loader):.4f} Source Acc: {100*correct_s/total_s:.2f}%, Target Acc: {100*correct_t/total_t:.2f}%\", \"eta_1:\", eta_1.item(), \"eta_2:\", eta_2.item())"
   ]
  },
  {
   "cell_type": "code",
   "execution_count": 63,
   "id": "47051e14",
   "metadata": {},
   "outputs": [
    {
     "name": "stdout",
     "output_type": "stream",
     "text": [
      "Accuracy on source domain (SDSS): 84.40%\n",
      "Accuracy on target domain (DESI): 84.39%\n"
     ]
    }
   ],
   "source": [
    "# Test on source domain (SDSS)\n",
    "DA_model.load_state_dict(best_model)\n",
    "source_accuracy = test_model(DA_model, source_test_loader, device)\n",
    "print(f\"Accuracy on source domain (SDSS): {source_accuracy:.2f}%\")\n",
    "\n",
    "# Test on target domain (DESI)\n",
    "target_accuracy = test_model(DA_model, target_test_loader, device)\n",
    "print(f\"Accuracy on target domain (DESI): {target_accuracy:.2f}%\")"
   ]
  },
  {
   "cell_type": "markdown",
   "id": "a7d26b64",
   "metadata": {},
   "source": [
    "In this case you've seen that we've improved both the source and target performance (compared to no-DA), though slightly, without any grid search whatsoever! This trainable prescription largely avoided the need to tune these hyperparameters. Keep in mind we did use some inductive bias: we initialized the $\\eta_i$ differently (think as to why we did this), and clipped them in some reasonable way. This was simply to give the parameters a nudge in the right direction.\n",
    "\n",
    "The last thing we want to study is our treatment of $\\sigma$. In the last experiments, we used a fixed value of $\\sigma = 10$, but now lets think about the assumption that a single value of $\\sigma$ is optimal. It may not be.\n",
    "\n",
    "Keep in mind that as $\\sigma \\to 0$ the Sinkhorn plan interpolates closer to $\\text{OT}_0$, and $\\sigma \\to \\infty$ interpolates closer to MMD. Further, MMD is cheaper to compute than $\\text{OT}_0$ (fewer Sinkhorn iterations), but $\\text{OT}_0$ is more accurate. Even then, as $\\sigma$ gets smaller that means more Sinkhorn iterations, which can lead to instability (and bias). So how can we optimize computational efficiency and domain alignment accuracy? \n",
    "\n",
    "Let's now try a simple annealing scheme, so that $\\sigma$ is larger at the beginning of training, when the latent spaces are very misaligned, and smaller at the end, when we want to really focus on domain alignment.\n",
    "\n",
    "Consider the $\\sigma$ scheduler given by:\n",
    "\n",
    "$$\n",
    "\\sigma = 10 * 0.4^\\ell \\quad \\text{where} \\; \\ell \\; \\text{is epoch number}\n",
    "$$\n",
    "\n",
    "We will test this below."
   ]
  },
  {
   "cell_type": "code",
   "execution_count": null,
   "id": "63ed88c3",
   "metadata": {},
   "outputs": [
    {
     "name": "stdout",
     "output_type": "stream",
     "text": [
      "Using device: cpu\n"
     ]
    },
    {
     "name": "stderr",
     "output_type": "stream",
     "text": [
      " 17%|█▋        | 1/6 [00:38<03:14, 38.90s/it]"
     ]
    },
    {
     "name": "stdout",
     "output_type": "stream",
     "text": [
      "Epoch [1/6], CE Loss: 0.8582, DA Loss: 45.9193 Source Acc: 72.42%, Target Acc: 73.64% eta_1: 0.15499429404735565 eta_2: 1.0114336013793945\n"
     ]
    },
    {
     "name": "stderr",
     "output_type": "stream",
     "text": [
      " 33%|███▎      | 2/6 [01:16<02:31, 37.87s/it]"
     ]
    },
    {
     "name": "stdout",
     "output_type": "stream",
     "text": [
      "Epoch [2/6], CE Loss: 0.6069, DA Loss: 1.7776 Source Acc: 75.98%, Target Acc: 76.66% eta_1: 0.1802518665790558 eta_2: 1.0110665559768677\n"
     ]
    },
    {
     "name": "stderr",
     "output_type": "stream",
     "text": [
      " 50%|█████     | 3/6 [01:49<01:47, 36.00s/it]"
     ]
    },
    {
     "name": "stdout",
     "output_type": "stream",
     "text": [
      "Epoch [3/6], CE Loss: 0.4972, DA Loss: 0.9364 Source Acc: 81.48%, Target Acc: 80.64% eta_1: 0.19823439419269562 eta_2: 1.010250210762024\n"
     ]
    },
    {
     "name": "stderr",
     "output_type": "stream",
     "text": [
      " 67%|██████▋   | 4/6 [02:25<01:11, 35.74s/it]"
     ]
    },
    {
     "name": "stdout",
     "output_type": "stream",
     "text": [
      "Epoch [4/6], CE Loss: 0.4988, DA Loss: 0.9909 Source Acc: 81.42%, Target Acc: 80.85% eta_1: 0.21373434364795685 eta_2: 1.0094103813171387\n"
     ]
    },
    {
     "name": "stderr",
     "output_type": "stream",
     "text": [
      " 83%|████████▎ | 5/6 [02:58<00:34, 34.77s/it]"
     ]
    },
    {
     "name": "stdout",
     "output_type": "stream",
     "text": [
      "Epoch [5/6], CE Loss: 0.4750, DA Loss: 1.0282 Source Acc: 82.24%, Target Acc: 80.99% eta_1: 0.22826483845710754 eta_2: 1.0086525678634644\n"
     ]
    },
    {
     "name": "stderr",
     "output_type": "stream",
     "text": [
      "100%|██████████| 6/6 [03:31<00:00, 35.23s/it]"
     ]
    },
    {
     "name": "stdout",
     "output_type": "stream",
     "text": [
      "Epoch [6/6], CE Loss: 0.4404, DA Loss: 0.8600 Source Acc: 83.44%, Target Acc: 80.26% eta_1: 0.2398659884929657 eta_2: 1.0076483488082886\n"
     ]
    },
    {
     "name": "stderr",
     "output_type": "stream",
     "text": [
      "\n"
     ]
    }
   ],
   "source": [
    "device = torch.device(\"cuda\" if torch.cuda.is_available() else \"cpu\")\n",
    "print(\"Using device:\", device)\n",
    "DA_model = CNN().to(device)\n",
    "\n",
    "num_epochs = 6\n",
    "criterion = nn.CrossEntropyLoss()\n",
    "optimizer = optim.AdamW(DA_model.parameters(), lr=1e-3)\n",
    "geomloss_fn = SamplesLoss(\"sinkhorn\", p=2, blur=10) # GeomLoss with Sinkhorn distance, p=2, blur ~ σ; tune as needed\n",
    "best_model = None\n",
    "best_loss = float('inf')\n",
    "\n",
    "## initialize trainable coefficients\n",
    "eta_1 = nn.Parameter(torch.tensor(0.1, requires_grad=True))\n",
    "eta_2 = nn.Parameter(torch.tensor(1.0, requires_grad=True))\n",
    "\n",
    "optimizer.add_param_group({\"params\": [eta_1, eta_2]})\n",
    "\n",
    "# Training loop\n",
    "for epoch in tqdm(range(num_epochs)):\n",
    "    DA_model.train()\n",
    "    running_loss, correct_s, correct_t, total_s, total_t = 0.0, 0, 0, 0, 0\n",
    "    running_DA, running_CE = 0.0, 0.0\n",
    "\n",
    "    # Loop over source and target datasets\n",
    "    for (source_imgs, source_labels), (target_imgs, target_labels) in zip(source_train_loader, target_train_loader):\n",
    "        source_imgs, source_labels = source_imgs.to(device), source_labels.to(device)\n",
    "        target_imgs, target_labels = target_imgs.to(device), target_labels.to(device)\n",
    "        source_imgs, target_imgs = source_imgs.float(), target_imgs.float()\n",
    "        \n",
    "        source_labels = torch.tensor([label_map[int(l)] for l in source_labels], device=device)\n",
    "        target_labels = torch.tensor([label_map[int(l)] for l in target_labels], device=device)\n",
    "\n",
    "        # Forward pass\n",
    "        combined_imgs = torch.cat([source_imgs, target_imgs], dim=0)\n",
    "        logits, z = DA_model(combined_imgs)\n",
    "\n",
    "        # Split latents and outputs\n",
    "        z_s, z_t = z[:source_imgs.size(0)], z[source_imgs.size(0):]\n",
    "        logits_s = logits[:source_imgs.size(0)]\n",
    "        logits_t = logits[source_imgs.size(0):]\n",
    "        \n",
    "        ## TO DO ##\n",
    "        # Compute dynamic blur based on epoch number using the equation above.\n",
    "        dynamic_blur = None\n",
    "\n",
    "        # Compute losses\n",
    "        ce_loss = criterion(logits_s, source_labels)\n",
    "        DA_loss = geomloss_fn = SamplesLoss(\"sinkhorn\", p=2, blur=dynamic_blur)(z_s, z_t)\n",
    "        total_loss = (2 * eta_1**2)**-1 * ce_loss + (2 * eta_2**2)**-1 * DA_loss + torch.log(eta_1 * eta_2)\n",
    "        \n",
    "        # Model saving\n",
    "        if total_loss.item() < best_loss:\n",
    "            best_loss = total_loss.item()\n",
    "            best_model = copy.deepcopy(DA_model.state_dict())\n",
    "\n",
    "        # Backward pass\n",
    "        optimizer.zero_grad()\n",
    "        total_loss.backward()\n",
    "        torch.nn.utils.clip_grad_norm_(DA_model.parameters(), max_norm=10.0)\n",
    "        eta_1.data.clamp_(min=1e-3)\n",
    "        eta_2.data.clamp_(min=0.25*eta_1.data.item())\n",
    "        optimizer.step()\n",
    "\n",
    "        # Track training stats\n",
    "        running_loss += total_loss.item()\n",
    "        running_CE += ce_loss.item()\n",
    "        running_DA += DA_loss.item()\n",
    "        _, predicted_s = logits_s.max(1)\n",
    "        total_s += source_labels.size(0)\n",
    "        correct_s += predicted_s.eq(source_labels).sum().item()\n",
    "        _, predicted_t = logits_t.max(1)\n",
    "        total_t += target_labels.size(0)\n",
    "        correct_t += predicted_t.eq(target_labels).sum().item()\n",
    "\n",
    "    print(f\"Epoch [{epoch+1}/{num_epochs}], CE Loss: {running_CE/len(source_train_loader):.4f}, DA Loss: {running_DA/len(source_train_loader):.4f} Source Acc: {100*correct_s/total_s:.2f}%, Target Acc: {100*correct_t/total_t:.2f}%\", \"eta_1:\", eta_1.item(), \"eta_2:\", eta_2.item())"
   ]
  },
  {
   "cell_type": "code",
   "execution_count": 65,
   "id": "27621377",
   "metadata": {},
   "outputs": [
    {
     "name": "stdout",
     "output_type": "stream",
     "text": [
      "Accuracy on source domain (SDSS): 86.30%\n",
      "Accuracy on target domain (DESI): 83.15%\n"
     ]
    }
   ],
   "source": [
    "# Test on source domain (SDSS)\n",
    "DA_model.load_state_dict(best_model)\n",
    "source_accuracy = test_model(DA_model, source_test_loader, device)\n",
    "print(f\"Accuracy on source domain (SDSS): {source_accuracy:.2f}%\")\n",
    "\n",
    "# Test on target domain (DESI)\n",
    "target_accuracy = test_model(DA_model, target_test_loader, device)\n",
    "print(f\"Accuracy on target domain (DESI): {target_accuracy:.2f}%\")"
   ]
  },
  {
   "cell_type": "markdown",
   "id": "191a14c1",
   "metadata": {},
   "source": [
    "The $\\sigma$ scheduler also helps! We can see an increase in the source domain peformance and similar performance in the target domain. There are, of course, numerous options for the time-evolution of $\\sigma$ during training. We have shown in [this paper](https://arxiv.org/abs/2501.14048) that a $\\sigma$ scheduler based on the 2-norm between latent spaces not only results in better performance on both domains, but is also significantly faster. Try to get creative and come up with your own scheduling for $\\sigma$.\n",
    "\n",
    "---\n",
    "\n",
    "If you've finished and want to play around with things further, here's some suggestions:\n",
    "\n",
    "* Track and plot the evolution of the $\\eta_i$ throughout training. What can you say about the training dynamics, and how / when $\\mathcal{L}_\\text{CE}$ and $\\mathcal{L}_\\text{DA}$ are preffered?\n",
    "* Compare the performance of the Sinkhorn divergence with $\\sigma \\to \\infty$ with a Gaussian MMD. You can compute both of these within `geomloss`. Which method performs better? Which is faster?\n",
    "* Visualize the latent space of all these models using isomaps (or UMAP or t-SNE).\n",
    "* Try implementing the scaling for $\\sigma$ as described in Equation 7 [here](https://arxiv.org/pdf/2501.14048). Be creative and think of others! Email me if you find something interesting.\n",
    "\n",
    "Thus concludes this tutorial. Happy coding!"
   ]
  },
  {
   "cell_type": "markdown",
   "id": "e228cdd9",
   "metadata": {},
   "source": []
  }
 ],
 "metadata": {
  "kernelspec": {
   "display_name": "venv-ml",
   "language": "python",
   "name": "python3"
  },
  "language_info": {
   "codemirror_mode": {
    "name": "ipython",
    "version": 3
   },
   "file_extension": ".py",
   "mimetype": "text/x-python",
   "name": "python",
   "nbconvert_exporter": "python",
   "pygments_lexer": "ipython3",
   "version": "3.9.6"
  }
 },
 "nbformat": 4,
 "nbformat_minor": 5
}
